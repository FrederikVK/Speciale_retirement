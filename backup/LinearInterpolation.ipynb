{
 "cells": [
  {
   "cell_type": "markdown",
   "metadata": {},
   "source": [
    "# Test of linear_interp in 1d"
   ]
  },
  {
   "cell_type": "markdown",
   "metadata": {},
   "source": [
    "## Setup"
   ]
  },
  {
   "cell_type": "code",
   "execution_count": 1,
   "metadata": {},
   "outputs": [],
   "source": [
    "from consav import runtools\n",
    "runtools.write_numba_config(disable=0,threads=8)"
   ]
  },
  {
   "cell_type": "code",
   "execution_count": 2,
   "metadata": {},
   "outputs": [],
   "source": [
    "# reload module each time cell is run\n",
    "%load_ext autoreload\n",
    "%autoreload 2"
   ]
  },
  {
   "cell_type": "code",
   "execution_count": 5,
   "metadata": {},
   "outputs": [],
   "source": [
    "import numpy as np\n",
    "import time\n",
    "from prettytable import PrettyTable\n",
    "import matplotlib.pyplot as plt\n",
    "import seaborn as sns\n",
    "from numba import njit, prange\n",
    "from scipy.interpolate import RegularGridInterpolator\n",
    "from consav import linear_interp\n",
    "import funs"
   ]
  },
  {
   "cell_type": "markdown",
   "metadata": {},
   "source": [
    "## Set up functions and grids"
   ]
  },
  {
   "cell_type": "code",
   "execution_count": 4,
   "metadata": {},
   "outputs": [],
   "source": [
    "# a. functions\n",
    "@njit\n",
    "def f(x1):\n",
    "    return x1**2\n",
    "\n",
    "@njit\n",
    "def fill_value(grid1,value):\n",
    "    for i in range(grid1.size):\n",
    "        value[i] = f(grid1[i])    \n",
    "\n",
    "@njit\n",
    "def grids_points_and_value(Nx1):\n",
    "\n",
    "    grid1 = np.linspace(low_x1,high_x1,Nx1)\n",
    "\n",
    "    value = np.empty(Nx1)\n",
    "    fill_value(grid1,value)\n",
    "    \n",
    "    return grid1,value\n",
    "\n",
    "# b. grid points and value\n",
    "Nx1 = 150\n",
    "low_x1,low_x2,low_x3 = 1.0,1.0,1.0\n",
    "high_x1,high_x2,high_x3 = 10.0,15.0,12.0\n",
    "grid1,value = grids_points_and_value(Nx1)"
   ]
  },
  {
   "cell_type": "markdown",
   "metadata": {},
   "source": [
    "## Timings"
   ]
  },
  {
   "cell_type": "code",
   "execution_count": 5,
   "metadata": {},
   "outputs": [],
   "source": [
    "# preparation\n",
    "Nyi = 1000000\n",
    "xi1 = np.sort(np.random.uniform(low=0.9*low_x2,high=1.1*high_x2,size=Nyi))\n",
    "yi = np.empty(Nyi)"
   ]
  },
  {
   "cell_type": "code",
   "execution_count": 6,
   "metadata": {},
   "outputs": [],
   "source": [
    "def scipy_interp(grid1,value,xi1,yi):\n",
    "    yi_scipy_interp = RegularGridInterpolator([grid1],value,\n",
    "                                              method='linear',bounds_error=False,fill_value=None)\n",
    "    yi_mon_scipy = yi_scipy_interp(xi1)\n",
    "\n",
    "def vec(grid1,value,xi1,yi):\n",
    "    linear_interp.interp_1d_vec(grid1,value,xi1,yi)\n",
    "    \n",
    "def vec_mon(grid1,value,xi1,yi,Nyi):\n",
    "    prep = linear_interp.interp_1d_prep(Nyi)\n",
    "    linear_interp.interp_1d_vec_mon(prep,grid1,value,xi1,yi)\n",
    "    \n",
    "def vec_mon_rep(grid1,value,xi1,yi,Nyi):\n",
    "    prep = linear_interp.interp_1d_prep(Nyi)    \n",
    "    linear_interp.interp_1d_vec_mon_rep(prep,grid1,value,xi1,yi)\n",
    "\n",
    "def vec_mon_noprep(grid1,value,xi1,yi):\n",
    "    linear_interp.interp_1d_vec_mon_noprep(grid1,value,xi1,yi)\n",
    "    \n",
    "def vec_python(grid1,value,xi1,yi):\n",
    "    linear_interp.interp_1d_vec.py_func(grid1,value,xi1,yi)    "
   ]
  },
  {
   "cell_type": "code",
   "execution_count": 7,
   "metadata": {},
   "outputs": [],
   "source": [
    "funcs = [scipy_interp,vec,vec_mon,vec_mon_rep,vec_mon_noprep]\n",
    "argu = dict([(funcs[0], [grid1,value,xi1,yi]),\n",
    "             (funcs[1], [grid1,value,xi1,yi]),\n",
    "             (funcs[2], [grid1,value,xi1,yi,Nyi]),\n",
    "             (funcs[3], [grid1,value,xi1,yi,Nyi]),\n",
    "             (funcs[4], [grid1,value,xi1,yi])])\n",
    "names = dict([(funcs[0], 'scipy'),\n",
    "             (funcs[1], 'vec'),\n",
    "             (funcs[2], 'vec_mon'),\n",
    "             (funcs[3], 'vec_mon_rep'),\n",
    "             (funcs[4], 'vec_mon_noprep')])"
   ]
  },
  {
   "cell_type": "code",
   "execution_count": 8,
   "metadata": {},
   "outputs": [
    {
     "name": "stdout",
     "output_type": "stream",
     "text": [
      "time unit is: ms\n",
      "+----------------+--------+--------+--------+--------+-------+\n",
      "|      func      |   lq   | median |  mean  |   uq   | neval |\n",
      "+----------------+--------+--------+--------+--------+-------+\n",
      "|     scipy      | 179.69 | 193.3  | 191.41 | 199.08 |  10.0 |\n",
      "|      vec       | 36.99  | 41.99  | 42.42  | 44.16  |  10.0 |\n",
      "|    vec_mon     | 27.99  | 27.99  | 27.35  | 27.99  |  10.0 |\n",
      "|  vec_mon_rep   |  20.0  |  20.0  | 21.19  | 22.99  |  10.0 |\n",
      "| vec_mon_noprep | 27.99  | 27.99  | 27.43  | 27.99  |  10.0 |\n",
      "+----------------+--------+--------+--------+--------+-------+\n"
     ]
    }
   ],
   "source": [
    "funs.my_timer(funcs,argu,names,unit='ms',Ntimes=10)"
   ]
  },
  {
   "cell_type": "code",
   "execution_count": null,
   "metadata": {},
   "outputs": [],
   "source": []
  },
  {
   "cell_type": "code",
   "execution_count": 20,
   "metadata": {},
   "outputs": [],
   "source": [
    "@njit(parallel=True)\n",
    "def vec_loop(grid1,value,xi1,yi):\n",
    "    for i in range(len(xi1)):\n",
    "        yi[i] = linear_interp.interp_1d(grid1,value,xi1[i])"
   ]
  },
  {
   "cell_type": "code",
   "execution_count": 24,
   "metadata": {},
   "outputs": [],
   "source": [
    "funcs = [vec,vec_loop]\n",
    "argu = dict([(funcs[0], [grid1,value,xi1,yi]),\n",
    "             (funcs[1], [grid1,value,xi1,yi])])\n",
    "names = dict([(funcs[0], 'vec'),\n",
    "             (funcs[1], 'vec_loop')])"
   ]
  },
  {
   "cell_type": "code",
   "execution_count": 25,
   "metadata": {},
   "outputs": [
    {
     "name": "stdout",
     "output_type": "stream",
     "text": [
      "time unit is: ms\n",
      "+----------+-------+--------+-------+------+-------+\n",
      "|   func   |   lq  | median |  mean |  uq  | neval |\n",
      "+----------+-------+--------+-------+------+-------+\n",
      "|   vec    | 19.99 | 23.97  | 24.02 | 24.0 | 100.0 |\n",
      "| vec_loop | 19.99 | 24.01  | 28.89 | 34.5 | 100.0 |\n",
      "+----------+-------+--------+-------+------+-------+\n"
     ]
    }
   ],
   "source": [
    "funs.my_timer(funcs,argu,names,unit='ms',Ntimes=100)"
   ]
  },
  {
   "cell_type": "markdown",
   "metadata": {},
   "source": [
    "## Figure"
   ]
  },
  {
   "cell_type": "code",
   "execution_count": 53,
   "metadata": {},
   "outputs": [],
   "source": [
    "def func(x):\n",
    "    return (x-3)**2"
   ]
  },
  {
   "cell_type": "code",
   "execution_count": 54,
   "metadata": {},
   "outputs": [],
   "source": [
    "def lin_fig(x_true,f_true,output):\n",
    "    sns.set_style('whitegrid')\n",
    "    fig, ax = plt.subplots(figsize=(8,6))\n",
    "    ax.plot(x_true, f_true, 'black', label='true')\n",
    "    ax.plot(x_true, output, 'b--', label='interp')\n",
    "    ax.plot(x_known, f_known, 'ro', label='known')\n",
    "    plt.ylim(0,9)\n",
    "    plt.xlim(0,6)\n",
    "    plt.show()"
   ]
  },
  {
   "cell_type": "code",
   "execution_count": 115,
   "metadata": {},
   "outputs": [],
   "source": [
    "N = 10\n",
    "x_known = np.array([-1.0, 0, 1.0, 2.0, 3.0, 4.0, 5.0])\n",
    "f_known = func(x_known)\n",
    "x_true = np.linspace(0.05,2.9, N)\n",
    "x_true[N-1] = 5.9\n",
    "f_true = func(x_true)"
   ]
  },
  {
   "cell_type": "code",
   "execution_count": 116,
   "metadata": {},
   "outputs": [
    {
     "data": {
      "image/png": "[encoded data removed]",
      "text/plain": [
       "<Figure size 576x432 with 1 Axes>"
      ]
     },
     "metadata": {},
     "output_type": "display_data"
    }
   ],
   "source": [
    "yi_scipy_interp = RegularGridInterpolator([x_known], f_known, \n",
    "                                          method='linear',bounds_error=False,fill_value=None)\n",
    "output = yi_scipy_interp(x_true)\n",
    "lin_fig(x_true,f_true,output)"
   ]
  },
  {
   "cell_type": "code",
   "execution_count": 117,
   "metadata": {},
   "outputs": [],
   "source": [
    "output = np.stack(([np.empty_like(x_true)]*4), axis=1)\n",
    "linear_interp.interp_1d_vec(x_known,f_known,x_true,output[:,0])\n",
    "prep = linear_interp.interp_1d_prep(len(x_true))\n",
    "linear_interp.interp_1d_vec_mon(prep,x_known,f_known,x_true,output[:,1])\n",
    "#linear_interp.interp_1d_vec_mon_rep(prep,x_known,f_known,x_true,output[:,2])\n",
    "#linear_interp.interp_1d_vec_mon_noprep(x_known,f_known,x_true,output[:,3])\n",
    "\n",
    "#for i in range(4):\n",
    "#    lin_fig(x_true,f_true,output[:,i])"
   ]
  },
  {
   "cell_type": "code",
   "execution_count": 118,
   "metadata": {},
   "outputs": [
    {
     "data": {
      "text/plain": [
       "array([-1.,  0.,  1.,  2.,  3.,  4.,  5.])"
      ]
     },
     "execution_count": 118,
     "metadata": {},
     "output_type": "execute_result"
    }
   ],
   "source": [
    "x_known"
   ]
  },
  {
   "cell_type": "code",
   "execution_count": 119,
   "metadata": {},
   "outputs": [
    {
     "data": {
      "text/plain": [
       "array([0.05      , 0.36666667, 0.68333333, 1.        , 1.31666667,\n",
       "       1.63333333, 1.95      , 2.26666667, 2.58333333, 5.9       ])"
      ]
     },
     "execution_count": 119,
     "metadata": {},
     "output_type": "execute_result"
    }
   ],
   "source": [
    "x_true"
   ]
  },
  {
   "cell_type": "code",
   "execution_count": 120,
   "metadata": {},
   "outputs": [
    {
     "data": {
      "text/plain": [
       "array([1, 1, 1, 2, 2, 2, 2, 3, 3, 5])"
      ]
     },
     "execution_count": 120,
     "metadata": {},
     "output_type": "execute_result"
    }
   ],
   "source": [
    "prep"
   ]
  },
  {
   "cell_type": "code",
   "execution_count": 22,
   "metadata": {},
   "outputs": [],
   "source": [
    "from consav import linear_interp"
   ]
  },
  {
   "cell_type": "code",
   "execution_count": 50,
   "metadata": {},
   "outputs": [
    {
     "data": {
      "text/plain": [
       "3"
      ]
     },
     "execution_count": 50,
     "metadata": {},
     "output_type": "execute_result"
    }
   ],
   "source": [
    "grid1 = np.array([1, 2, 8, 3, 5],dtype=float)\n",
    "linear_interp.binary_search(0,grid1.size,grid1,6.5)"
   ]
  },
  {
   "cell_type": "code",
   "execution_count": 45,
   "metadata": {},
   "outputs": [
    {
     "data": {
      "text/plain": [
       "array([1., 2., 8., 3., 5.])"
      ]
     },
     "execution_count": 45,
     "metadata": {},
     "output_type": "execute_result"
    }
   ],
   "source": [
    "grid1"
   ]
  },
  {
   "cell_type": "markdown",
   "metadata": {},
   "source": [
    "# Logsum"
   ]
  },
  {
   "cell_type": "code",
   "execution_count": 4,
   "metadata": {},
   "outputs": [],
   "source": [
    "@njit(parallel=True)\n",
    "def logsum_loop(V, sigma):\n",
    "\n",
    "    # 1. setup\n",
    "    mxm = np.zeros((len(V),1))\n",
    "    for i in range(len(V)):\n",
    "        mxm[i,:] = np.max(V[i,:])\n",
    "        \n",
    "    cols = V.shape[1] # just equal to 2        \n",
    "        \n",
    "    # 3. logsum and probabilities\n",
    "    if abs(sigma) > 1e-10:\n",
    "        logsum = mxm + sigma*np.log(np.sum(np.exp((V - mxm*np.ones((1,cols)))/sigma), \n",
    "                                            axis=1)).reshape(mxm.shape)\n",
    "        prob = np.exp((V - logsum*np.ones((1,cols)))/sigma)\n",
    "\n",
    "    else:\n",
    "        logsum = mxm\n",
    "        prob = np.zeros(V.shape)\n",
    "        for i in range(len(V)):\n",
    "            if V[i,0] > V[i,1]:\n",
    "                prob[i,0] = 1\n",
    "            else:\n",
    "                prob[i,1] = 1 \n",
    "\n",
    "    return logsum,prob"
   ]
  },
  {
   "cell_type": "code",
   "execution_count": 5,
   "metadata": {},
   "outputs": [],
   "source": [
    "@njit(parallel=True)\n",
    "def logsum_vec(V, sigma): # supports only 2 columns in order to be implemented in numba\n",
    "    \n",
    "    # 1. setup\n",
    "    #sigma = par.sigma_eta\n",
    "    if len(V.shape) == 1: # to be compatible with simulate\n",
    "        V = V.reshape(1,2)\n",
    "\n",
    "    cols = V.shape[1] # just equal to 2\n",
    "\n",
    "    # 2. maximum over the discrete choices\n",
    "    mxm = np.maximum(V[:,0], V[:,1]).reshape(len(V),1)\n",
    "\n",
    "    # 3. logsum and probabilities\n",
    "    if abs(sigma) > 1e-10:\n",
    "        logsum = mxm + sigma*np.log(np.sum(np.exp((V - mxm*np.ones((1,cols)))/sigma), \n",
    "                                            axis=1)).reshape(mxm.shape)\n",
    "        prob = np.exp((V - logsum*np.ones((1,cols)))/sigma)\n",
    "\n",
    "    else:\n",
    "        logsum = mxm\n",
    "        prob = np.zeros(V.shape)\n",
    "        for i in range(len(V)):\n",
    "            if V[i,0] > V[i,1]:\n",
    "                prob[i,0] = 1\n",
    "            else:\n",
    "                prob[i,1] = 1 \n",
    "\n",
    "    return logsum,prob"
   ]
  },
  {
   "cell_type": "code",
   "execution_count": 6,
   "metadata": {},
   "outputs": [],
   "source": [
    "V = np.random.uniform(size=(1000,2))\n",
    "sigma = 0.5"
   ]
  },
  {
   "cell_type": "code",
   "execution_count": 7,
   "metadata": {},
   "outputs": [
    {
     "name": "stdout",
     "output_type": "stream",
     "text": [
      "True\n"
     ]
    },
    {
     "data": {
      "text/plain": [
       "True"
      ]
     },
     "execution_count": 7,
     "metadata": {},
     "output_type": "execute_result"
    }
   ],
   "source": [
    "print(np.allclose(logsum_loop(V,sigma)[0],logsum_vec(V,sigma)[0]))\n",
    "np.allclose(logsum_loop(V,sigma)[1],logsum_vec(V,sigma)[1])"
   ]
  },
  {
   "cell_type": "code",
   "execution_count": 8,
   "metadata": {},
   "outputs": [
    {
     "name": "stdout",
     "output_type": "stream",
     "text": [
      "time unit is: ns\n",
      "+-------------+-------------+-------------+-------------+-------------+-------+\n",
      "|     func    |      lq     |    median   |     mean    |      uq     | neval |\n",
      "+-------------+-------------+-------------+-------------+-------------+-------+\n",
      "| logsum_loop | 31247138.98 | 31247854.23 | 32080287.93 | 31248867.51 | 100.0 |\n",
      "|  logsum_vec |     0.0     |     0.0     |  156242.85  |     0.0     | 100.0 |\n",
      "+-------------+-------------+-------------+-------------+-------------+-------+\n"
     ]
    }
   ],
   "source": [
    "funcs = [logsum_loop,logsum_vec]\n",
    "argu = dict([(funcs[0], [V,sigma]),\n",
    "             (funcs[1], [V,sigma])])\n",
    "names = dict([(funcs[0], 'logsum_loop'),\n",
    "             (funcs[1], 'logsum_vec')])\n",
    "funs.my_timer(funcs,argu,names,unit='ns',Ntimes=100)"
   ]
  },
  {
   "cell_type": "code",
   "execution_count": 19,
   "metadata": {},
   "outputs": [],
   "source": [
    "@njit(parallel=True)\n",
    "def prange_test(A):\n",
    "    s = 0\n",
    "    for i in prange(A.shape[0]):\n",
    "        s += A[i] ** 3.5 - 100\n",
    "    return s\n",
    "\n",
    "@njit(parallel=True)\n",
    "def range_test(A):\n",
    "    s = 0\n",
    "    for i in range(A.shape[0]):\n",
    "        s += A[i] ** 3.5 - 100\n",
    "    return s"
   ]
  },
  {
   "cell_type": "code",
   "execution_count": 24,
   "metadata": {},
   "outputs": [
    {
     "data": {
      "text/plain": [
       "True"
      ]
     },
     "execution_count": 24,
     "metadata": {},
     "output_type": "execute_result"
    }
   ],
   "source": [
    "A = np.random.uniform(size=1000000)\n",
    "np.allclose(prange_test(A),range_test(A))"
   ]
  },
  {
   "cell_type": "code",
   "execution_count": 25,
   "metadata": {},
   "outputs": [
    {
     "name": "stdout",
     "output_type": "stream",
     "text": [
      "time unit is: ms\n",
      "+--------+-------+--------+-------+-------+-------+\n",
      "|  func  |   lq  | median |  mean |   uq  | neval |\n",
      "+--------+-------+--------+-------+-------+-------+\n",
      "| prange | 15.62 | 15.63  | 22.67 | 31.25 | 100.0 |\n",
      "| range  | 46.87 | 46.89  | 52.68 | 62.49 | 100.0 |\n",
      "+--------+-------+--------+-------+-------+-------+\n"
     ]
    }
   ],
   "source": [
    "funcs = [prange_test,range_test]\n",
    "argu = dict([(funcs[0], [A]),\n",
    "             (funcs[1], [A])])\n",
    "names = dict([(funcs[0], 'prange'),\n",
    "             (funcs[1], 'range')])\n",
    "funs.my_timer(funcs,argu,names,unit='ms',Ntimes=100)"
   ]
  },
  {
   "cell_type": "code",
   "execution_count": 34,
   "metadata": {},
   "outputs": [],
   "source": [
    "A = np.random.randint(5,size=10)\n",
    "B = np.random.uniform(size=10)"
   ]
  },
  {
   "cell_type": "code",
   "execution_count": 38,
   "metadata": {},
   "outputs": [
    {
     "data": {
      "text/plain": [
       "array([0.8998617 , 0.48760187, 0.39399647, 0.72813904])"
      ]
     },
     "execution_count": 38,
     "metadata": {},
     "output_type": "execute_result"
    }
   ],
   "source": [
    "B[A == 1]"
   ]
  },
  {
   "cell_type": "code",
   "execution_count": 39,
   "metadata": {},
   "outputs": [
    {
     "data": {
      "text/plain": [
       "array([0, 1, 2, 3, 4])"
      ]
     },
     "execution_count": 39,
     "metadata": {},
     "output_type": "execute_result"
    }
   ],
   "source": [
    "np.unique(A)"
   ]
  },
  {
   "cell_type": "code",
   "execution_count": null,
   "metadata": {},
   "outputs": [],
   "source": []
  }
 ],
 "metadata": {
  "kernelspec": {
   "display_name": "Python 3",
   "language": "python",
   "name": "python3"
  },
  "language_info": {
   "codemirror_mode": {
    "name": "ipython",
    "version": 3
   },
   "file_extension": ".py",
   "mimetype": "text/x-python",
   "name": "python",
   "nbconvert_exporter": "python",
   "pygments_lexer": "ipython3",
   "version": "3.7.3"
  }
 },
 "nbformat": 4,
 "nbformat_minor": 2
}
