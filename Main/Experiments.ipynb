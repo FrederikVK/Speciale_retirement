{
 "cells": [
  {
   "cell_type": "markdown",
   "metadata": {},
   "source": [
    "# Counterfactual policy simulations"
   ]
  },
  {
   "cell_type": "code",
   "execution_count": null,
   "metadata": {},
   "outputs": [],
   "source": [
    "from consav import runtools\n",
    "runtools.write_numba_config(disable=0,threads=4)\n",
    "\n",
    "%matplotlib inline\n",
    "%load_ext autoreload\n",
    "%autoreload 2\n",
    "\n",
    "# Local modules\n",
    "from Model import RetirementClass\n",
    "import funs\n",
    "import figs\n",
    "import SimulatedMinimumDistance as SMD\n",
    "\n",
    "# Global modules\n",
    "import numpy as np\n",
    "import matplotlib.pyplot as plt\n",
    "import seaborn as sns"
   ]
  },
  {
   "cell_type": "markdown",
   "metadata": {},
   "source": [
    "### Deduction"
   ]
  },
  {
   "cell_type": "code",
   "execution_count": 2,
   "metadata": {},
   "outputs": [],
   "source": [
    "x = np.linspace(0,2,10) # deduction from 0 to 200.000 DKR\n",
    "Fradrag = {}"
   ]
  },
  {
   "cell_type": "code",
   "execution_count": null,
   "metadata": {},
   "outputs": [],
   "source": [
    "SingleEst = SMD.load_est(name='Single')\n",
    "Single = RetirementClass(**SingleEst)\n",
    "Fradrag['Single'] = figs.resolve(Single,vars=['d,GovS'],recompute=True,fradrag=x)\n",
    "del Single"
   ]
  },
  {
   "cell_type": "code",
   "execution_count": null,
   "metadata": {},
   "outputs": [],
   "source": [
    "CoupleEst,SingleEst = SMD.load_est(name='Couple',couple=True)\n",
    "CoupleEst['simN'] = 1e6\n",
    "Couple = RetirementClass(couple=True, single_kwargs=SingleEst, **CoupleEst)\n",
    "Fradrag['Couple'] = figs.resolve_c(Couple, vars=['d,GovS'], recompute=True, fradrag=x)\n",
    "del Couple"
   ]
  },
  {
   "cell_type": "code",
   "execution_count": null,
   "metadata": {},
   "outputs": [],
   "source": [
    "RestCoupleEst,RestSingleEst = SMD.load_est(name='RestCouple',couple=True)\n",
    "RestCoupleEst['simN'] = 1e6\n",
    "RestCouple = RetirementClass(couple=True, single_kwargs=RestSingleEst, **RestCoupleEst)\n",
    "Fradrag['RestCouple'] = figs.resolve_c(RestCouple, vars=['d,GovS'], recompute=True, fradrag=x)\n",
    "del RestCouple"
   ]
  },
  {
   "cell_type": "code",
   "execution_count": null,
   "metadata": {},
   "outputs": [],
   "source": []
  },
  {
   "cell_type": "markdown",
   "metadata": {},
   "source": [
    "### Retirement age"
   ]
  },
  {
   "cell_type": "code",
   "execution_count": null,
   "metadata": {},
   "outputs": [],
   "source": [
    "age = (65,62,60)\n",
    "ages_dict = {'oap_age':   [i+age[0] for i in range(6)],\n",
    "             'two_year':  [i+age[1] for i in range(6)],\n",
    "             'erp_age':   [i+age[2] for i in range(6)]}\n",
    "RetAge = {}"
   ]
  },
  {
   "cell_type": "code",
   "execution_count": null,
   "metadata": {},
   "outputs": [],
   "source": [
    "SingleEst = SMD.load_est(name='Single')\n",
    "Single = RetirementClass(**SingleEst)\n",
    "RetAge['Single'] = figs.resolve(Single,vars=['d,GovS'],recompute=True,**ages_dict)\n",
    "del Single"
   ]
  },
  {
   "cell_type": "code",
   "execution_count": null,
   "metadata": {},
   "outputs": [],
   "source": [
    "CoupleEst,SingleEst = SMD.load_est(name='Couple',couple=True)\n",
    "CoupleEst['simN'] = 1e6\n",
    "Couple = RetirementClass(couple=True, single_kwargs=SingleEst, **CoupleEst)\n",
    "RetAge['Couple'] = figs.resolve_c(Couple, vars=['d,GovS'], recompute=True, **ages_dict)\n",
    "del Couple"
   ]
  },
  {
   "cell_type": "code",
   "execution_count": null,
   "metadata": {},
   "outputs": [],
   "source": [
    "RestCoupleEst,RestSingleEst = SMD.load_est(name='RestCouple',couple=True)\n",
    "RestCoupleEst['simN'] = 1e6\n",
    "RestCouple = RetirementClass(couple=True, single_kwargs=RestSingleEst, **RestCoupleEst)\n",
    "RetAge['RestCouple'] = figs.resolve_c(RestCouple, vars=['d,GovS'], recompute=True, **ages_dict)\n",
    "del RestCouple"
   ]
  },
  {
   "cell_type": "code",
   "execution_count": null,
   "metadata": {},
   "outputs": [],
   "source": []
  },
  {
   "cell_type": "code",
   "execution_count": null,
   "metadata": {},
   "outputs": [],
   "source": []
  },
  {
   "cell_type": "code",
   "execution_count": null,
   "metadata": {},
   "outputs": [],
   "source": []
  },
  {
   "cell_type": "code",
   "execution_count": null,
   "metadata": {},
   "outputs": [],
   "source": []
  },
  {
   "cell_type": "code",
   "execution_count": null,
   "metadata": {},
   "outputs": [],
   "source": []
  },
  {
   "cell_type": "markdown",
   "metadata": {},
   "source": [
    "Couple model"
   ]
  },
  {
   "cell_type": "code",
   "execution_count": null,
   "metadata": {},
   "outputs": [],
   "source": [
    "CoupleEst,SingleEst = funs.load_est(name='Couple',couple=True)\n",
    "CoupleEst['simN'] = 1000000\n",
    "SingleEst['simN'] = 1000000\n",
    "Couple = RetirementClass(couple=True, single_kwargs=SingleEst, **CoupleEst)\n",
    "Fradrag['Couple'] = figs.resolve_c(Couple, vars=['d'], recompute=True, fradrag=x)\n",
    "del Couple"
   ]
  },
  {
   "cell_type": "markdown",
   "metadata": {},
   "source": [
    "Restricted couple model"
   ]
  },
  {
   "cell_type": "code",
   "execution_count": null,
   "metadata": {},
   "outputs": [],
   "source": [
    "RestCoupleEst,RestSingleEst = funs.load_est(name='RestCouple',couple=True)\n",
    "RestCoupleEst['simN'] = 1000000\n",
    "RestSingleEst['simN'] = 1000000\n",
    "RestCouple = RetirementClass(couple=True, single_kwargs=RestSingleEst, **RestCoupleEst)\n",
    "Fradrag['RestCouple']=figs.resolve_c(RestCouple, vars=['d'], recompute=True, fradrag=x)\n",
    "del RestCouple"
   ]
  },
  {
   "cell_type": "markdown",
   "metadata": {},
   "source": [
    "Results for labor supply"
   ]
  },
  {
   "cell_type": "code",
   "execution_count": null,
   "metadata": {},
   "outputs": [],
   "source": [
    "LS = [Fradrag['Single']['d'], Fradrag['Couple']['d'], Fradrag['RestCouple']['d']]\n",
    "for j in range(len(LS)):\n",
    "    LS[j] =[(i/LS[j][0]-1)*100 for i in LS[j][1:]] # list comprehension to compute relative change\n",
    "names = ['Single model', 'Couple model', 'Restricted Couple model']\n",
    "xlab = 'Deduction (100.000 DKR)'\n",
    "ylab = 'Relative change (labor supply)'\n",
    "\n",
    "fig = plt.figure()\n",
    "ax = fig.add_subplot(1,1,1)\n",
    "figs.plot_exp(x[1:],LS,ax,names,xlab,ylab)\n",
    "fig.tight_layout()\n",
    "fig.savefig('figs/Experiments/DeductionLaborSupply.png')"
   ]
  },
  {
   "cell_type": "markdown",
   "metadata": {},
   "source": [
    "Results for goverment surplus"
   ]
  },
  {
   "cell_type": "code",
   "execution_count": null,
   "metadata": {},
   "outputs": [],
   "source": [
    "GS = [Fradrag['Single']['?'], Fradrag['Couple']['?'], Fradrag['RestCouple']['?']]\n",
    "for j in range(len(GS)):\n",
    "    GS[j] =[(i/GS[j][0]-1)*100 for i in GS[j][1:]] # list comprehension to compute relative change\n",
    "names = ['Single model', 'Couple model', 'Restricted Couple model']\n",
    "xlab = 'Deduction (100.000 DKR)'\n",
    "ylab = 'Relative change (labor supply)'\n",
    "\n",
    "fig = plt.figure()\n",
    "ax = fig.add_subplot(1,1,1)\n",
    "figs.plot_exp(x[1:],GS,ax,names,xlab,ylab)\n",
    "fig.tight_layout()\n",
    "fig.savefig('figs/Experiments/DeductionGovSurplus.png')"
   ]
  },
  {
   "cell_type": "markdown",
   "metadata": {},
   "source": [
    "Results for welfare"
   ]
  },
  {
   "cell_type": "code",
   "execution_count": null,
   "metadata": {},
   "outputs": [],
   "source": []
  },
  {
   "cell_type": "markdown",
   "metadata": {},
   "source": [
    "Clean up"
   ]
  },
  {
   "cell_type": "code",
   "execution_count": null,
   "metadata": {},
   "outputs": [],
   "source": [
    "%reset -f"
   ]
  },
  {
   "cell_type": "markdown",
   "metadata": {},
   "source": [
    "# Increase retirement age"
   ]
  },
  {
   "cell_type": "code",
   "execution_count": null,
   "metadata": {},
   "outputs": [],
   "source": [
    "from consav import runtools\n",
    "runtools.write_numba_config(disable=0,threads=4)\n",
    "\n",
    "%matplotlib inline\n",
    "%load_ext autoreload\n",
    "%autoreload 2\n",
    "\n",
    "# Local modules\n",
    "from Model import RetirementClass\n",
    "import funs\n",
    "import figs\n",
    "\n",
    "# Global modules\n",
    "import numpy as np\n",
    "import matplotlib.pyplot as plt\n",
    "import seaborn as sns"
   ]
  },
  {
   "cell_type": "code",
   "execution_count": null,
   "metadata": {},
   "outputs": [],
   "source": [
    "oap = 65\n",
    "two_year = 62\n",
    "erp = 60\n",
    "ages_dict = {'oap_age':   [i+oap for i in range(6)],\n",
    "             'two_year':  [i+two_year for i in range(6)],\n",
    "             'erp_age':   [i+erp for i in range(6)]}\n",
    "RetAge = {}"
   ]
  },
  {
   "cell_type": "markdown",
   "metadata": {},
   "source": [
    "Single model"
   ]
  },
  {
   "cell_type": "code",
   "execution_count": null,
   "metadata": {},
   "outputs": [],
   "source": [
    "SingleEst = funs.load_est(name='Single')\n",
    "Single = RetirementClass(SingleEst)\n",
    "RetAge['Single'] = figs.resolve(Single, vars=['d'], recompute=True, **ages_dict)\n",
    "del Single # to save memory"
   ]
  },
  {
   "cell_type": "markdown",
   "metadata": {},
   "source": [
    "Couple model"
   ]
  },
  {
   "cell_type": "code",
   "execution_count": null,
   "metadata": {},
   "outputs": [],
   "source": [
    "CoupleEst,SingleEst = funs.load_est(name='Couple',couple=True)\n",
    "CoupleEst['simN'] = 1000000\n",
    "SingleEst['simN'] = 1000000\n",
    "Couple = RetirementClass(couple=True, single_kwargs=SingleEst, **CoupleEst)\n",
    "RetAge['Couple'] = figs.resolve_c(Couple, vars=['d'], recompute=True, **ages_dict)\n",
    "del Couple"
   ]
  },
  {
   "cell_type": "markdown",
   "metadata": {},
   "source": [
    "Restricted couple model"
   ]
  },
  {
   "cell_type": "code",
   "execution_count": null,
   "metadata": {},
   "outputs": [],
   "source": [
    "RestCoupleEst,RestSingleEst = funs.load_est(name='RestCouple',couple=True)\n",
    "RestCoupleEst['simN'] = 1000000\n",
    "RestSingleEst['simN'] = 1000000\n",
    "RestCouple = RetirementClass(couple=True, single_kwargs=RestSingleEst, **RestCoupleEst)\n",
    "RetAge['RestCouple']=figs.resolve_c(RestCouple, vars=['d'], recompute=True, **ages_dict)\n",
    "del RestCouple"
   ]
  },
  {
   "cell_type": "markdown",
   "metadata": {},
   "source": [
    "Results for labor supply"
   ]
  },
  {
   "cell_type": "code",
   "execution_count": null,
   "metadata": {},
   "outputs": [],
   "source": [
    "LS = [RetAge['Single']['d'], [RetAge['Couple']['d'], [RetAge['RestCouple']['d']]\n",
    "for j in range(len(LS)):\n",
    "    LS[j] =[(i/LS[j][0]-1)*100 for i in LS[j][1:]] # list comprehension to compute relative change\n",
    "names = ['Single model', 'Couple model', 'Restricted Couple model']\n",
    "xlab = 'Deduction (100.000 DKR)'\n",
    "ylab = 'Relative change (labor supply)'\n",
    "\n",
    "fig = plt.figure()\n",
    "ax = fig.add_subplot(1,1,1)\n",
    "figs.plot_exp(np.arange(1,6),LS,ax,names,xlab,ylab)\n",
    "fig.tight_layout()\n",
    "fig.savefig('figs/Experiments/RetAgeLaborSupply.png')"
   ]
  },
  {
   "cell_type": "markdown",
   "metadata": {},
   "source": [
    "Results for goverment surplus"
   ]
  },
  {
   "cell_type": "code",
   "execution_count": null,
   "metadata": {},
   "outputs": [],
   "source": [
    "GS = [RetAge['Single']['?'], RetAge['Couple']['?'], RetAge['RestCouple']['?']]\n",
    "for j in range(len(GS)):\n",
    "    GS[j] =[(i/GS[j][0]-1)*100 for i in GS[j][1:]] # list comprehension to compute relative change\n",
    "names = ['Single model', 'Couple model', 'Restricted Couple model']\n",
    "xlab = 'Deduction (100.000 DKR)'\n",
    "ylab = 'Relative change (labor supply)'\n",
    "\n",
    "fig = plt.figure()\n",
    "ax = fig.add_subplot(1,1,1)\n",
    "figs.plot_exp(np.arange(1,6),GS,ax,names,xlab,ylab)\n",
    "fig.tight_layout()\n",
    "fig.savefig('figs/Experiments/RetAgeGovSurplus.png')"
   ]
  },
  {
   "cell_type": "markdown",
   "metadata": {},
   "source": [
    "Results for welfare"
   ]
  },
  {
   "cell_type": "code",
   "execution_count": null,
   "metadata": {},
   "outputs": [],
   "source": []
  },
  {
   "cell_type": "code",
   "execution_count": null,
   "metadata": {},
   "outputs": [],
   "source": []
  },
  {
   "cell_type": "code",
   "execution_count": null,
   "metadata": {},
   "outputs": [],
   "source": []
  },
  {
   "cell_type": "code",
   "execution_count": null,
   "metadata": {},
   "outputs": [],
   "source": []
  },
  {
   "cell_type": "code",
   "execution_count": null,
   "metadata": {},
   "outputs": [],
   "source": []
  },
  {
   "cell_type": "code",
   "execution_count": null,
   "metadata": {},
   "outputs": [],
   "source": []
  },
  {
   "cell_type": "code",
   "execution_count": null,
   "metadata": {},
   "outputs": [],
   "source": []
  },
  {
   "cell_type": "code",
   "execution_count": null,
   "metadata": {},
   "outputs": [],
   "source": []
  },
  {
   "cell_type": "code",
   "execution_count": null,
   "metadata": {},
   "outputs": [],
   "source": []
  },
  {
   "cell_type": "code",
   "execution_count": null,
   "metadata": {},
   "outputs": [],
   "source": []
  },
  {
   "cell_type": "code",
   "execution_count": null,
   "metadata": {},
   "outputs": [],
   "source": []
  },
  {
   "cell_type": "code",
   "execution_count": null,
   "metadata": {},
   "outputs": [],
   "source": [
    "Yf = [policyF_S['d'], policyF_C['d'], policyF_CR['d']]\n",
    "for j in range(len(Y)):\n",
    "    Yf[j] = [(i/Yf[j][0]-1)*100 for i in Yf[j][1:]] # list comprehension to compute relative change\n",
    "names = ['Single model', 'Couple model', 'Restricted Couple model']\n",
    "xlab = 'Deduction (100.000 DKR)'\n",
    "ylab = 'Relative change (labor supply)'"
   ]
  },
  {
   "cell_type": "code",
   "execution_count": null,
   "metadata": {},
   "outputs": [],
   "source": [
    "fig = plt.figure()\n",
    "ax = fig.add_subplot(1,1,1)\n",
    "figs.plot_exp(x[1:],Y,ax,names,xlab,ylab)\n",
    "fig.tight_layout()\n",
    "fig.savefig('figs/Experiments/DeductionLaborSupply.png')"
   ]
  },
  {
   "cell_type": "code",
   "execution_count": 2,
   "metadata": {},
   "outputs": [],
   "source": [
    "#with open('estimates/Single.pickle', 'rb') as handle:\n",
    "#    SingleEst = pickle.load(handle)\n",
    "#Single = RetirementClass(SingleEst)\n",
    "#Single.solve()\n",
    "#Single.simulate()"
   ]
  },
  {
   "cell_type": "markdown",
   "metadata": {},
   "source": [
    "Couple model"
   ]
  },
  {
   "cell_type": "code",
   "execution_count": null,
   "metadata": {},
   "outputs": [],
   "source": [
    "RestCoupleEst,RestSingleEst = funs.load_est(name='RestCouple',couple=True)\n",
    "RestCouple = RetirementClass(couple=True, single_kwargs=RestSingleEst, **RestCoupleEst)\n",
    "Fradrag[:,2]=figs.resolve(RestCouple, vars=['d'], recompute=True, fradrag=x)"
   ]
  },
  {
   "cell_type": "code",
   "execution_count": 3,
   "metadata": {},
   "outputs": [],
   "source": [
    "#with open('estimates/Couple.pickle', 'rb') as handle:\n",
    "#    CoupleEst = pickle.load(handle)\n",
    "# Remember the single_kwargs!!!\n",
    "#Couple = RetirementClass(couple=True)\n",
    "#Couple.solve()\n",
    "#Couple.simulate()"
   ]
  },
  {
   "cell_type": "markdown",
   "metadata": {},
   "source": [
    "Restricted Couple model"
   ]
  },
  {
   "cell_type": "code",
   "execution_count": null,
   "metadata": {},
   "outputs": [],
   "source": [
    "CoupleRestEst,SingleRestEst = funs.load_est(name='CoupleRest',couple=True)\n",
    "CoupleRest = RetirementClass(couple=True, single_kwargs=SingleRestEst, CoupleRestEst)\n",
    "CoupleRest.solve()\n",
    "CoupleRest.simulate()"
   ]
  },
  {
   "cell_type": "code",
   "execution_count": 22,
   "metadata": {},
   "outputs": [],
   "source": [
    "#with open('estimates/CoupleRest.pickle', 'rb') as handle:\n",
    "#    CoupleRestEst = pickle.load(handle)\n",
    "# Remember the single_kwargs!!!\n",
    "#CoupleRest = RetirementClass(couple=True, phi_0_male=0.0, phi_0_female=0.0, phi_1=0.0)\n",
    "#CoupleRest.solve()\n",
    "#CoupleRest.simulate()"
   ]
  },
  {
   "cell_type": "markdown",
   "metadata": {},
   "source": [
    "Resolve model for different deductions"
   ]
  },
  {
   "cell_type": "code",
   "execution_count": 6,
   "metadata": {},
   "outputs": [],
   "source": [
    "x = np.linspace(0,2,10)\n",
    "policyF_S = figs.resolve(Single, vars=['d'], recompute=True, fradrag=x)"
   ]
  },
  {
   "cell_type": "code",
   "execution_count": 7,
   "metadata": {},
   "outputs": [],
   "source": [
    "policyF_C = figs.resolve_c(Couple, vars=['d'], recompute=True, fradrag=x)"
   ]
  },
  {
   "cell_type": "code",
   "execution_count": 24,
   "metadata": {},
   "outputs": [],
   "source": [
    "policyF_CR = figs.resolve_c(CoupleRest, vars=['d'], recompute=True, fradrag=x)"
   ]
  },
  {
   "cell_type": "code",
   "execution_count": 25,
   "metadata": {},
   "outputs": [],
   "source": [
    "Yf = [policyF_S['d'], policyF_C['d'], policyF_CR['d']]\n",
    "for j in range(len(Y)):\n",
    "    Yf[j] = [(i/Yf[j][0]-1)*100 for i in Yf[j][1:]] # list comprehension to compute relative change\n",
    "names = ['Single model', 'Couple model', 'Restricted Couple model']\n",
    "xlab = 'Deduction (100.000 DKR)'\n",
    "ylab = 'Relative change (labor supply)'"
   ]
  },
  {
   "cell_type": "code",
   "execution_count": 38,
   "metadata": {},
   "outputs": [
    {
     "data": {
      "text/plain": [
       "[<matplotlib.lines.Line2D at 0x1b7340ebf28>]"
      ]
     },
     "execution_count": 38,
     "metadata": {},
     "output_type": "execute_result"
    },
    {
     "data": {
      "image/png": "[encoded data removed]",
      "text/plain": [
       "<Figure size 432x288 with 1 Axes>"
      ]
     },
     "metadata": {},
     "output_type": "display_data"
    }
   ],
   "source": [
    "plt.plot(policyF_CR['d'])\n",
    "plt.plot(policyF_C['d'])\n",
    "plt.plot(np.array(policyF_S['d'])*2)"
   ]
  },
  {
   "cell_type": "code",
   "execution_count": 40,
   "metadata": {},
   "outputs": [
    {
     "data": {
      "image/png": "[encoded data removed]",
      "text/plain": [
       "<Figure size 432x288 with 1 Axes>"
      ]
     },
     "metadata": {},
     "output_type": "display_data"
    }
   ],
   "source": [
    "fig = plt.figure()\n",
    "ax = fig.add_subplot(1,1,1)\n",
    "figs.plot_exp(x[1:],Y,ax,names,xlab,ylab)\n",
    "fig.tight_layout()\n",
    "fig.savefig('figs/Experiments/DeductionLaborSupply.png')"
   ]
  },
  {
   "cell_type": "markdown",
   "metadata": {},
   "source": [
    "Clean up"
   ]
  },
  {
   "cell_type": "code",
   "execution_count": null,
   "metadata": {},
   "outputs": [],
   "source": [
    "%reset"
   ]
  },
  {
   "cell_type": "markdown",
   "metadata": {},
   "source": [
    "# Increase retirement age"
   ]
  },
  {
   "cell_type": "markdown",
   "metadata": {},
   "source": [
    "Single model"
   ]
  },
  {
   "cell_type": "code",
   "execution_count": 2,
   "metadata": {},
   "outputs": [],
   "source": [
    "SingleEst = funs.load_est(name='Single')\n",
    "Single = RetirementClass(SingleEst)\n",
    "Single.solve()\n",
    "Single.simulate()"
   ]
  },
  {
   "cell_type": "markdown",
   "metadata": {},
   "source": [
    "Couple model"
   ]
  },
  {
   "cell_type": "code",
   "execution_count": 3,
   "metadata": {},
   "outputs": [],
   "source": [
    "CoupleEst,SingleEst = funs.load_est(name='Couple',couple=True)\n",
    "Couple = RetirementClass(couple=True, single_kwargs=SingleEst, CoupleEst)\n",
    "Couple.solve()\n",
    "Couple.simulate()"
   ]
  },
  {
   "cell_type": "markdown",
   "metadata": {},
   "source": [
    "Restricted Couple model"
   ]
  },
  {
   "cell_type": "code",
   "execution_count": 4,
   "metadata": {},
   "outputs": [],
   "source": [
    "CoupleRestEst,SingleRestEst = funs.load_est(name='CoupleRest',couple=True)\n",
    "CoupleRest = RetirementClass(couple=True, single_kwargs=SingleRestEst, CoupleRestEst)\n",
    "CoupleRest.solve()\n",
    "CoupleRest.simulate()"
   ]
  },
  {
   "cell_type": "markdown",
   "metadata": {},
   "source": [
    "Resolve model for different retirement ages"
   ]
  },
  {
   "cell_type": "code",
   "execution_count": 6,
   "metadata": {},
   "outputs": [],
   "source": [
    "oap = 65\n",
    "two_year = 62\n",
    "erp = 60\n",
    "kwarg_dict = {'oap_age':   [oap, oap+1, oap+2, oap+3, oap+4, oap+5],\n",
    "              'two_year':  [two_year, two_year+1, two_year+2, two_year+3, two_year+4, two_year+5],\n",
    "              'erp_age':   [erp, erp+1, erp+2, erp+3, erp+4, erp+5]}\n",
    "policyRA_S = figs.resolve(Single,vars=['d'],recompute=True, **kwarg_dict)"
   ]
  },
  {
   "cell_type": "code",
   "execution_count": 7,
   "metadata": {},
   "outputs": [
    {
     "ename": "MemoryError",
     "evalue": "",
     "output_type": "error",
     "traceback": [
      "\u001b[1;31m---------------------------------------------------------------------------\u001b[0m",
      "\u001b[1;31mMemoryError\u001b[0m                               Traceback (most recent call last)",
      "\u001b[1;32m<ipython-input-7-cce20ad650d8>\u001b[0m in \u001b[0;36m<module>\u001b[1;34m\u001b[0m\n\u001b[1;32m----> 1\u001b[1;33m \u001b[0mpolicyRA_C\u001b[0m \u001b[1;33m=\u001b[0m \u001b[0mfigs\u001b[0m\u001b[1;33m.\u001b[0m\u001b[0mresolve_c\u001b[0m\u001b[1;33m(\u001b[0m\u001b[0mCouple\u001b[0m\u001b[1;33m,\u001b[0m\u001b[0mvars\u001b[0m\u001b[1;33m=\u001b[0m\u001b[1;33m[\u001b[0m\u001b[1;34m'd'\u001b[0m\u001b[1;33m]\u001b[0m\u001b[1;33m,\u001b[0m\u001b[0mrecompute\u001b[0m\u001b[1;33m=\u001b[0m\u001b[1;32mTrue\u001b[0m\u001b[1;33m,\u001b[0m \u001b[1;33m**\u001b[0m\u001b[0mkwarg_dict\u001b[0m\u001b[1;33m)\u001b[0m\u001b[1;33m\u001b[0m\u001b[1;33m\u001b[0m\u001b[0m\n\u001b[0m",
      "\u001b[1;32m~\\Desktop\\github\\Main\\figs.py\u001b[0m in \u001b[0;36mresolve_c\u001b[1;34m(model, vars, recompute, accuracy, MA, AD, ST_h, ST_w, ages, **kwargs)\u001b[0m\n\u001b[0;32m    561\u001b[0m \u001b[1;33m\u001b[0m\u001b[0m\n\u001b[0;32m    562\u001b[0m             \u001b[1;31m# solve and simulate\u001b[0m\u001b[1;33m\u001b[0m\u001b[1;33m\u001b[0m\u001b[1;33m\u001b[0m\u001b[0m\n\u001b[1;32m--> 563\u001b[1;33m             \u001b[0mmodel\u001b[0m\u001b[1;33m.\u001b[0m\u001b[0msolve\u001b[0m\u001b[1;33m(\u001b[0m\u001b[0mrecompute\u001b[0m\u001b[1;33m=\u001b[0m\u001b[0mrecompute\u001b[0m\u001b[1;33m)\u001b[0m\u001b[1;33m\u001b[0m\u001b[1;33m\u001b[0m\u001b[0m\n\u001b[0m\u001b[0;32m    564\u001b[0m             \u001b[0mmodel\u001b[0m\u001b[1;33m.\u001b[0m\u001b[0msimulate\u001b[0m\u001b[1;33m(\u001b[0m\u001b[0mrecompute\u001b[0m\u001b[1;33m=\u001b[0m\u001b[0mrecompute\u001b[0m\u001b[1;33m,\u001b[0m\u001b[0maccuracy\u001b[0m\u001b[1;33m=\u001b[0m\u001b[0maccuracy\u001b[0m\u001b[1;33m)\u001b[0m\u001b[1;33m\u001b[0m\u001b[1;33m\u001b[0m\u001b[0m\n\u001b[0;32m    565\u001b[0m             \u001b[0my\u001b[0m \u001b[1;33m=\u001b[0m \u001b[0mpolicy_simulation_c\u001b[0m\u001b[1;33m(\u001b[0m\u001b[0mmodel\u001b[0m\u001b[1;33m,\u001b[0m\u001b[0mvar\u001b[0m\u001b[1;33m=\u001b[0m\u001b[0mvar\u001b[0m\u001b[1;33m,\u001b[0m\u001b[0mMA\u001b[0m\u001b[1;33m=\u001b[0m\u001b[0mMA\u001b[0m\u001b[1;33m,\u001b[0m\u001b[0mAD\u001b[0m\u001b[1;33m=\u001b[0m\u001b[0mAD\u001b[0m\u001b[1;33m,\u001b[0m\u001b[0mST_h\u001b[0m\u001b[1;33m=\u001b[0m\u001b[0mST_h\u001b[0m\u001b[1;33m,\u001b[0m\u001b[0mST_w\u001b[0m\u001b[1;33m=\u001b[0m\u001b[0mST_w\u001b[0m\u001b[1;33m,\u001b[0m\u001b[0mages\u001b[0m\u001b[1;33m=\u001b[0m\u001b[0mages\u001b[0m\u001b[1;33m)\u001b[0m\u001b[1;33m\u001b[0m\u001b[1;33m\u001b[0m\u001b[0m\n",
      "\u001b[1;32m~\\Desktop\\github\\Main\\Model.py\u001b[0m in \u001b[0;36msolve\u001b[1;34m(self, recompute)\u001b[0m\n\u001b[0;32m    270\u001b[0m             \u001b[1;31m# allocate solution\u001b[0m\u001b[1;33m\u001b[0m\u001b[1;33m\u001b[0m\u001b[1;33m\u001b[0m\u001b[0m\n\u001b[0;32m    271\u001b[0m             \u001b[0mself\u001b[0m\u001b[1;33m.\u001b[0m\u001b[0mSingle\u001b[0m\u001b[1;33m.\u001b[0m\u001b[0m_solve_prep\u001b[0m\u001b[1;33m(\u001b[0m\u001b[0mrecompute\u001b[0m\u001b[1;33m)\u001b[0m\u001b[1;33m\u001b[0m\u001b[1;33m\u001b[0m\u001b[0m\n\u001b[1;32m--> 272\u001b[1;33m             \u001b[0mself\u001b[0m\u001b[1;33m.\u001b[0m\u001b[0m_solve_prep\u001b[0m\u001b[1;33m(\u001b[0m\u001b[0mrecompute\u001b[0m\u001b[1;33m)\u001b[0m\u001b[1;33m\u001b[0m\u001b[1;33m\u001b[0m\u001b[0m\n\u001b[0m\u001b[0;32m    273\u001b[0m \u001b[1;33m\u001b[0m\u001b[0m\n\u001b[0;32m    274\u001b[0m             \u001b[1;31m# solve model\u001b[0m\u001b[1;33m\u001b[0m\u001b[1;33m\u001b[0m\u001b[1;33m\u001b[0m\u001b[0m\n",
      "\u001b[1;32m~\\Desktop\\github\\Main\\Model.py\u001b[0m in \u001b[0;36m_solve_prep\u001b[1;34m(self, recompute)\u001b[0m\n\u001b[0;32m    241\u001b[0m \u001b[1;33m\u001b[0m\u001b[0m\n\u001b[0;32m    242\u001b[0m             \u001b[1;31m# solution\u001b[0m\u001b[1;33m\u001b[0m\u001b[1;33m\u001b[0m\u001b[1;33m\u001b[0m\u001b[0m\n\u001b[1;32m--> 243\u001b[1;33m             \u001b[0mself\u001b[0m\u001b[1;33m.\u001b[0m\u001b[0msol\u001b[0m\u001b[1;33m.\u001b[0m\u001b[0mc\u001b[0m \u001b[1;33m=\u001b[0m \u001b[0mnp\u001b[0m\u001b[1;33m.\u001b[0m\u001b[0mnan\u001b[0m\u001b[1;33m*\u001b[0m\u001b[0mnp\u001b[0m\u001b[1;33m.\u001b[0m\u001b[0mzeros\u001b[0m\u001b[1;33m(\u001b[0m\u001b[1;33m(\u001b[0m\u001b[0mT\u001b[0m\u001b[1;33m,\u001b[0m\u001b[0mNAD\u001b[0m\u001b[1;33m,\u001b[0m\u001b[0mNST\u001b[0m\u001b[1;33m,\u001b[0m\u001b[0mNST\u001b[0m\u001b[1;33m,\u001b[0m\u001b[0mNRA\u001b[0m\u001b[1;33m,\u001b[0m\u001b[0mNRA\u001b[0m\u001b[1;33m,\u001b[0m\u001b[0mND\u001b[0m\u001b[1;33m,\u001b[0m\u001b[0mNa\u001b[0m\u001b[1;33m)\u001b[0m\u001b[1;33m)\u001b[0m\u001b[1;33m\u001b[0m\u001b[1;33m\u001b[0m\u001b[0m\n\u001b[0m\u001b[0;32m    244\u001b[0m             \u001b[0mself\u001b[0m\u001b[1;33m.\u001b[0m\u001b[0msol\u001b[0m\u001b[1;33m.\u001b[0m\u001b[0mm\u001b[0m \u001b[1;33m=\u001b[0m \u001b[0mnp\u001b[0m\u001b[1;33m.\u001b[0m\u001b[0mnan\u001b[0m\u001b[1;33m*\u001b[0m\u001b[0mnp\u001b[0m\u001b[1;33m.\u001b[0m\u001b[0mzeros\u001b[0m\u001b[1;33m(\u001b[0m\u001b[1;33m(\u001b[0m\u001b[0mT\u001b[0m\u001b[1;33m,\u001b[0m\u001b[0mNAD\u001b[0m\u001b[1;33m,\u001b[0m\u001b[0mNST\u001b[0m\u001b[1;33m,\u001b[0m\u001b[0mNST\u001b[0m\u001b[1;33m,\u001b[0m\u001b[0mNRA\u001b[0m\u001b[1;33m,\u001b[0m\u001b[0mNRA\u001b[0m\u001b[1;33m,\u001b[0m\u001b[0mND\u001b[0m\u001b[1;33m,\u001b[0m\u001b[0mNa\u001b[0m\u001b[1;33m)\u001b[0m\u001b[1;33m)\u001b[0m\u001b[1;33m\u001b[0m\u001b[1;33m\u001b[0m\u001b[0m\n\u001b[0;32m    245\u001b[0m             \u001b[0mself\u001b[0m\u001b[1;33m.\u001b[0m\u001b[0msol\u001b[0m\u001b[1;33m.\u001b[0m\u001b[0mv\u001b[0m \u001b[1;33m=\u001b[0m \u001b[0mnp\u001b[0m\u001b[1;33m.\u001b[0m\u001b[0mnan\u001b[0m\u001b[1;33m*\u001b[0m\u001b[0mnp\u001b[0m\u001b[1;33m.\u001b[0m\u001b[0mzeros\u001b[0m\u001b[1;33m(\u001b[0m\u001b[1;33m(\u001b[0m\u001b[0mT\u001b[0m\u001b[1;33m,\u001b[0m\u001b[0mNAD\u001b[0m\u001b[1;33m,\u001b[0m\u001b[0mNST\u001b[0m\u001b[1;33m,\u001b[0m\u001b[0mNST\u001b[0m\u001b[1;33m,\u001b[0m\u001b[0mNRA\u001b[0m\u001b[1;33m,\u001b[0m\u001b[0mNRA\u001b[0m\u001b[1;33m,\u001b[0m\u001b[0mND\u001b[0m\u001b[1;33m,\u001b[0m\u001b[0mNa\u001b[0m\u001b[1;33m)\u001b[0m\u001b[1;33m)\u001b[0m\u001b[1;33m\u001b[0m\u001b[1;33m\u001b[0m\u001b[0m\n",
      "\u001b[1;31mMemoryError\u001b[0m: "
     ]
    }
   ],
   "source": [
    "policyRA_C = figs.resolve_c(Couple,vars=['d'],recompute=True, **kwarg_dict)"
   ]
  },
  {
   "cell_type": "code",
   "execution_count": null,
   "metadata": {},
   "outputs": [],
   "source": [
    "policyRA_CR = figs.resolve_c(CoupleRest,vars=['d'],recompute=True, **kwarg_dict)"
   ]
  },
  {
   "cell_type": "code",
   "execution_count": null,
   "metadata": {},
   "outputs": [],
   "source": [
    "x = [1,2,3,4,5]\n",
    "Yra = [policyRA_S['d'], policyRA_C['d'], policyRA_CR['d']]\n",
    "for j in range(len(Y)):\n",
    "    Yra[j] = [(i/Yra[j][0]-1)*100 for i in Yra[j][1:]] # list comprehension to compute relative change\n",
    "names = ['Single model', 'Couple model', 'Restricted Couple model']\n",
    "xlab = 'Increase in age (years)'\n",
    "ylab = 'Relative change (labor supply)'"
   ]
  },
  {
   "cell_type": "code",
   "execution_count": null,
   "metadata": {},
   "outputs": [],
   "source": [
    "fig = plt.figure()\n",
    "ax = fig.add_subplot(1,1,1)\n",
    "figs.plot_exp(x[1:],Yra,ax,names,xlab,ylab)\n",
    "fig.tight_layout()\n",
    "fig.savefig('figs/Experiments/DeductionLaborSupply.png')"
   ]
  },
  {
   "cell_type": "code",
   "execution_count": null,
   "metadata": {},
   "outputs": [],
   "source": []
  },
  {
   "cell_type": "code",
   "execution_count": null,
   "metadata": {},
   "outputs": [],
   "source": []
  },
  {
   "cell_type": "code",
   "execution_count": null,
   "metadata": {},
   "outputs": [],
   "source": []
  },
  {
   "cell_type": "code",
   "execution_count": null,
   "metadata": {},
   "outputs": [],
   "source": []
  },
  {
   "cell_type": "code",
   "execution_count": null,
   "metadata": {},
   "outputs": [],
   "source": []
  },
  {
   "cell_type": "code",
   "execution_count": null,
   "metadata": {},
   "outputs": [],
   "source": []
  },
  {
   "cell_type": "code",
   "execution_count": null,
   "metadata": {},
   "outputs": [],
   "source": []
  },
  {
   "cell_type": "code",
   "execution_count": null,
   "metadata": {},
   "outputs": [],
   "source": []
  },
  {
   "cell_type": "code",
   "execution_count": null,
   "metadata": {},
   "outputs": [],
   "source": []
  },
  {
   "cell_type": "code",
   "execution_count": null,
   "metadata": {},
   "outputs": [],
   "source": []
  },
  {
   "cell_type": "code",
   "execution_count": null,
   "metadata": {},
   "outputs": [],
   "source": []
  },
  {
   "cell_type": "code",
   "execution_count": null,
   "metadata": {},
   "outputs": [],
   "source": []
  },
  {
   "cell_type": "code",
   "execution_count": null,
   "metadata": {},
   "outputs": [],
   "source": []
  },
  {
   "cell_type": "code",
   "execution_count": 49,
   "metadata": {},
   "outputs": [
    {
     "data": {
      "text/plain": [
       "[<matplotlib.lines.Line2D at 0x18723728da0>]"
      ]
     },
     "execution_count": 49,
     "metadata": {},
     "output_type": "execute_result"
    },
    {
     "data": {
      "image/png": "[encoded data removed]",
      "text/plain": [
       "<Figure size 432x288 with 1 Axes>"
      ]
     },
     "metadata": {},
     "output_type": "display_data"
    }
   ],
   "source": [
    "x = [1,2,3,4,5]\n",
    "y = policy_age['d']\n",
    "y = [(i/y[0]-1)*100 for i in y[1:]]\n",
    "plt.plot(x,y)"
   ]
  },
  {
   "cell_type": "markdown",
   "metadata": {},
   "source": [
    "# Couple model"
   ]
  },
  {
   "cell_type": "code",
   "execution_count": 3,
   "metadata": {},
   "outputs": [],
   "source": [
    "model = RetirementClass(couple=True)\n",
    "model.solve()\n",
    "model.simulate()"
   ]
  },
  {
   "cell_type": "code",
   "execution_count": 3,
   "metadata": {},
   "outputs": [],
   "source": [
    "fradrag = model.par.fradrag # to reset\n",
    "x = np.linspace(0,2,10)\n",
    "policy_fradrag = figs.resolve_c(model,vars=['d'],recompute=True, fradrag=x)\n",
    "model.par.fradrag = fradrag\n",
    "model.solve(recompute=True)"
   ]
  },
  {
   "cell_type": "code",
   "execution_count": null,
   "metadata": {},
   "outputs": [],
   "source": [
    "phi_0_male = model.par.phi_0_male\n",
    "phi_0_female = model.par.phi_0_female\n",
    "phi_1 = model.par.phi_1\n",
    "model.par.phi_0_male = 0.0\n",
    "model.par.phi_0_female = 0.0\n",
    "model.par.phi_1 = 0.0\n",
    "\n",
    "policy_fradrag_partial = figs.resolve_c(model,vars=['d'],recompute=True, fradrag=x)\n",
    "model.par.fradrag = fradrag\n",
    "model.par.phi_0_male = phi_0_male\n",
    "model.par.phi_0_female = phi_0_female\n",
    "model.par.phi_1 = phi_1\n",
    "model.solve(recompute=True)"
   ]
  },
  {
   "cell_type": "code",
   "execution_count": 23,
   "metadata": {},
   "outputs": [
    {
     "data": {
      "image/png": "[encoded data removed]",
      "text/plain": [
       "<Figure size 432x288 with 1 Axes>"
      ]
     },
     "metadata": {
      "needs_background": "light"
     },
     "output_type": "display_data"
    }
   ],
   "source": [
    "x = np.linspace(0,2,10)\n",
    "y = policy_fradrag['d']\n",
    "y = [(i/y[0]-1)*100 for i in y[1:]]\n",
    "y_partial = policy_fradrag_partial['d']\n",
    "y_partial = [(i/y_partial[0]-1)*100 for i in y_partial[1:]]\n",
    "fig, ax = plt.subplots(1,1,figsize=(6,4))\n",
    "ax.plot(x[1:],y,'k-o', label='Baseline')\n",
    "ax.plot(x[1:],y_partial,'k-o', label='Without complementarities')\n",
    "ax.set_ylabel('Relative change (labor supply)')\n",
    "ax.set_xlabel('Deduction (100.000 DKR)')\n",
    "fig.savefig('figs/experiment_full_couple_fradrag_labor_supply.png')"
   ]
  },
  {
   "cell_type": "code",
   "execution_count": 4,
   "metadata": {},
   "outputs": [],
   "source": [
    "oap = model.par.oap_age\n",
    "two_year = model.par.two_year\n",
    "erp = model.par.erp_age\n",
    "kwarg_dict = {'oap_age':   [oap, oap+1, oap+2, oap+3, oap+4, oap+5],\n",
    "              'two_year':  [two_year, two_year+1, two_year+2, two_year+3, two_year+4, two_year+5],\n",
    "              'erp_age':   [erp, erp+1, erp+2, erp+3, erp+4, erp+5]}\n",
    "policy_age = figs.resolve_c(model,vars=['d'],recompute=True, **kwarg_dict)\n",
    "model.par.oap_age = oap\n",
    "model.par.two_year = two_year\n",
    "model.par.erp_age = erp\n",
    "model.solve(recompute=True)"
   ]
  },
  {
   "cell_type": "code",
   "execution_count": 5,
   "metadata": {},
   "outputs": [],
   "source": [
    "phi_0_male = model.par.phi_0_male\n",
    "phi_0_female = model.par.phi_0_female\n",
    "phi_1 = model.par.phi_1\n",
    "model.par.phi_0_male = 0.0\n",
    "model.par.phi_0_female = 0.0\n",
    "model.par.phi_1 = 0.0\n",
    "\n",
    "policy_age_partial = figs.resolve_c(model,vars=['d'],recompute=True, **kwarg_dict)\n",
    "model.par.oap_age = oap\n",
    "model.par.two_year = two_year\n",
    "model.par.erp_age = erp\n",
    "model.par.phi_0_male = phi_0_male\n",
    "model.par.phi_0_female = phi_0_female\n",
    "model.par.phi_1 = phi_1\n",
    "model.solve(recompute=True)"
   ]
  },
  {
   "cell_type": "code",
   "execution_count": 16,
   "metadata": {},
   "outputs": [
    {
     "data": {
      "image/png": "[encoded data removed]",
      "text/plain": [
       "<Figure size 432x288 with 1 Axes>"
      ]
     },
     "metadata": {
      "needs_background": "light"
     },
     "output_type": "display_data"
    }
   ],
   "source": [
    "x = [1,2,3,4,5]\n",
    "y = policy_age['d']\n",
    "y = [(i/y[0]-1)*100 for i in y[1:]]\n",
    "y_partial = policy_age_partial['d']\n",
    "y_partial = [(i/y_partial[0]-1)*100 for i in y_partial[1:]]\n",
    "fig, ax = plt.subplots(1,1,figsize=(6,4))\n",
    "ax.plot(x,y,'k-o', label='Baseline')\n",
    "ax.plot(x,y_partial,'r-o', label='Without complementarities')\n",
    "ax.set_xticks(x)\n",
    "ax.legend()\n",
    "ax.set_ylabel('Relative change (labor supply)')\n",
    "ax.set_xlabel('Increase in retirement age (years)')\n",
    "fig.savefig('figs/experiment_full_couple_retirement_age_labor_supply.png')"
   ]
  }
 ],
 "metadata": {
  "kernelspec": {
   "display_name": "Python 3",
   "language": "python",
   "name": "python3"
  },
  "language_info": {
   "codemirror_mode": {
    "name": "ipython",
    "version": 3
   },
   "file_extension": ".py",
   "mimetype": "text/x-python",
   "name": "python",
   "nbconvert_exporter": "python",
   "pygments_lexer": "ipython3",
   "version": "3.7.3"
  }
 },
 "nbformat": 4,
 "nbformat_minor": 2
}
