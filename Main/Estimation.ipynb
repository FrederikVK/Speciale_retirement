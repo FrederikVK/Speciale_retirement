{
 "cells": [
  {
   "cell_type": "markdown",
   "metadata": {},
   "source": [
    "# Setup"
   ]
  },
  {
   "cell_type": "code",
   "execution_count": 1,
   "metadata": {},
   "outputs": [],
   "source": [
    "from consav import runtools\n",
    "runtools.write_numba_config(disable=0,threads=4)"
   ]
  },
  {
   "cell_type": "code",
   "execution_count": 2,
   "metadata": {},
   "outputs": [],
   "source": [
    "%matplotlib inline\n",
    "# reload module each time cell is run\n",
    "%load_ext autoreload\n",
    "%autoreload 2\n",
    "from ModelSingles import SingleClass\n",
    "#from ModelCouples import CoupleClass\n",
    "import numpy as np\n",
    "import matplotlib.pyplot as plt\n",
    "import funs\n",
    "import figs"
   ]
  },
  {
   "cell_type": "code",
   "execution_count": 3,
   "metadata": {},
   "outputs": [
    {
     "ename": "TypingError",
     "evalue": "Failed in nopython mode pipeline (step: nopython frontend)\n\u001b[1mType of variable '$0.4' cannot be determined, operation: build_list(items=[Var($const0.1, <ipython-input-3-ff937188aec6> (6)), Var($0.3, <ipython-input-3-ff937188aec6> (6))]), location: <ipython-input-3-ff937188aec6> (6)\n\u001b[1m\nFile \"<ipython-input-3-ff937188aec6>\", line 6:\u001b[0m\n\u001b[1mdef test():\n\u001b[1m    return [1, [2]]\n\u001b[0m    \u001b[1m^\u001b[0m\u001b[0m\n\u001b[0m\nThis is not usually a problem with Numba itself but instead often caused by\nthe use of unsupported features or an issue in resolving types.\n\nTo see Python/NumPy features supported by the latest release of Numba visit:\nhttp://numba.pydata.org/numba-doc/dev/reference/pysupported.html\nand\nhttp://numba.pydata.org/numba-doc/dev/reference/numpysupported.html\n\nFor more information about typing errors and how to debug them visit:\nhttp://numba.pydata.org/numba-doc/latest/user/troubleshoot.html#my-code-doesn-t-compile\n\nIf you think your code should work with Numba, please report the error message\nand traceback, along with a minimal reproducer at:\nhttps://github.com/numba/numba/issues/new\n",
     "output_type": "error",
     "traceback": [
      "\u001b[1;31m---------------------------------------------------------------------------\u001b[0m",
      "\u001b[1;31mTypingError\u001b[0m                               Traceback (most recent call last)",
      "\u001b[1;32m<ipython-input-3-ff937188aec6>\u001b[0m in \u001b[0;36m<module>\u001b[1;34m\u001b[0m\n\u001b[0;32m      5\u001b[0m \u001b[1;32mdef\u001b[0m \u001b[0mtest\u001b[0m\u001b[1;33m(\u001b[0m\u001b[1;33m)\u001b[0m\u001b[1;33m:\u001b[0m\u001b[1;33m\u001b[0m\u001b[1;33m\u001b[0m\u001b[0m\n\u001b[0;32m      6\u001b[0m     \u001b[1;32mreturn\u001b[0m \u001b[1;33m[\u001b[0m\u001b[1;36m1\u001b[0m\u001b[1;33m,\u001b[0m \u001b[1;33m[\u001b[0m\u001b[1;36m2\u001b[0m\u001b[1;33m]\u001b[0m\u001b[1;33m]\u001b[0m\u001b[1;33m\u001b[0m\u001b[1;33m\u001b[0m\u001b[0m\n\u001b[1;32m----> 7\u001b[1;33m \u001b[0mtest\u001b[0m\u001b[1;33m(\u001b[0m\u001b[1;33m)\u001b[0m\u001b[1;33m\u001b[0m\u001b[1;33m\u001b[0m\u001b[0m\n\u001b[0m",
      "\u001b[1;32m~\\Anaconda3\\lib\\site-packages\\numba\\dispatcher.py\u001b[0m in \u001b[0;36m_compile_for_args\u001b[1;34m(self, *args, **kws)\u001b[0m\n\u001b[0;32m    348\u001b[0m                 \u001b[0me\u001b[0m\u001b[1;33m.\u001b[0m\u001b[0mpatch_message\u001b[0m\u001b[1;33m(\u001b[0m\u001b[0mmsg\u001b[0m\u001b[1;33m)\u001b[0m\u001b[1;33m\u001b[0m\u001b[1;33m\u001b[0m\u001b[0m\n\u001b[0;32m    349\u001b[0m \u001b[1;33m\u001b[0m\u001b[0m\n\u001b[1;32m--> 350\u001b[1;33m             \u001b[0merror_rewrite\u001b[0m\u001b[1;33m(\u001b[0m\u001b[0me\u001b[0m\u001b[1;33m,\u001b[0m \u001b[1;34m'typing'\u001b[0m\u001b[1;33m)\u001b[0m\u001b[1;33m\u001b[0m\u001b[1;33m\u001b[0m\u001b[0m\n\u001b[0m\u001b[0;32m    351\u001b[0m         \u001b[1;32mexcept\u001b[0m \u001b[0merrors\u001b[0m\u001b[1;33m.\u001b[0m\u001b[0mUnsupportedError\u001b[0m \u001b[1;32mas\u001b[0m \u001b[0me\u001b[0m\u001b[1;33m:\u001b[0m\u001b[1;33m\u001b[0m\u001b[1;33m\u001b[0m\u001b[0m\n\u001b[0;32m    352\u001b[0m             \u001b[1;31m# Something unsupported is present in the user code, add help info\u001b[0m\u001b[1;33m\u001b[0m\u001b[1;33m\u001b[0m\u001b[1;33m\u001b[0m\u001b[0m\n",
      "\u001b[1;32m~\\Anaconda3\\lib\\site-packages\\numba\\dispatcher.py\u001b[0m in \u001b[0;36merror_rewrite\u001b[1;34m(e, issue_type)\u001b[0m\n\u001b[0;32m    315\u001b[0m                 \u001b[1;32mraise\u001b[0m \u001b[0me\u001b[0m\u001b[1;33m\u001b[0m\u001b[1;33m\u001b[0m\u001b[0m\n\u001b[0;32m    316\u001b[0m             \u001b[1;32melse\u001b[0m\u001b[1;33m:\u001b[0m\u001b[1;33m\u001b[0m\u001b[1;33m\u001b[0m\u001b[0m\n\u001b[1;32m--> 317\u001b[1;33m                 \u001b[0mreraise\u001b[0m\u001b[1;33m(\u001b[0m\u001b[0mtype\u001b[0m\u001b[1;33m(\u001b[0m\u001b[0me\u001b[0m\u001b[1;33m)\u001b[0m\u001b[1;33m,\u001b[0m \u001b[0me\u001b[0m\u001b[1;33m,\u001b[0m \u001b[1;32mNone\u001b[0m\u001b[1;33m)\u001b[0m\u001b[1;33m\u001b[0m\u001b[1;33m\u001b[0m\u001b[0m\n\u001b[0m\u001b[0;32m    318\u001b[0m \u001b[1;33m\u001b[0m\u001b[0m\n\u001b[0;32m    319\u001b[0m         \u001b[0margtypes\u001b[0m \u001b[1;33m=\u001b[0m \u001b[1;33m[\u001b[0m\u001b[1;33m]\u001b[0m\u001b[1;33m\u001b[0m\u001b[1;33m\u001b[0m\u001b[0m\n",
      "\u001b[1;32m~\\Anaconda3\\lib\\site-packages\\numba\\six.py\u001b[0m in \u001b[0;36mreraise\u001b[1;34m(tp, value, tb)\u001b[0m\n\u001b[0;32m    656\u001b[0m             \u001b[0mvalue\u001b[0m \u001b[1;33m=\u001b[0m \u001b[0mtp\u001b[0m\u001b[1;33m(\u001b[0m\u001b[1;33m)\u001b[0m\u001b[1;33m\u001b[0m\u001b[1;33m\u001b[0m\u001b[0m\n\u001b[0;32m    657\u001b[0m         \u001b[1;32mif\u001b[0m \u001b[0mvalue\u001b[0m\u001b[1;33m.\u001b[0m\u001b[0m__traceback__\u001b[0m \u001b[1;32mis\u001b[0m \u001b[1;32mnot\u001b[0m \u001b[0mtb\u001b[0m\u001b[1;33m:\u001b[0m\u001b[1;33m\u001b[0m\u001b[1;33m\u001b[0m\u001b[0m\n\u001b[1;32m--> 658\u001b[1;33m             \u001b[1;32mraise\u001b[0m \u001b[0mvalue\u001b[0m\u001b[1;33m.\u001b[0m\u001b[0mwith_traceback\u001b[0m\u001b[1;33m(\u001b[0m\u001b[0mtb\u001b[0m\u001b[1;33m)\u001b[0m\u001b[1;33m\u001b[0m\u001b[1;33m\u001b[0m\u001b[0m\n\u001b[0m\u001b[0;32m    659\u001b[0m         \u001b[1;32mraise\u001b[0m \u001b[0mvalue\u001b[0m\u001b[1;33m\u001b[0m\u001b[1;33m\u001b[0m\u001b[0m\n\u001b[0;32m    660\u001b[0m \u001b[1;33m\u001b[0m\u001b[0m\n",
      "\u001b[1;31mTypingError\u001b[0m: Failed in nopython mode pipeline (step: nopython frontend)\n\u001b[1mType of variable '$0.4' cannot be determined, operation: build_list(items=[Var($const0.1, <ipython-input-3-ff937188aec6> (6)), Var($0.3, <ipython-input-3-ff937188aec6> (6))]), location: <ipython-input-3-ff937188aec6> (6)\n\u001b[1m\nFile \"<ipython-input-3-ff937188aec6>\", line 6:\u001b[0m\n\u001b[1mdef test():\n\u001b[1m    return [1, [2]]\n\u001b[0m    \u001b[1m^\u001b[0m\u001b[0m\n\u001b[0m\nThis is not usually a problem with Numba itself but instead often caused by\nthe use of unsupported features or an issue in resolving types.\n\nTo see Python/NumPy features supported by the latest release of Numba visit:\nhttp://numba.pydata.org/numba-doc/dev/reference/pysupported.html\nand\nhttp://numba.pydata.org/numba-doc/dev/reference/numpysupported.html\n\nFor more information about typing errors and how to debug them visit:\nhttp://numba.pydata.org/numba-doc/latest/user/troubleshoot.html#my-code-doesn-t-compile\n\nIf you think your code should work with Numba, please report the error message\nand traceback, along with a minimal reproducer at:\nhttps://github.com/numba/numba/issues/new\n"
     ]
    }
   ],
   "source": [
    "# Test that numba is working\n",
    "# It should throw an error\n",
    "from numba import njit, typeof\n",
    "@njit(parallel=True)\n",
    "def test():\n",
    "    return [1, [2]]\n",
    "test()"
   ]
  },
  {
   "cell_type": "markdown",
   "metadata": {},
   "source": [
    "# Estimation"
   ]
  },
  {
   "cell_type": "code",
   "execution_count": 96,
   "metadata": {},
   "outputs": [],
   "source": [
    "import SimulatedMinimumDistance as SMD"
   ]
  },
  {
   "cell_type": "markdown",
   "metadata": {},
   "source": [
    "Moment and weight functions"
   ]
  },
  {
   "cell_type": "code",
   "execution_count": 124,
   "metadata": {},
   "outputs": [],
   "source": [
    "def mom_fun(data):\n",
    "    mask_mh = (data.states==6) | (data.states==8)\n",
    "    mask_ml = (data.states==5) | (data.states==7)\n",
    "    mask_fh = (data.states==1) | (data.states==3)\n",
    "    mask_fl = (data.states==0) | (data.states==2)\n",
    "    return np.hstack((np.nanmean(data.probs[:,mask_mh],axis=1),\n",
    "                      np.nanmean(data.probs[:,mask_ml],axis=1),\n",
    "                      np.nanmean(data.probs[:,mask_fh],axis=1),\n",
    "                      np.nanmean(data.probs[:,mask_fl],axis=1)\n",
    "                    ))*100\n",
    "\n",
    "def weight_fun(data):\n",
    "    mask_mh = (data.states==6) | (data.states==8)\n",
    "    mask_ml = (data.states==5) | (data.states==7)\n",
    "    mask_fh = (data.states==1) | (data.states==3)\n",
    "    mask_fl = (data.states==0) | (data.states==2)\n",
    "    std = np.hstack((np.nanstd(data.probs[:,mask_mh]*100,axis=1),\n",
    "                     np.nanstd(data.probs[:,mask_ml]*100,axis=1),\n",
    "                     np.nanstd(data.probs[:,mask_fh]*100,axis=1),\n",
    "                     np.nanstd(data.probs[:,mask_fl]*100,axis=1)\n",
    "                    ))\n",
    "    return np.eye(len(std))*std"
   ]
  },
  {
   "cell_type": "markdown",
   "metadata": {},
   "source": [
    "Create simulated data"
   ]
  },
  {
   "cell_type": "code",
   "execution_count": 123,
   "metadata": {},
   "outputs": [],
   "source": [
    "data = SingleClass(Na=190, poc=10, a_max=10, simN=40000, simT=20)\n",
    "data.par.simStates = np.array(list(range(8))*5000)\n",
    "data.solve()\n",
    "data.simulate()"
   ]
  },
  {
   "cell_type": "code",
   "execution_count": 125,
   "metadata": {},
   "outputs": [],
   "source": [
    "mom_data = mom_fun(data.sim)\n",
    "weight = weight_fun(data.sim)"
   ]
  },
  {
   "cell_type": "markdown",
   "metadata": {},
   "source": [
    "Preparing for estimation"
   ]
  },
  {
   "cell_type": "code",
   "execution_count": 126,
   "metadata": {},
   "outputs": [],
   "source": [
    "true = [data.par.alpha_0_female, data.par.alpha_0_male, data.par.alpha_1]\n",
    "theta0 = [i*1.5 for i in true]\n",
    "add_str = '_est'\n",
    "est_par = (\"alpha_0_female\", \"alpha_0_male\", \"alpha_1\") # remember to be list if only 1 var"
   ]
  },
  {
   "cell_type": "code",
   "execution_count": 127,
   "metadata": {},
   "outputs": [],
   "source": [
    "model_base = SingleClass(Na=190, poc=10, a_max=10, simN=40000, simT=20)\n",
    "model_base.par.simStates = np.array(list(range(8))*5000)\n",
    "model_base.par.sim_seed = 2019\n",
    "model_base._simulate_prep()"
   ]
  },
  {
   "cell_type": "code",
   "execution_count": 128,
   "metadata": {},
   "outputs": [
    {
     "name": "stdout",
     "output_type": "stream",
     "text": [
      "data seed: 1998\n",
      "estimation seed 2019\n"
     ]
    }
   ],
   "source": [
    "# Different seeeds\n",
    "print('data seed:',data.par.sim_seed)\n",
    "print('estimation seed',model_base.par.sim_seed)"
   ]
  },
  {
   "cell_type": "code",
   "execution_count": 129,
   "metadata": {},
   "outputs": [
    {
     "name": "stdout",
     "output_type": "stream",
     "text": [
      "False False False\n"
     ]
    }
   ],
   "source": [
    "# And different draws\n",
    "print(np.allclose(data.sim.unif,model_base.sim.unif),\n",
    "      np.allclose(data.sim.deadP,model_base.sim.deadP),\n",
    "      np.allclose(data.sim.inc_shock,model_base.sim.inc_shock))"
   ]
  },
  {
   "cell_type": "markdown",
   "metadata": {},
   "source": [
    "# Visualize objective function"
   ]
  },
  {
   "cell_type": "code",
   "execution_count": 156,
   "metadata": {},
   "outputs": [
    {
     "ename": "ZeroDivisionError",
     "evalue": "division by zero",
     "output_type": "error",
     "traceback": [
      "\u001b[1;31m---------------------------------------------------------------------------\u001b[0m",
      "\u001b[1;31mZeroDivisionError\u001b[0m                         Traceback (most recent call last)",
      "\u001b[1;32m<ipython-input-156-25f7eaf46b7b>\u001b[0m in \u001b[0;36m<module>\u001b[1;34m\u001b[0m\n\u001b[0;32m      6\u001b[0m     \u001b[0mmodel_base\u001b[0m\u001b[1;33m.\u001b[0m\u001b[0mpar\u001b[0m\u001b[1;33m.\u001b[0m\u001b[0msimStates\u001b[0m \u001b[1;33m=\u001b[0m \u001b[0mnp\u001b[0m\u001b[1;33m.\u001b[0m\u001b[0marray\u001b[0m\u001b[1;33m(\u001b[0m\u001b[0mlist\u001b[0m\u001b[1;33m(\u001b[0m\u001b[0mrange\u001b[0m\u001b[1;33m(\u001b[0m\u001b[1;36m8\u001b[0m\u001b[1;33m)\u001b[0m\u001b[1;33m)\u001b[0m\u001b[1;33m*\u001b[0m\u001b[0mn\u001b[0m\u001b[1;33m)\u001b[0m\u001b[1;33m\u001b[0m\u001b[1;33m\u001b[0m\u001b[0m\n\u001b[0;32m      7\u001b[0m     \u001b[0mmodel_base\u001b[0m\u001b[1;33m.\u001b[0m\u001b[0mpar\u001b[0m\u001b[1;33m.\u001b[0m\u001b[0msimM_init\u001b[0m \u001b[1;33m=\u001b[0m \u001b[1;36m5\u001b[0m\u001b[1;33m*\u001b[0m\u001b[0mnp\u001b[0m\u001b[1;33m.\u001b[0m\u001b[0mones\u001b[0m\u001b[1;33m(\u001b[0m\u001b[0mmodel_base\u001b[0m\u001b[1;33m.\u001b[0m\u001b[0mpar\u001b[0m\u001b[1;33m.\u001b[0m\u001b[0msimN\u001b[0m\u001b[1;33m)\u001b[0m\u001b[1;33m\u001b[0m\u001b[1;33m\u001b[0m\u001b[0m\n\u001b[1;32m----> 8\u001b[1;33m     \u001b[0mmodel_base\u001b[0m\u001b[1;33m.\u001b[0m\u001b[0msimulate\u001b[0m\u001b[1;33m(\u001b[0m\u001b[1;33m)\u001b[0m\u001b[1;33m\u001b[0m\u001b[1;33m\u001b[0m\u001b[0m\n\u001b[0m\u001b[0;32m      9\u001b[0m     \u001b[0mmom_sim\u001b[0m \u001b[1;33m=\u001b[0m \u001b[0mmom_fun\u001b[0m\u001b[1;33m(\u001b[0m\u001b[0mmodel_base\u001b[0m\u001b[1;33m.\u001b[0m\u001b[0msim\u001b[0m\u001b[1;33m)\u001b[0m\u001b[1;33m\u001b[0m\u001b[1;33m\u001b[0m\u001b[0m\n\u001b[0;32m     10\u001b[0m     \u001b[0mdiff\u001b[0m \u001b[1;33m=\u001b[0m \u001b[0mmom_data\u001b[0m \u001b[1;33m-\u001b[0m \u001b[0mmom_sim\u001b[0m\u001b[1;33m\u001b[0m\u001b[1;33m\u001b[0m\u001b[0m\n",
      "\u001b[1;32m~\\Desktop\\speciale_retirement\\kode\\Speciale_retirement\\Main\\ModelSingles.py\u001b[0m in \u001b[0;36msimulate\u001b[1;34m(self, accuracy_test)\u001b[0m\n\u001b[0;32m    419\u001b[0m \u001b[1;33m\u001b[0m\u001b[0m\n\u001b[0;32m    420\u001b[0m         \u001b[1;31m# b. simulate\u001b[0m\u001b[1;33m\u001b[0m\u001b[1;33m\u001b[0m\u001b[1;33m\u001b[0m\u001b[0m\n\u001b[1;32m--> 421\u001b[1;33m         \u001b[0msimulate\u001b[0m\u001b[1;33m.\u001b[0m\u001b[0mlifecycle\u001b[0m\u001b[1;33m(\u001b[0m\u001b[0mself\u001b[0m\u001b[1;33m.\u001b[0m\u001b[0msim\u001b[0m\u001b[1;33m,\u001b[0m\u001b[0mself\u001b[0m\u001b[1;33m.\u001b[0m\u001b[0msol\u001b[0m\u001b[1;33m,\u001b[0m\u001b[0mself\u001b[0m\u001b[1;33m.\u001b[0m\u001b[0mpar\u001b[0m\u001b[1;33m,\u001b[0m\u001b[0maccuracy_test\u001b[0m\u001b[1;33m)\u001b[0m\u001b[1;33m\u001b[0m\u001b[1;33m\u001b[0m\u001b[0m\n\u001b[0m\u001b[0;32m    422\u001b[0m \u001b[1;33m\u001b[0m\u001b[0m\n\u001b[0;32m    423\u001b[0m \u001b[1;33m\u001b[0m\u001b[0m\n",
      "\u001b[1;32m~\\Desktop\\speciale_retirement\\kode\\Speciale_retirement\\Main\\simulate.py\u001b[0m in \u001b[0;36mlifecycle\u001b[1;34m(sim, sol, par, accuracy_test)\u001b[0m\n\u001b[0;32m     81\u001b[0m                 \u001b[0mv_interp\u001b[0m \u001b[1;33m=\u001b[0m \u001b[0mnp\u001b[0m\u001b[1;33m.\u001b[0m\u001b[0mnan\u001b[0m\u001b[1;33m*\u001b[0m\u001b[0mnp\u001b[0m\u001b[1;33m.\u001b[0m\u001b[0mzeros\u001b[0m\u001b[1;33m(\u001b[0m\u001b[1;33m(\u001b[0m\u001b[0mlen\u001b[0m\u001b[1;33m(\u001b[0m\u001b[0mwork\u001b[0m\u001b[1;33m)\u001b[0m\u001b[1;33m,\u001b[0m\u001b[1;36m2\u001b[0m\u001b[1;33m)\u001b[0m\u001b[1;33m)\u001b[0m\u001b[1;33m\u001b[0m\u001b[1;33m\u001b[0m\u001b[0m\n\u001b[0;32m     82\u001b[0m                 \u001b[1;32mfor\u001b[0m \u001b[0mid\u001b[0m \u001b[1;32min\u001b[0m \u001b[0mrange\u001b[0m\u001b[1;33m(\u001b[0m\u001b[1;36m2\u001b[0m\u001b[1;33m)\u001b[0m\u001b[1;33m:\u001b[0m\u001b[1;33m\u001b[0m\u001b[1;33m\u001b[0m\u001b[0m\n\u001b[1;32m---> 83\u001b[1;33m                     \u001b[0mlinear_interp\u001b[0m\u001b[1;33m.\u001b[0m\u001b[0minterp_1d_vec_mon\u001b[0m\u001b[1;33m(\u001b[0m\u001b[0mprep\u001b[0m\u001b[1;33m,\u001b[0m\u001b[0mm_sol\u001b[0m\u001b[1;33m[\u001b[0m\u001b[0mt\u001b[0m\u001b[1;33m,\u001b[0m\u001b[0mst\u001b[0m\u001b[1;33m,\u001b[0m\u001b[1;33m:\u001b[0m\u001b[1;33m,\u001b[0m\u001b[0mid\u001b[0m\u001b[1;33m]\u001b[0m\u001b[1;33m,\u001b[0m\u001b[0mc_sol\u001b[0m\u001b[1;33m[\u001b[0m\u001b[0mt\u001b[0m\u001b[1;33m,\u001b[0m\u001b[0mst\u001b[0m\u001b[1;33m,\u001b[0m\u001b[1;33m:\u001b[0m\u001b[1;33m,\u001b[0m\u001b[0mid\u001b[0m\u001b[1;33m]\u001b[0m\u001b[1;33m,\u001b[0m\u001b[0mm\u001b[0m\u001b[1;33m[\u001b[0m\u001b[0mt\u001b[0m\u001b[1;33m,\u001b[0m\u001b[0mwork\u001b[0m\u001b[1;33m]\u001b[0m\u001b[1;33m,\u001b[0m\u001b[0mc_interp\u001b[0m\u001b[1;33m[\u001b[0m\u001b[1;33m:\u001b[0m\u001b[1;33m,\u001b[0m\u001b[0mid\u001b[0m\u001b[1;33m]\u001b[0m\u001b[1;33m)\u001b[0m\u001b[1;33m\u001b[0m\u001b[1;33m\u001b[0m\u001b[0m\n\u001b[0m\u001b[0;32m     84\u001b[0m                     \u001b[0mlinear_interp\u001b[0m\u001b[1;33m.\u001b[0m\u001b[0minterp_1d_vec_mon_rep\u001b[0m\u001b[1;33m(\u001b[0m\u001b[0mprep\u001b[0m\u001b[1;33m,\u001b[0m\u001b[0mm_sol\u001b[0m\u001b[1;33m[\u001b[0m\u001b[0mt\u001b[0m\u001b[1;33m,\u001b[0m\u001b[0mst\u001b[0m\u001b[1;33m,\u001b[0m\u001b[1;33m:\u001b[0m\u001b[1;33m,\u001b[0m\u001b[0mid\u001b[0m\u001b[1;33m]\u001b[0m\u001b[1;33m,\u001b[0m\u001b[0mv_sol\u001b[0m\u001b[1;33m[\u001b[0m\u001b[0mt\u001b[0m\u001b[1;33m,\u001b[0m\u001b[0mst\u001b[0m\u001b[1;33m,\u001b[0m\u001b[1;33m:\u001b[0m\u001b[1;33m,\u001b[0m\u001b[0mid\u001b[0m\u001b[1;33m]\u001b[0m\u001b[1;33m,\u001b[0m\u001b[0mm\u001b[0m\u001b[1;33m[\u001b[0m\u001b[0mt\u001b[0m\u001b[1;33m,\u001b[0m\u001b[0mwork\u001b[0m\u001b[1;33m]\u001b[0m\u001b[1;33m,\u001b[0m\u001b[0mv_interp\u001b[0m\u001b[1;33m[\u001b[0m\u001b[1;33m:\u001b[0m\u001b[1;33m,\u001b[0m\u001b[0mid\u001b[0m\u001b[1;33m]\u001b[0m\u001b[1;33m)\u001b[0m\u001b[1;33m\u001b[0m\u001b[1;33m\u001b[0m\u001b[0m\n\u001b[0;32m     85\u001b[0m \u001b[1;33m\u001b[0m\u001b[0m\n",
      "\u001b[1;31mZeroDivisionError\u001b[0m: division by zero"
     ]
    }
   ],
   "source": [
    "n_lst = [1000,2000,3000,4000]\n",
    "y_lst = []\n",
    "\n",
    "for n in n_lst:\n",
    "    model_base.par.simN = 8*n\n",
    "    model_base.par.simStates = np.array(list(range(8))*n)\n",
    "    model_base.par.simM_init = 5*np.ones(model_base.par.simN)\n",
    "    model_base.simulate()\n",
    "    mom_sim = mom_fun(model_base.sim)\n",
    "    diff = mom_data - mom_sim\n",
    "    obj = (np.transpose(diff) @ weight) @ diff\n",
    "    y_lst.append(obj)"
   ]
  },
  {
   "cell_type": "code",
   "execution_count": null,
   "metadata": {},
   "outputs": [],
   "source": [
    "plt.plot(n_lst,y_lst)"
   ]
  },
  {
   "cell_type": "markdown",
   "metadata": {},
   "source": [
    "Estimate"
   ]
  },
  {
   "cell_type": "code",
   "execution_count": 130,
   "metadata": {},
   "outputs": [
    {
     "name": "stdout",
     "output_type": "stream",
     "text": [
      " alpha_0_female=0.253 alpha_0_male=0.240 alpha_1=0.080 -> 3615.1474\n",
      " alpha_0_female=0.266 alpha_0_male=0.240 alpha_1=0.080 -> 4072.0490\n",
      " alpha_0_female=0.253 alpha_0_male=0.252 alpha_1=0.080 -> 4059.5013\n",
      " alpha_0_female=0.253 alpha_0_male=0.240 alpha_1=0.083 -> 3759.7614\n",
      " alpha_0_female=0.241 alpha_0_male=0.248 alpha_1=0.082 -> 3588.9179\n",
      " alpha_0_female=0.228 alpha_0_male=0.252 alpha_1=0.083 -> 3460.2423\n",
      " alpha_0_female=0.237 alpha_0_male=0.236 alpha_1=0.085 -> 3130.9047\n",
      " alpha_0_female=0.228 alpha_0_male=0.228 alpha_1=0.087 -> 2717.9516\n",
      " alpha_0_female=0.220 alpha_0_male=0.240 alpha_1=0.083 -> 2781.7344\n",
      " alpha_0_female=0.197 alpha_0_male=0.240 alpha_1=0.090 -> 2507.0991\n",
      " alpha_0_female=0.169 alpha_0_male=0.240 alpha_1=0.095 -> 2300.4547\n",
      " alpha_0_female=0.183 alpha_0_male=0.220 alpha_1=0.094 -> 1723.4121\n",
      " alpha_0_female=0.161 alpha_0_male=0.204 alpha_1=0.099 -> 1151.1759\n",
      " alpha_0_female=0.152 alpha_0_male=0.208 alpha_1=0.105 -> 1338.9430\n",
      " alpha_0_female=0.093 alpha_0_male=0.207 alpha_1=0.112 -> 1971.8641\n",
      " alpha_0_female=0.101 alpha_0_male=0.172 alpha_1=0.115 -> 1088.3530\n",
      " alpha_0_female=0.068 alpha_0_male=0.139 alpha_1=0.125 -> 1712.0687\n",
      " alpha_0_female=0.183 alpha_0_male=0.183 alpha_1=0.101 -> 956.0225\n",
      " alpha_0_female=0.228 alpha_0_male=0.171 alpha_1=0.095 -> 1589.2537\n",
      " alpha_0_female=0.145 alpha_0_male=0.165 alpha_1=0.106 -> 503.7073\n",
      " alpha_0_female=0.141 alpha_0_male=0.143 alpha_1=0.106 -> 355.9641\n",
      " alpha_0_female=0.123 alpha_0_male=0.129 alpha_1=0.116 -> 524.2889\n",
      " alpha_0_female=0.197 alpha_0_male=0.131 alpha_1=0.100 -> 793.8339\n",
      " alpha_0_female=0.124 alpha_0_male=0.086 alpha_1=0.114 -> 1072.4753\n",
      " alpha_0_female=0.168 alpha_0_male=0.159 alpha_1=0.104 -> 531.9852\n",
      " alpha_0_female=0.092 alpha_0_male=0.156 alpha_1=0.118 -> 1118.0617\n",
      " alpha_0_female=0.170 alpha_0_male=0.137 alpha_1=0.104 -> 465.8051\n",
      " alpha_0_female=0.121 alpha_0_male=0.114 alpha_1=0.113 -> 601.6594\n",
      " alpha_0_female=0.156 alpha_0_male=0.147 alpha_1=0.106 -> 413.8167\n",
      " alpha_0_female=0.189 alpha_0_male=0.157 alpha_1=0.096 -> 612.8416\n",
      " alpha_0_female=0.139 alpha_0_male=0.136 alpha_1=0.111 -> 399.9430\n",
      " alpha_0_female=0.121 alpha_0_male=0.147 alpha_1=0.111 -> 520.9680\n",
      " alpha_0_female=0.158 alpha_0_male=0.140 alpha_1=0.106 -> 397.4061\n",
      " alpha_0_female=0.136 alpha_0_male=0.132 alpha_1=0.109 -> 382.7557\n",
      " alpha_0_female=0.150 alpha_0_male=0.141 alpha_1=0.103 -> 326.3418\n",
      " alpha_0_female=0.156 alpha_0_male=0.143 alpha_1=0.100 -> 305.4146\n",
      " alpha_0_female=0.130 alpha_0_male=0.139 alpha_1=0.104 -> 365.7697\n",
      " alpha_0_female=0.149 alpha_0_male=0.153 alpha_1=0.098 -> 295.3321\n",
      " alpha_0_female=0.155 alpha_0_male=0.163 alpha_1=0.092 -> 304.8672\n",
      " alpha_0_female=0.167 alpha_0_male=0.154 alpha_1=0.099 -> 395.2210\n",
      " alpha_0_female=0.139 alpha_0_male=0.143 alpha_1=0.103 -> 316.0734\n",
      " alpha_0_female=0.155 alpha_0_male=0.149 alpha_1=0.094 -> 244.7784\n",
      " alpha_0_female=0.162 alpha_0_male=0.152 alpha_1=0.088 -> 206.1178\n",
      " alpha_0_female=0.171 alpha_0_male=0.156 alpha_1=0.088 -> 297.2679\n",
      " alpha_0_female=0.166 alpha_0_male=0.163 alpha_1=0.083 -> 229.6581\n",
      " alpha_0_female=0.146 alpha_0_male=0.156 alpha_1=0.091 -> 240.1679\n",
      " alpha_0_female=0.167 alpha_0_male=0.162 alpha_1=0.077 -> 156.1434\n",
      " alpha_0_female=0.176 alpha_0_male=0.167 alpha_1=0.066 -> 134.6862\n",
      " alpha_0_female=0.190 alpha_0_male=0.165 alpha_1=0.066 -> 257.5742\n",
      " alpha_0_female=0.157 alpha_0_male=0.159 alpha_1=0.085 -> 195.1847\n",
      " alpha_0_female=0.164 alpha_0_male=0.155 alpha_1=0.077 -> 114.2540\n",
      " alpha_0_female=0.163 alpha_0_male=0.150 alpha_1=0.074 -> 85.6094\n",
      " alpha_0_female=0.169 alpha_0_male=0.165 alpha_1=0.062 -> 69.1252\n",
      " alpha_0_female=0.173 alpha_0_male=0.172 alpha_1=0.049 -> 57.4904\n",
      " alpha_0_female=0.185 alpha_0_male=0.167 alpha_1=0.040 -> 72.5562\n",
      " alpha_0_female=0.171 alpha_0_male=0.159 alpha_1=0.043 -> 47.1128\n",
      " alpha_0_female=0.169 alpha_0_male=0.156 alpha_1=0.031 -> 166.9016\n",
      " alpha_0_female=0.189 alpha_0_male=0.182 alpha_1=0.014 -> 211.8283\n",
      " alpha_0_female=0.170 alpha_0_male=0.158 alpha_1=0.059 -> 37.7795\n",
      " alpha_0_female=0.158 alpha_0_male=0.159 alpha_1=0.060 -> 48.5638\n",
      " alpha_0_female=0.160 alpha_0_male=0.146 alpha_1=0.059 -> 66.3562\n",
      " alpha_0_female=0.170 alpha_0_male=0.165 alpha_1=0.051 -> 38.0521\n",
      " alpha_0_female=0.183 alpha_0_male=0.163 alpha_1=0.042 -> 59.8932\n",
      " alpha_0_female=0.164 alpha_0_male=0.160 alpha_1=0.055 -> 32.6552\n",
      " alpha_0_female=0.164 alpha_0_male=0.163 alpha_1=0.067 -> 79.1167\n",
      " alpha_0_female=0.170 alpha_0_male=0.160 alpha_1=0.049 -> 32.0359\n",
      " alpha_0_female=0.166 alpha_0_male=0.154 alpha_1=0.057 -> 33.7359\n",
      " alpha_0_female=0.163 alpha_0_male=0.158 alpha_1=0.049 -> 44.2712\n",
      " alpha_0_female=0.168 alpha_0_male=0.158 alpha_1=0.056 -> 31.8144\n",
      " alpha_0_female=0.169 alpha_0_male=0.165 alpha_1=0.050 -> 38.0911\n",
      " alpha_0_female=0.167 alpha_0_male=0.157 alpha_1=0.055 -> 30.0197\n",
      " alpha_0_female=0.172 alpha_0_male=0.157 alpha_1=0.052 -> 31.7868\n",
      " alpha_0_female=0.168 alpha_0_male=0.154 alpha_1=0.060 -> 40.4630\n",
      " alpha_0_female=0.169 alpha_0_male=0.159 alpha_1=0.052 -> 30.5627\n",
      " alpha_0_female=0.171 alpha_0_male=0.157 alpha_1=0.050 -> 33.4539\n",
      " alpha_0_female=0.169 alpha_0_male=0.158 alpha_1=0.055 -> 29.2049\n",
      " alpha_0_female=0.164 alpha_0_male=0.159 alpha_1=0.056 -> 31.9878\n",
      " alpha_0_female=0.170 alpha_0_male=0.157 alpha_1=0.053 -> 30.8620\n",
      " alpha_0_female=0.166 alpha_0_male=0.158 alpha_1=0.055 -> 29.2844\n",
      " alpha_0_female=0.165 alpha_0_male=0.156 alpha_1=0.058 -> 32.3287\n",
      " alpha_0_female=0.168 alpha_0_male=0.158 alpha_1=0.053 -> 29.7283\n",
      " alpha_0_female=0.169 alpha_0_male=0.159 alpha_1=0.053 -> 30.0815\n",
      " alpha_0_female=0.167 alpha_0_male=0.157 alpha_1=0.055 -> 29.9725\n",
      " alpha_0_female=0.168 alpha_0_male=0.159 alpha_1=0.054 -> 30.8825\n",
      " alpha_0_female=0.167 alpha_0_male=0.158 alpha_1=0.055 -> 29.1810\n",
      " alpha_0_female=0.167 alpha_0_male=0.158 alpha_1=0.056 -> 30.8134\n",
      " alpha_0_female=0.168 alpha_0_male=0.158 alpha_1=0.054 -> 29.0888\n",
      " alpha_0_female=0.170 alpha_0_male=0.157 alpha_1=0.054 -> 30.2811\n",
      " alpha_0_female=0.167 alpha_0_male=0.158 alpha_1=0.055 -> 28.8692\n",
      " alpha_0_female=0.166 alpha_0_male=0.158 alpha_1=0.054 -> 28.7386\n",
      " alpha_0_female=0.165 alpha_0_male=0.158 alpha_1=0.054 -> 29.5408\n",
      " alpha_0_female=0.167 alpha_0_male=0.158 alpha_1=0.054 -> 30.0171\n",
      " alpha_0_female=0.167 alpha_0_male=0.158 alpha_1=0.054 -> 28.7479\n",
      " alpha_0_female=0.166 alpha_0_male=0.158 alpha_1=0.055 -> 27.9342\n",
      " alpha_0_female=0.165 alpha_0_male=0.158 alpha_1=0.055 -> 28.9088\n",
      " alpha_0_female=0.166 alpha_0_male=0.158 alpha_1=0.054 -> 28.5520\n",
      " alpha_0_female=0.165 alpha_0_male=0.158 alpha_1=0.055 -> 29.4544\n",
      " alpha_0_female=0.167 alpha_0_male=0.158 alpha_1=0.054"
     ]
    },
    {
     "ename": "KeyboardInterrupt",
     "evalue": "",
     "output_type": "error",
     "traceback": [
      "\u001b[1;31m---------------------------------------------------------------------------\u001b[0m",
      "\u001b[1;31mKeyboardInterrupt\u001b[0m                         Traceback (most recent call last)",
      "\u001b[1;32m<ipython-input-130-297633d2c2b0>\u001b[0m in \u001b[0;36m<module>\u001b[1;34m\u001b[0m\n\u001b[0;32m      1\u001b[0m \u001b[0msmd_base\u001b[0m \u001b[1;33m=\u001b[0m \u001b[0mSMD\u001b[0m\u001b[1;33m.\u001b[0m\u001b[0mSimulatedMinimumDistance\u001b[0m\u001b[1;33m(\u001b[0m\u001b[0mmodel_base\u001b[0m\u001b[1;33m,\u001b[0m\u001b[0mmom_data\u001b[0m\u001b[1;33m,\u001b[0m\u001b[0mmom_fun\u001b[0m\u001b[1;33m,\u001b[0m\u001b[0mprint_iter\u001b[0m\u001b[1;33m=\u001b[0m\u001b[1;32mTrue\u001b[0m\u001b[1;33m,\u001b[0m\u001b[0moptions\u001b[0m\u001b[1;33m=\u001b[0m\u001b[1;33m{\u001b[0m\u001b[1;34m'disp'\u001b[0m\u001b[1;33m:\u001b[0m\u001b[1;32mTrue\u001b[0m\u001b[1;33m}\u001b[0m\u001b[1;33m)\u001b[0m\u001b[1;33m\u001b[0m\u001b[1;33m\u001b[0m\u001b[0m\n\u001b[0;32m      2\u001b[0m \u001b[0msmd_base\u001b[0m\u001b[1;33m.\u001b[0m\u001b[0mest_par\u001b[0m \u001b[1;33m=\u001b[0m \u001b[0mest_par\u001b[0m\u001b[1;33m\u001b[0m\u001b[1;33m\u001b[0m\u001b[0m\n\u001b[1;32m----> 3\u001b[1;33m \u001b[0msmd_base\u001b[0m\u001b[1;33m.\u001b[0m\u001b[0mestimate\u001b[0m\u001b[1;33m(\u001b[0m\u001b[0mtheta0\u001b[0m\u001b[1;33m,\u001b[0m\u001b[0mweight\u001b[0m\u001b[1;33m)\u001b[0m\u001b[1;33m\u001b[0m\u001b[1;33m\u001b[0m\u001b[0m\n\u001b[0m\u001b[0;32m      4\u001b[0m \u001b[0mtheta_base\u001b[0m \u001b[1;33m=\u001b[0m \u001b[0msmd_base\u001b[0m\u001b[1;33m.\u001b[0m\u001b[0mest\u001b[0m\u001b[1;33m\u001b[0m\u001b[1;33m\u001b[0m\u001b[0m\n\u001b[0;32m      5\u001b[0m \u001b[0mtheta_base\u001b[0m\u001b[1;33m-\u001b[0m\u001b[0mtrue\u001b[0m\u001b[1;33m\u001b[0m\u001b[1;33m\u001b[0m\u001b[0m\n",
      "\u001b[1;32m~\\Desktop\\speciale_retirement\\kode\\Speciale_retirement\\Main\\SimulatedMinimumDistance.py\u001b[0m in \u001b[0;36mestimate\u001b[1;34m(self, theta0, W, *args)\u001b[0m\n\u001b[0;32m     66\u001b[0m \u001b[1;33m\u001b[0m\u001b[0m\n\u001b[0;32m     67\u001b[0m         \u001b[1;31m# estimate\u001b[0m\u001b[1;33m\u001b[0m\u001b[1;33m\u001b[0m\u001b[1;33m\u001b[0m\u001b[0m\n\u001b[1;32m---> 68\u001b[1;33m         \u001b[0mself\u001b[0m\u001b[1;33m.\u001b[0m\u001b[0mest_out\u001b[0m \u001b[1;33m=\u001b[0m \u001b[0mminimize\u001b[0m\u001b[1;33m(\u001b[0m\u001b[0mself\u001b[0m\u001b[1;33m.\u001b[0m\u001b[0mobj_fun\u001b[0m\u001b[1;33m,\u001b[0m \u001b[0mtheta0\u001b[0m\u001b[1;33m,\u001b[0m \u001b[1;33m(\u001b[0m\u001b[0mW\u001b[0m\u001b[1;33m,\u001b[0m \u001b[1;33m*\u001b[0m\u001b[0margs\u001b[0m\u001b[1;33m)\u001b[0m\u001b[1;33m,\u001b[0m \u001b[0mmethod\u001b[0m\u001b[1;33m=\u001b[0m\u001b[0mself\u001b[0m\u001b[1;33m.\u001b[0m\u001b[0mmethod\u001b[0m\u001b[1;33m,\u001b[0m\u001b[0moptions\u001b[0m\u001b[1;33m=\u001b[0m\u001b[0mself\u001b[0m\u001b[1;33m.\u001b[0m\u001b[0moptions\u001b[0m\u001b[1;33m)\u001b[0m\u001b[1;33m\u001b[0m\u001b[1;33m\u001b[0m\u001b[0m\n\u001b[0m\u001b[0;32m     69\u001b[0m \u001b[1;33m\u001b[0m\u001b[0m\n\u001b[0;32m     70\u001b[0m         \u001b[1;31m# return output\u001b[0m\u001b[1;33m\u001b[0m\u001b[1;33m\u001b[0m\u001b[1;33m\u001b[0m\u001b[0m\n",
      "\u001b[1;32m~\\Anaconda3\\lib\\site-packages\\scipy\\optimize\\_minimize.py\u001b[0m in \u001b[0;36mminimize\u001b[1;34m(fun, x0, args, method, jac, hess, hessp, bounds, constraints, tol, callback, options)\u001b[0m\n\u001b[0;32m    587\u001b[0m                       callback=callback, **options)\n\u001b[0;32m    588\u001b[0m     \u001b[1;32melif\u001b[0m \u001b[0mmeth\u001b[0m \u001b[1;33m==\u001b[0m \u001b[1;34m'nelder-mead'\u001b[0m\u001b[1;33m:\u001b[0m\u001b[1;33m\u001b[0m\u001b[1;33m\u001b[0m\u001b[0m\n\u001b[1;32m--> 589\u001b[1;33m         \u001b[1;32mreturn\u001b[0m \u001b[0m_minimize_neldermead\u001b[0m\u001b[1;33m(\u001b[0m\u001b[0mfun\u001b[0m\u001b[1;33m,\u001b[0m \u001b[0mx0\u001b[0m\u001b[1;33m,\u001b[0m \u001b[0margs\u001b[0m\u001b[1;33m,\u001b[0m \u001b[0mcallback\u001b[0m\u001b[1;33m,\u001b[0m \u001b[1;33m**\u001b[0m\u001b[0moptions\u001b[0m\u001b[1;33m)\u001b[0m\u001b[1;33m\u001b[0m\u001b[1;33m\u001b[0m\u001b[0m\n\u001b[0m\u001b[0;32m    590\u001b[0m     \u001b[1;32melif\u001b[0m \u001b[0mmeth\u001b[0m \u001b[1;33m==\u001b[0m \u001b[1;34m'powell'\u001b[0m\u001b[1;33m:\u001b[0m\u001b[1;33m\u001b[0m\u001b[1;33m\u001b[0m\u001b[0m\n\u001b[0;32m    591\u001b[0m         \u001b[1;32mreturn\u001b[0m \u001b[0m_minimize_powell\u001b[0m\u001b[1;33m(\u001b[0m\u001b[0mfun\u001b[0m\u001b[1;33m,\u001b[0m \u001b[0mx0\u001b[0m\u001b[1;33m,\u001b[0m \u001b[0margs\u001b[0m\u001b[1;33m,\u001b[0m \u001b[0mcallback\u001b[0m\u001b[1;33m,\u001b[0m \u001b[1;33m**\u001b[0m\u001b[0moptions\u001b[0m\u001b[1;33m)\u001b[0m\u001b[1;33m\u001b[0m\u001b[1;33m\u001b[0m\u001b[0m\n",
      "\u001b[1;32m~\\Anaconda3\\lib\\site-packages\\scipy\\optimize\\optimize.py\u001b[0m in \u001b[0;36m_minimize_neldermead\u001b[1;34m(func, x0, args, callback, maxiter, maxfev, disp, return_all, initial_simplex, xatol, fatol, adaptive, **unknown_options)\u001b[0m\n\u001b[0;32m    604\u001b[0m                     \u001b[1;31m# Perform an inside contraction\u001b[0m\u001b[1;33m\u001b[0m\u001b[1;33m\u001b[0m\u001b[1;33m\u001b[0m\u001b[0m\n\u001b[0;32m    605\u001b[0m                     \u001b[0mxcc\u001b[0m \u001b[1;33m=\u001b[0m \u001b[1;33m(\u001b[0m\u001b[1;36m1\u001b[0m \u001b[1;33m-\u001b[0m \u001b[0mpsi\u001b[0m\u001b[1;33m)\u001b[0m \u001b[1;33m*\u001b[0m \u001b[0mxbar\u001b[0m \u001b[1;33m+\u001b[0m \u001b[0mpsi\u001b[0m \u001b[1;33m*\u001b[0m \u001b[0msim\u001b[0m\u001b[1;33m[\u001b[0m\u001b[1;33m-\u001b[0m\u001b[1;36m1\u001b[0m\u001b[1;33m]\u001b[0m\u001b[1;33m\u001b[0m\u001b[1;33m\u001b[0m\u001b[0m\n\u001b[1;32m--> 606\u001b[1;33m                     \u001b[0mfxcc\u001b[0m \u001b[1;33m=\u001b[0m \u001b[0mfunc\u001b[0m\u001b[1;33m(\u001b[0m\u001b[0mxcc\u001b[0m\u001b[1;33m)\u001b[0m\u001b[1;33m\u001b[0m\u001b[1;33m\u001b[0m\u001b[0m\n\u001b[0m\u001b[0;32m    607\u001b[0m \u001b[1;33m\u001b[0m\u001b[0m\n\u001b[0;32m    608\u001b[0m                     \u001b[1;32mif\u001b[0m \u001b[0mfxcc\u001b[0m \u001b[1;33m<\u001b[0m \u001b[0mfsim\u001b[0m\u001b[1;33m[\u001b[0m\u001b[1;33m-\u001b[0m\u001b[1;36m1\u001b[0m\u001b[1;33m]\u001b[0m\u001b[1;33m:\u001b[0m\u001b[1;33m\u001b[0m\u001b[1;33m\u001b[0m\u001b[0m\n",
      "\u001b[1;32m~\\Anaconda3\\lib\\site-packages\\scipy\\optimize\\optimize.py\u001b[0m in \u001b[0;36mfunction_wrapper\u001b[1;34m(*wrapper_args)\u001b[0m\n\u001b[0;32m    298\u001b[0m     \u001b[1;32mdef\u001b[0m \u001b[0mfunction_wrapper\u001b[0m\u001b[1;33m(\u001b[0m\u001b[1;33m*\u001b[0m\u001b[0mwrapper_args\u001b[0m\u001b[1;33m)\u001b[0m\u001b[1;33m:\u001b[0m\u001b[1;33m\u001b[0m\u001b[1;33m\u001b[0m\u001b[0m\n\u001b[0;32m    299\u001b[0m         \u001b[0mncalls\u001b[0m\u001b[1;33m[\u001b[0m\u001b[1;36m0\u001b[0m\u001b[1;33m]\u001b[0m \u001b[1;33m+=\u001b[0m \u001b[1;36m1\u001b[0m\u001b[1;33m\u001b[0m\u001b[1;33m\u001b[0m\u001b[0m\n\u001b[1;32m--> 300\u001b[1;33m         \u001b[1;32mreturn\u001b[0m \u001b[0mfunction\u001b[0m\u001b[1;33m(\u001b[0m\u001b[1;33m*\u001b[0m\u001b[1;33m(\u001b[0m\u001b[0mwrapper_args\u001b[0m \u001b[1;33m+\u001b[0m \u001b[0margs\u001b[0m\u001b[1;33m)\u001b[0m\u001b[1;33m)\u001b[0m\u001b[1;33m\u001b[0m\u001b[1;33m\u001b[0m\u001b[0m\n\u001b[0m\u001b[0;32m    301\u001b[0m \u001b[1;33m\u001b[0m\u001b[0m\n\u001b[0;32m    302\u001b[0m     \u001b[1;32mreturn\u001b[0m \u001b[0mncalls\u001b[0m\u001b[1;33m,\u001b[0m \u001b[0mfunction_wrapper\u001b[0m\u001b[1;33m\u001b[0m\u001b[1;33m\u001b[0m\u001b[0m\n",
      "\u001b[1;32m~\\Desktop\\speciale_retirement\\kode\\Speciale_retirement\\Main\\SimulatedMinimumDistance.py\u001b[0m in \u001b[0;36mobj_fun\u001b[1;34m(self, theta, W, *args)\u001b[0m\n\u001b[0;32m     49\u001b[0m \u001b[1;33m\u001b[0m\u001b[0m\n\u001b[0;32m     50\u001b[0m         \u001b[1;31m# 3. simulate data from the model and calculate moments [have this as a complete function, used for standard errors]\u001b[0m\u001b[1;33m\u001b[0m\u001b[1;33m\u001b[0m\u001b[1;33m\u001b[0m\u001b[0m\n\u001b[1;32m---> 51\u001b[1;33m         \u001b[0mself\u001b[0m\u001b[1;33m.\u001b[0m\u001b[0mmodel\u001b[0m\u001b[1;33m.\u001b[0m\u001b[0msimulate\u001b[0m\u001b[1;33m(\u001b[0m\u001b[1;33m)\u001b[0m\u001b[1;33m\u001b[0m\u001b[1;33m\u001b[0m\u001b[0m\n\u001b[0m\u001b[0;32m     52\u001b[0m         \u001b[0mself\u001b[0m\u001b[1;33m.\u001b[0m\u001b[0mmom_sim\u001b[0m \u001b[1;33m=\u001b[0m \u001b[0mself\u001b[0m\u001b[1;33m.\u001b[0m\u001b[0mmom_fun\u001b[0m\u001b[1;33m(\u001b[0m\u001b[0mself\u001b[0m\u001b[1;33m.\u001b[0m\u001b[0mmodel\u001b[0m\u001b[1;33m.\u001b[0m\u001b[0msim\u001b[0m\u001b[1;33m,\u001b[0m\u001b[1;33m*\u001b[0m\u001b[0margs\u001b[0m\u001b[1;33m)\u001b[0m\u001b[1;33m\u001b[0m\u001b[1;33m\u001b[0m\u001b[0m\n\u001b[0;32m     53\u001b[0m \u001b[1;33m\u001b[0m\u001b[0m\n",
      "\u001b[1;32m~\\Desktop\\speciale_retirement\\kode\\Speciale_retirement\\Main\\ModelSingles.py\u001b[0m in \u001b[0;36msimulate\u001b[1;34m(self, accuracy_test)\u001b[0m\n\u001b[0;32m    416\u001b[0m \u001b[1;33m\u001b[0m\u001b[0m\n\u001b[0;32m    417\u001b[0m         \u001b[1;31m# b. simulate\u001b[0m\u001b[1;33m\u001b[0m\u001b[1;33m\u001b[0m\u001b[1;33m\u001b[0m\u001b[0m\n\u001b[1;32m--> 418\u001b[1;33m         \u001b[0msimulate\u001b[0m\u001b[1;33m.\u001b[0m\u001b[0mlifecycle\u001b[0m\u001b[1;33m(\u001b[0m\u001b[0mself\u001b[0m\u001b[1;33m.\u001b[0m\u001b[0msim\u001b[0m\u001b[1;33m,\u001b[0m\u001b[0mself\u001b[0m\u001b[1;33m.\u001b[0m\u001b[0msol\u001b[0m\u001b[1;33m,\u001b[0m\u001b[0mself\u001b[0m\u001b[1;33m.\u001b[0m\u001b[0mpar\u001b[0m\u001b[1;33m,\u001b[0m\u001b[0maccuracy_test\u001b[0m\u001b[1;33m)\u001b[0m\u001b[1;33m\u001b[0m\u001b[1;33m\u001b[0m\u001b[0m\n\u001b[0m\u001b[0;32m    419\u001b[0m \u001b[1;33m\u001b[0m\u001b[0m\n\u001b[0;32m    420\u001b[0m \u001b[1;33m\u001b[0m\u001b[0m\n",
      "\u001b[1;32m~\\Desktop\\speciale_retirement\\kode\\Speciale_retirement\\Main\\simulate.py\u001b[0m in \u001b[0;36mlifecycle\u001b[1;34m(sim, sol, par, accuracy_test)\u001b[0m\n\u001b[0;32m     62\u001b[0m             \u001b[1;31m# 2. create masks\u001b[0m\u001b[1;33m\u001b[0m\u001b[1;33m\u001b[0m\u001b[1;33m\u001b[0m\u001b[0m\n\u001b[0;32m     63\u001b[0m             \u001b[0mwork\u001b[0m \u001b[1;33m=\u001b[0m \u001b[0mmask_st\u001b[0m\u001b[1;33m[\u001b[0m\u001b[1;33m(\u001b[0m\u001b[0md\u001b[0m\u001b[1;33m[\u001b[0m\u001b[0mt\u001b[0m\u001b[1;33m,\u001b[0m\u001b[0mmask_st\u001b[0m\u001b[1;33m]\u001b[0m\u001b[1;33m==\u001b[0m\u001b[1;36m1\u001b[0m\u001b[1;33m)\u001b[0m \u001b[1;33m&\u001b[0m \u001b[1;33m(\u001b[0m\u001b[0malive\u001b[0m\u001b[1;33m[\u001b[0m\u001b[0mt\u001b[0m\u001b[1;33m,\u001b[0m\u001b[0mmask_st\u001b[0m\u001b[1;33m]\u001b[0m\u001b[1;33m==\u001b[0m\u001b[1;36m1\u001b[0m\u001b[1;33m)\u001b[0m\u001b[1;33m]\u001b[0m   \u001b[1;31m# mask for state, work and alive\u001b[0m\u001b[1;33m\u001b[0m\u001b[1;33m\u001b[0m\u001b[0m\n\u001b[1;32m---> 64\u001b[1;33m             \u001b[0mret\u001b[0m \u001b[1;33m=\u001b[0m \u001b[0mmask_st\u001b[0m\u001b[1;33m[\u001b[0m\u001b[1;33m(\u001b[0m\u001b[0md\u001b[0m\u001b[1;33m[\u001b[0m\u001b[0mt\u001b[0m\u001b[1;33m,\u001b[0m\u001b[0mmask_st\u001b[0m\u001b[1;33m]\u001b[0m\u001b[1;33m==\u001b[0m\u001b[1;36m0\u001b[0m\u001b[1;33m)\u001b[0m \u001b[1;33m&\u001b[0m \u001b[1;33m(\u001b[0m\u001b[0malive\u001b[0m\u001b[1;33m[\u001b[0m\u001b[0mt\u001b[0m\u001b[1;33m,\u001b[0m\u001b[0mmask_st\u001b[0m\u001b[1;33m]\u001b[0m\u001b[1;33m==\u001b[0m\u001b[1;36m1\u001b[0m\u001b[1;33m)\u001b[0m\u001b[1;33m]\u001b[0m    \u001b[1;31m# mask for state, retired and alive\u001b[0m\u001b[1;33m\u001b[0m\u001b[1;33m\u001b[0m\u001b[0m\n\u001b[0m\u001b[0;32m     65\u001b[0m \u001b[1;33m\u001b[0m\u001b[0m\n\u001b[0;32m     66\u001b[0m             \u001b[1;31m# 3. update m\u001b[0m\u001b[1;33m\u001b[0m\u001b[1;33m\u001b[0m\u001b[1;33m\u001b[0m\u001b[0m\n",
      "\u001b[1;31mKeyboardInterrupt\u001b[0m: "
     ]
    }
   ],
   "source": [
    "smd_base = SMD.SimulatedMinimumDistance(model_base,mom_data,mom_fun,print_iter=True,options={'disp':True})\n",
    "smd_base.est_par = est_par\n",
    "smd_base.estimate(theta0,weight)\n",
    "theta_base = smd_base.est\n",
    "theta_base-true"
   ]
  },
  {
   "cell_type": "code",
   "execution_count": null,
   "metadata": {},
   "outputs": [],
   "source": []
  }
 ],
 "metadata": {
  "kernelspec": {
   "display_name": "Python 3",
   "language": "python",
   "name": "python3"
  },
  "language_info": {
   "codemirror_mode": {
    "name": "ipython",
    "version": 3
   },
   "file_extension": ".py",
   "mimetype": "text/x-python",
   "name": "python",
   "nbconvert_exporter": "python",
   "pygments_lexer": "ipython3",
   "version": "3.7.3"
  }
 },
 "nbformat": 4,
 "nbformat_minor": 2
}
