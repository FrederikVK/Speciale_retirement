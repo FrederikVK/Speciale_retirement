{
 "cells": [
  {
   "cell_type": "markdown",
   "metadata": {},
   "source": [
    "# Estimation on real data using MSM"
   ]
  },
  {
   "cell_type": "code",
   "execution_count": 1,
   "metadata": {},
   "outputs": [],
   "source": [
    "from consav import runtools\n",
    "runtools.write_numba_config(disable=0,threads=4)\n",
    "\n",
    "%matplotlib inline\n",
    "%load_ext autoreload\n",
    "%autoreload 2\n",
    "\n",
    "# Local modules\n",
    "from Model import RetirementClass\n",
    "import figs\n",
    "import SimulatedMinimumDistance as SMD\n",
    "\n",
    "# Global modules\n",
    "import numpy as np\n",
    "import pandas as pd\n",
    "import matplotlib.pyplot as plt"
   ]
  },
  {
   "cell_type": "markdown",
   "metadata": {},
   "source": [
    "### Data"
   ]
  },
  {
   "cell_type": "code",
   "execution_count": 126,
   "metadata": {},
   "outputs": [],
   "source": [
    "data = pd.read_excel('SASdata/couple_moments.xlsx')\n",
    "Nobs = np.median(data['obs'])\n",
    "mom_data = data['mom'].to_numpy()\n",
    "cov = pd.read_excel('SASdata/Cov.xlsx')\n",
    "weight = 1/np.sqrt(np.diag(cov))\n",
    "W = np.eye(len(weight))*weight\n",
    "Omega = cov*Nobs"
   ]
  },
  {
   "cell_type": "markdown",
   "metadata": {},
   "source": [
    "### Set up estimation"
   ]
  },
  {
   "cell_type": "code",
   "execution_count": 6,
   "metadata": {},
   "outputs": [],
   "source": [
    "Couple = RetirementClass(couple=True, simN=int(1e5), simT=68-53+1)\n",
    "Couple.solve()\n",
    "Couple.simulate()"
   ]
  },
  {
   "cell_type": "code",
   "execution_count": 128,
   "metadata": {},
   "outputs": [],
   "source": [
    "# function to generate moments\n",
    "def mom_fun(Couple):\n",
    "    return SMD.MomFunCouple_agg(Couple)"
   ]
  },
  {
   "cell_type": "code",
   "execution_count": 129,
   "metadata": {},
   "outputs": [],
   "source": [
    "#est_par = [\"alpha_0_male\", \"alpha_0_female\", \"alpha_1\", \"sigma_eta\", \"phi_0_male\"]\n",
    "est_par = [\"alpha_0_male\", \"alpha_0_female\", \"sigma_eta\" \"phi_0_male\"]\n",
    "est_par_tex = ['$\\alpha_0^m$', '$\\alpha_0^f$', '$\\sigma$', '$\\phi$']\n",
    "\n",
    "fixed_par = ('R', 'rho', 'beta', 'gamma', \n",
    "             'priv_pension_male', 'priv_pension_female', 'g_adjust', 'pi_adjust_m', 'pi_adjust_f')\n",
    "fixed_par_tex = (r'$R$', r'$\\rho$', r'$\\beta$', r'$\\gamma$', \n",
    "                 r'$PPW^m$', r'$PPW^f$', r'$g$', r'$\\pi_m$', r'$\\pi_f$')\n",
    "\n",
    "smd = SMD.SimulatedMinimumDistance(Couple,mom_data,mom_fun)\n",
    "smd.est_par = est_par"
   ]
  },
  {
   "cell_type": "markdown",
   "metadata": {},
   "source": [
    "### Estimate"
   ]
  },
  {
   "cell_type": "code",
   "execution_count": 75,
   "metadata": {},
   "outputs": [],
   "source": [
    "theta0 = SMD.start(10,bounds=[(0,),(0,1),(0.2,0.8),(0,2)])"
   ]
  },
  {
   "cell_type": "code",
   "execution_count": 92,
   "metadata": {},
   "outputs": [
    {
     "data": {
      "text/plain": [
       "[[0.307, 0.265, 0.166], [0.124, 0.03, 0.333], [0.182, 0.037, 1.751]]"
      ]
     },
     "execution_count": 92,
     "metadata": {},
     "output_type": "execute_result"
    }
   ],
   "source": [
    "theta0"
   ]
  },
  {
   "cell_type": "code",
   "execution_count": 130,
   "metadata": {},
   "outputs": [],
   "source": [
    "smd.MultiStart(theta0,W)\n",
    "theta = smd.est"
   ]
  },
  {
   "cell_type": "code",
   "execution_count": null,
   "metadata": {},
   "outputs": [],
   "source": [
    "smd.std_error(theta,Omega,W,Nobs=Nobs,Nsim=Couple.par.simN*5/Nobs)\n",
    "std_error = smd.std\n",
    "smd.obj_fun(theta,W) # set theta as parameters\n",
    "print('Parameters:', np.round(theta,3))\n",
    "print('Std error :', np.round(std_error,3))\n",
    "SMD.save_est(est_par,theta,name='baseline') # save parameters"
   ]
  },
  {
   "cell_type": "markdown",
   "metadata": {},
   "source": [
    "### Model fit"
   ]
  },
  {
   "cell_type": "code",
   "execution_count": 149,
   "metadata": {},
   "outputs": [],
   "source": [
    "def model_fit_marg(Couple,ma):\n",
    "    moments = pd.read_excel('SASdata/couple_moments_total.xlsx')\n",
    "    if ma == 0:\n",
    "        mom = moments['Mom_marg_kvinde'].dropna().to_numpy()\n",
    "    elif ma == 1:\n",
    "        mom = moments['Mom_marg_mand'].dropna().to_numpy()\n",
    "    data = {'y': [mom], 'x': np.arange(58,69), 'label': ['Data'], 'color': 'k',\n",
    "            'linestyle': ['None'], 'marker': 'o'}    \n",
    "    pred = figs.retirement_probs_c(Couple,ma=ma)\n",
    "    return [data,pred]\n",
    "\n",
    "def model_fit_joint(Couple,save=True):\n",
    "    moments = pd.read_excel('SASdata/couple_moments_total.xlsx')['Mom_joint'].to_numpy()\n",
    "    pred = mom_fun(Couple)[-15:] # last 15 elements\n",
    "    \n",
    "    # plot\n",
    "    fig = plt.figure()\n",
    "    ax = fig.add_subplot(1,1,1)    \n",
    "    plt.bar(np.arange(-7,8),moments,label='Data')\n",
    "    plt.plot(np.arange(-7,8),pred,'k--',label='Predicted',linewidth=3)\n",
    "    ax.legend(fontsize=12)\n",
    "    ax.set_xlabel('Difference in year of retirement (year_w-year_h)', fontsize=15)\n",
    "    ax.set_ylabel('Share', fontsize=15)    \n",
    "    ax.tick_params(axis='both', which='major', labelsize=15)        \n",
    "    fig.tight_layout()\n",
    "    if save:\n",
    "        return fig"
   ]
  },
  {
   "cell_type": "code",
   "execution_count": 150,
   "metadata": {},
   "outputs": [
    {
     "data": {
      "image/png": "[encoded data removed]",
      "text/plain": [
       "<Figure size 432x288 with 1 Axes>"
      ]
     },
     "metadata": {
      "needs_background": "light"
     },
     "output_type": "display_data"
    }
   ],
   "source": [
    "model_fit_joint(Couple).savefig('figs/ModelFit/Joint')"
   ]
  },
  {
   "cell_type": "code",
   "execution_count": 151,
   "metadata": {},
   "outputs": [
    {
     "data": {
      "image/png": "[encoded data removed]",
      "text/plain": [
       "<Figure size 432x288 with 1 Axes>"
      ]
     },
     "metadata": {
      "needs_background": "light"
     },
     "output_type": "display_data"
    }
   ],
   "source": [
    "figs.MyPlot(model_fit_marg(Couple,0),ylim=[-0.01,0.4],linewidth=3).savefig('figs/ModelFit/MargWomen.png')"
   ]
  },
  {
   "cell_type": "code",
   "execution_count": 152,
   "metadata": {},
   "outputs": [
    {
     "data": {
      "image/png": "[encoded data removed]",
      "text/plain": [
       "<Figure size 432x288 with 1 Axes>"
      ]
     },
     "metadata": {
      "needs_background": "light"
     },
     "output_type": "display_data"
    }
   ],
   "source": [
    "figs.MyPlot(model_fit_marg(Couple,1),ylim=[-0.01,0.4],linewidth=3).savefig('figs/ModelFit/MargMen.png')"
   ]
  },
  {
   "cell_type": "markdown",
   "metadata": {},
   "source": [
    "### Sensitivity to first step calibrated parameters"
   ]
  },
  {
   "cell_type": "code",
   "execution_count": null,
   "metadata": {},
   "outputs": [],
   "source": [
    "smd.recompute=True\n",
    "smd.sensitivity(theta,weight,fixed_par)\n",
    "figs.sens_fig_tab(smd.sens2[:,:5],smd.sens2e[:,:5],theta,est_par_tex,fixed_par_tex[:5]).savefig('figs/Sens/CouplePref.png')\n",
    "figs.sens_fig_tab(smd.sens2[:,5:],smd.sens2e[:,5:],theta,est_par_tex,fixed_par_tex[5:]).savefig('figs/Sens/CoupleCali.png')"
   ]
  },
  {
   "cell_type": "markdown",
   "metadata": {},
   "source": [
    "### Estimate (phi=0)"
   ]
  },
  {
   "cell_type": "code",
   "execution_count": null,
   "metadata": {},
   "outputs": [],
   "source": [
    "Couple.par.phi_0_male = 0\n",
    "Couple.par.phi_0_female = 0\n",
    "Couple.par.phi_1 = 0\n",
    "smd = SMD.SimulatedMinimumDistance(Couple,mom_data,mom_fun)\n",
    "smd.est_par = [\"alpha_0_male\", \"alpha_0_female\", \"sigma_eta\"]"
   ]
  },
  {
   "cell_type": "code",
   "execution_count": null,
   "metadata": {},
   "outputs": [],
   "source": [
    "theta0 = SMD.start(10,bounds=[(0,1),(0,1),(0.2,0.8)])"
   ]
  },
  {
   "cell_type": "code",
   "execution_count": null,
   "metadata": {},
   "outputs": [],
   "source": [
    "smd.MultiStart(theta0,W)\n",
    "theta = smd.est"
   ]
  },
  {
   "cell_type": "code",
   "execution_count": null,
   "metadata": {},
   "outputs": [],
   "source": [
    "smd.std_error(theta,Omega,W,Nobs=Nobs,Nsim=Couple.par.simN*5/Nobs)\n",
    "std_error = smd.std\n",
    "print('Parameters:', np.round(theta,3))\n",
    "print('Std error :', np.round(std_error,3))\n",
    "SMD.save_est(est_par,theta,name='phi0',couple=True) # save parameters"
   ]
  },
  {
   "cell_type": "code",
   "execution_count": null,
   "metadata": {},
   "outputs": [],
   "source": [
    "model_fit_joint(Couple).savefig('figs/ModelFit/Joint_phi0')"
   ]
  },
  {
   "cell_type": "code",
   "execution_count": null,
   "metadata": {},
   "outputs": [],
   "source": [
    "figs.MyPlot(model_fit(Couple,0),ylim=[-0.01,0.4],linewidth=3).savefig('figs/ModelFit/MargWomen_phi0.png')"
   ]
  },
  {
   "cell_type": "code",
   "execution_count": null,
   "metadata": {},
   "outputs": [],
   "source": [
    "figs.MyPlot(model_fit(Couple,1),ylim=[-0.01,0.4],linewidth=3).savefig('figs/ModelFit/MargMen_phi0.png')"
   ]
  },
  {
   "cell_type": "markdown",
   "metadata": {},
   "source": [
    "### Shut down financial incentives"
   ]
  },
  {
   "cell_type": "code",
   "execution_count": null,
   "metadata": {},
   "outputs": [],
   "source": [
    "Couple.par.couple_finance=False\n",
    "Couple.solve(recompute=True)"
   ]
  },
  {
   "cell_type": "code",
   "execution_count": null,
   "metadata": {},
   "outputs": [],
   "source": [
    "smd = SMD.SimulatedMinimumDistance(Couple,mom_data,mom_fun)\n",
    "smd.est_par = est_par[0:4]"
   ]
  },
  {
   "cell_type": "code",
   "execution_count": null,
   "metadata": {},
   "outputs": [],
   "source": [
    "smd.MultiStart(theta0,W)\n",
    "theta = smd.est"
   ]
  },
  {
   "cell_type": "code",
   "execution_count": null,
   "metadata": {},
   "outputs": [],
   "source": [
    "smd.std_error(theta,Omega,W,Nobs=Nobs,Nsim=Couple.par.simN/Nobs)\n",
    "std_error = smd.std\n",
    "print('Parameters:', np.round(theta,3))\n",
    "print('Std error :', np.round(std_error,3))\n",
    "SMD.save_est(est_par,theta,name='phi0_financial0',couple=True) # save parameters"
   ]
  },
  {
   "cell_type": "code",
   "execution_count": null,
   "metadata": {},
   "outputs": [],
   "source": [
    "model_fit_joint(Couple).savefig('figs/ModelFit/Joint_phi0_financial0')"
   ]
  },
  {
   "cell_type": "code",
   "execution_count": null,
   "metadata": {},
   "outputs": [],
   "source": [
    "figs.MyPlot(model_fit(Couple,0),ylim=[-0.01,0.4],linewidth=3).savefig('figs/ModelFit/MargWomen_phi0_financial0.png')"
   ]
  },
  {
   "cell_type": "code",
   "execution_count": null,
   "metadata": {},
   "outputs": [],
   "source": [
    "figs.MyPlot(model_fit(Couple,1),ylim=[-0.01,0.4],linewidth=3).savefig('figs/ModelFit/MargMen_phi0_financial0.png')"
   ]
  }
 ],
 "metadata": {
  "kernelspec": {
   "display_name": "Python 3",
   "language": "python",
   "name": "python3"
  },
  "language_info": {
   "codemirror_mode": {
    "name": "ipython",
    "version": 3
   },
   "file_extension": ".py",
   "mimetype": "text/x-python",
   "name": "python",
   "nbconvert_exporter": "python",
   "pygments_lexer": "ipython3",
   "version": "3.7.3"
  }
 },
 "nbformat": 4,
 "nbformat_minor": 2
}
