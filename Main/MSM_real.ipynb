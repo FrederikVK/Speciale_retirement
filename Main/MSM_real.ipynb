{
 "cells": [
  {
   "cell_type": "code",
   "execution_count": 6,
   "metadata": {},
   "outputs": [],
   "source": [
    "x = np.random.randint(1,10,size=10)"
   ]
  },
  {
   "cell_type": "code",
   "execution_count": 7,
   "metadata": {},
   "outputs": [
    {
     "data": {
      "text/plain": [
       "array([5, 7, 8, 6, 6, 3, 2, 6, 2, 7])"
      ]
     },
     "execution_count": 7,
     "metadata": {},
     "output_type": "execute_result"
    }
   ],
   "source": [
    "x"
   ]
  },
  {
   "cell_type": "code",
   "execution_count": 12,
   "metadata": {},
   "outputs": [
    {
     "data": {
      "text/plain": [
       "array([[3, 7, 6, 6, 6, 2, 7, 3, 6, 2],\n",
       "       [5, 6, 6, 5, 2, 6, 6, 8, 8, 6],\n",
       "       [8, 6, 6, 8, 6, 5, 8, 5, 6, 3],\n",
       "       [2, 7, 6, 7, 6, 2, 7, 2, 7, 2],\n",
       "       [6, 5, 5, 5, 7, 3, 2, 8, 2, 2],\n",
       "       [5, 2, 2, 2, 6, 7, 6, 7, 6, 8],\n",
       "       [6, 8, 8, 8, 7, 5, 7, 7, 3, 8],\n",
       "       [2, 6, 2, 7, 6, 5, 2, 8, 8, 2],\n",
       "       [8, 6, 6, 6, 2, 8, 7, 7, 7, 7],\n",
       "       [6, 3, 7, 8, 3, 6, 2, 6, 6, 6]])"
      ]
     },
     "execution_count": 12,
     "metadata": {},
     "output_type": "execute_result"
    }
   ],
   "source": [
    "np.random.choice(x,size=(10,10))"
   ]
  },
  {
   "cell_type": "code",
   "execution_count": null,
   "metadata": {},
   "outputs": [],
   "source": []
  },
  {
   "cell_type": "markdown",
   "metadata": {},
   "source": [
    "# Estimation on real data using MSM"
   ]
  },
  {
   "cell_type": "code",
   "execution_count": 1,
   "metadata": {},
   "outputs": [],
   "source": [
    "from consav import runtools\n",
    "runtools.write_numba_config(disable=0,threads=4)\n",
    "\n",
    "%matplotlib inline\n",
    "%load_ext autoreload\n",
    "%autoreload 2\n",
    "\n",
    "# Local modules\n",
    "from Model import RetirementClass\n",
    "import figs\n",
    "import SimulatedMinimumDistance as SMD\n",
    "\n",
    "# Global modules\n",
    "import numpy as np\n",
    "import pandas as pd\n",
    "import matplotlib.pyplot as plt"
   ]
  },
  {
   "cell_type": "markdown",
   "metadata": {},
   "source": [
    "### Data"
   ]
  },
  {
   "cell_type": "code",
   "execution_count": 7,
   "metadata": {},
   "outputs": [],
   "source": [
    "mom_data = np.array([0.030240902,0.077396207,0.128395695,0.122501281,0.263967196,\n",
    "                     0.080984111,0.056637622,0.023833931,0.008457201])\n",
    "mom_data = mom_data[::-1]\n",
    "weight = np.eye(mom_data.size)"
   ]
  },
  {
   "cell_type": "markdown",
   "metadata": {},
   "source": [
    "### Set up estimation"
   ]
  },
  {
   "cell_type": "code",
   "execution_count": 8,
   "metadata": {},
   "outputs": [],
   "source": [
    "Couple = RetirementClass(couple=True, simN=int(1e5), simT=68-53+1)\n",
    "Couple.solve()\n",
    "Couple.simulate()"
   ]
  },
  {
   "cell_type": "code",
   "execution_count": 9,
   "metadata": {},
   "outputs": [],
   "source": [
    "# function to generate moments\n",
    "def mom_fun(Couple):\n",
    "    return SMD.MomFunCouple(Couple)"
   ]
  },
  {
   "cell_type": "code",
   "execution_count": 44,
   "metadata": {},
   "outputs": [],
   "source": [
    "est_par = [\"alpha_0_male\", \"alpha_0_female\", \"phi_0_male\"]\n",
    "smd = SMD.SimulatedMinimumDistance(Couple,mom_data,mom_fun)\n",
    "smd.est_par = est_par"
   ]
  },
  {
   "cell_type": "code",
   "execution_count": 86,
   "metadata": {},
   "outputs": [],
   "source": [
    "Couple.par.start_T = 57-4\n",
    "Couple.Single.par.start_T = 53-4\n",
    "Couple.par.simT = 68-(53-4)+1"
   ]
  },
  {
   "cell_type": "code",
   "execution_count": 88,
   "metadata": {},
   "outputs": [],
   "source": [
    "Couple.solve(recompute=True)\n",
    "Couple.simulate()"
   ]
  },
  {
   "cell_type": "code",
   "execution_count": 40,
   "metadata": {},
   "outputs": [],
   "source": [
    "theta = [0.86212266]"
   ]
  },
  {
   "cell_type": "code",
   "execution_count": 136,
   "metadata": {},
   "outputs": [
    {
     "name": "stdout",
     "output_type": "stream",
     "text": [
      "Iteration: 28 (0.84 minutes)\n",
      " alpha_0_male=0.8000 alpha_0_female=0.1000 phi_0_male=1.0000 -> 0.0348\n"
     ]
    },
    {
     "data": {
      "text/plain": [
       "0.03483083843076848"
      ]
     },
     "execution_count": 136,
     "metadata": {},
     "output_type": "execute_result"
    }
   ],
   "source": [
    "theta = [0.8, 0.1, 1]\n",
    "smd.obj_fun(theta,weight)"
   ]
  },
  {
   "cell_type": "code",
   "execution_count": 137,
   "metadata": {},
   "outputs": [
    {
     "data": {
      "text/plain": [
       "59.86295615075694"
      ]
     },
     "execution_count": 137,
     "metadata": {},
     "output_type": "execute_result"
    }
   ],
   "source": [
    "np.mean(figs.RetAge_C(Couple,ma=0))"
   ]
  },
  {
   "cell_type": "code",
   "execution_count": 138,
   "metadata": {},
   "outputs": [
    {
     "data": {
      "text/plain": [
       "61.01856232119123"
      ]
     },
     "execution_count": 138,
     "metadata": {},
     "output_type": "execute_result"
    }
   ],
   "source": [
    "np.mean(figs.RetAge_C(Couple,ma=1))"
   ]
  },
  {
   "cell_type": "code",
   "execution_count": 148,
   "metadata": {},
   "outputs": [],
   "source": [
    "import transitions"
   ]
  },
  {
   "cell_type": "code",
   "execution_count": 149,
   "metadata": {},
   "outputs": [
    {
     "data": {
      "text/plain": [
       "53"
      ]
     },
     "execution_count": 149,
     "metadata": {},
     "output_type": "execute_result"
    }
   ],
   "source": [
    "transitions.age(0,Couple.par)"
   ]
  },
  {
   "cell_type": "code",
   "execution_count": 146,
   "metadata": {},
   "outputs": [
    {
     "data": {
      "text/plain": [
       "(58, 9, 4, 4, 3, 3, 4, 200)"
      ]
     },
     "execution_count": 146,
     "metadata": {},
     "output_type": "execute_result"
    }
   ],
   "source": [
    "Couple.sol.v.shape"
   ]
  },
  {
   "cell_type": "code",
   "execution_count": 144,
   "metadata": {},
   "outputs": [
    {
     "data": {
      "text/plain": [
       "<BarContainer object of 9 artists>"
      ]
     },
     "execution_count": 144,
     "metadata": {},
     "output_type": "execute_result"
    },
    {
     "data": {
      "image/png": "[encoded data removed]",
      "text/plain": [
       "<Figure size 432x288 with 1 Axes>"
      ]
     },
     "metadata": {
      "needs_background": "light"
     },
     "output_type": "display_data"
    }
   ],
   "source": [
    "plt.bar(np.arange(-4,5),mom_fun(Couple))\n",
    "#plt.plot(np.arange(-4,5),mom_fun(Couple),'k--')"
   ]
  },
  {
   "cell_type": "code",
   "execution_count": 140,
   "metadata": {},
   "outputs": [
    {
     "data": {
      "image/png": "[encoded data removed]",
      "text/plain": [
       "<Figure size 432x288 with 1 Axes>"
      ]
     },
     "metadata": {
      "needs_background": "light"
     },
     "output_type": "display_data"
    }
   ],
   "source": [
    "figs.MyPlot(figs.retirement_probs_c(Couple,ma=0,ages=[53,68]),save=False)"
   ]
  },
  {
   "cell_type": "code",
   "execution_count": 141,
   "metadata": {},
   "outputs": [
    {
     "data": {
      "image/png": "[encoded data removed]",
      "text/plain": [
       "<Figure size 432x288 with 1 Axes>"
      ]
     },
     "metadata": {
      "needs_background": "light"
     },
     "output_type": "display_data"
    }
   ],
   "source": [
    "figs.MyPlot(figs.retirement_probs_c(Couple,ma=1),save=False)"
   ]
  },
  {
   "cell_type": "code",
   "execution_count": 103,
   "metadata": {},
   "outputs": [
    {
     "data": {
      "text/plain": [
       "[<matplotlib.lines.Line2D at 0x1e114591d30>]"
      ]
     },
     "execution_count": 103,
     "metadata": {},
     "output_type": "execute_result"
    },
    {
     "data": {
      "image/png": "[encoded data removed]",
      "text/plain": [
       "<Figure size 432x288 with 1 Axes>"
      ]
     },
     "metadata": {
      "needs_background": "light"
     },
     "output_type": "display_data"
    }
   ],
   "source": [
    "plt.plot(mom_data)\n",
    "plt.plot(smd.mom_sim)"
   ]
  },
  {
   "cell_type": "code",
   "execution_count": 104,
   "metadata": {},
   "outputs": [
    {
     "data": {
      "text/plain": [
       "<BarContainer object of 9 artists>"
      ]
     },
     "execution_count": 104,
     "metadata": {},
     "output_type": "execute_result"
    },
    {
     "data": {
      "image/png": "[encoded data removed]",
      "text/plain": [
       "<Figure size 432x288 with 1 Axes>"
      ]
     },
     "metadata": {
      "needs_background": "light"
     },
     "output_type": "display_data"
    }
   ],
   "source": [
    "plt.bar(np.arange(-4,5),smd.mom_sim)"
   ]
  },
  {
   "cell_type": "code",
   "execution_count": 33,
   "metadata": {},
   "outputs": [
    {
     "data": {
      "text/plain": [
       "<BarContainer object of 9 artists>"
      ]
     },
     "execution_count": 33,
     "metadata": {},
     "output_type": "execute_result"
    },
    {
     "data": {
      "image/png": "[encoded data removed]",
      "text/plain": [
       "<Figure size 432x288 with 1 Axes>"
      ]
     },
     "metadata": {
      "needs_background": "light"
     },
     "output_type": "display_data"
    }
   ],
   "source": [
    "plt.bar(np.arange(-4,5),smd.mom_sim)"
   ]
  },
  {
   "cell_type": "markdown",
   "metadata": {},
   "source": [
    "### Estimate"
   ]
  },
  {
   "cell_type": "code",
   "execution_count": 45,
   "metadata": {},
   "outputs": [],
   "source": [
    "theta0 = SMD.start(1,bounds=[(0,1),(0,1),(0,2)])"
   ]
  },
  {
   "cell_type": "code",
   "execution_count": 46,
   "metadata": {},
   "outputs": [
    {
     "data": {
      "text/plain": [
       "[[0.609, 0.965, 0.43]]"
      ]
     },
     "execution_count": 46,
     "metadata": {},
     "output_type": "execute_result"
    }
   ],
   "source": [
    "theta0"
   ]
  },
  {
   "cell_type": "code",
   "execution_count": 47,
   "metadata": {},
   "outputs": [
    {
     "name": "stdout",
     "output_type": "stream",
     "text": [
      "Iteration: 1 (0.52 minutes)\n",
      " alpha_0_male=0.6090 alpha_0_female=0.9650 phi_0_male=0.4300 -> 0.0234\n",
      "Iteration: 2 (0.23 minutes)\n",
      " alpha_0_male=0.6394 alpha_0_female=0.9650 phi_0_male=0.4300 -> 0.0231\n",
      "Iteration: 3 (0.24 minutes)\n",
      " alpha_0_male=0.6090 alpha_0_female=1.0132 phi_0_male=0.4300 -> 0.0242\n",
      "Iteration: 4 (0.24 minutes)\n",
      " alpha_0_male=0.6090 alpha_0_female=0.9650 phi_0_male=0.4515 -> 0.0235\n",
      "Iteration: 5 (0.24 minutes)\n",
      " alpha_0_male=0.6293 alpha_0_female=0.9167 phi_0_male=0.4443 -> 0.0228\n",
      "Iteration: 6 (0.23 minutes)\n",
      " alpha_0_male=0.6395 alpha_0_female=0.8685 phi_0_male=0.4515 -> 0.0224\n",
      "Iteration: 7 (0.25 minutes)\n",
      " alpha_0_male=0.6496 alpha_0_female=0.9007 phi_0_male=0.4228 -> 0.0224\n",
      "Iteration: 8 (0.24 minutes)\n",
      " alpha_0_male=0.6767 alpha_0_female=0.8578 phi_0_male=0.4396 -> 0.0220\n",
      "Iteration: 9 (0.24 minutes)\n",
      " alpha_0_male=0.7105 alpha_0_female=0.8042 phi_0_male=0.4443 -> 0.0219\n",
      "Iteration: 10 (0.23 minutes)\n",
      " alpha_0_male=0.6936 alpha_0_female=0.7506 phi_0_male=0.4491 -> 0.0226\n",
      "Iteration: 11 (0.24 minutes)\n",
      " alpha_0_male=0.6801 alpha_0_female=0.8042 phi_0_male=0.4443 -> 0.0220\n",
      "Iteration: 12 (0.22 minutes)\n",
      " alpha_0_male=0.7037 alpha_0_female=0.7506 phi_0_male=0.4706 -> 0.0226\n",
      "Iteration: 13 (0.23 minutes)\n",
      " alpha_0_male=0.6631 alpha_0_female=0.8631 phi_0_male=0.4348 -> 0.0221\n",
      "Iteration: 14 (0.24 minutes)\n",
      " alpha_0_male=0.7297 alpha_0_female=0.7791 phi_0_male=0.4308 -> 0.0220\n",
      "Iteration: 15 (0.24 minutes)\n",
      " alpha_0_male=0.7503 alpha_0_female=0.7285 phi_0_male=0.4449 -> 0.0225\n",
      "Iteration: 16 (0.24 minutes)\n",
      " alpha_0_male=0.6849 alpha_0_female=0.8295 phi_0_male=0.4373 -> 0.0220\n",
      "Iteration: 17 (0.24 minutes)\n",
      " alpha_0_male=0.7367 alpha_0_female=0.8044 phi_0_male=0.4306 -> 0.0219\n",
      "Iteration: 18 (0.23 minutes)\n",
      " alpha_0_male=0.7650 alpha_0_female=0.8045 phi_0_male=0.4238 -> 0.0217\n",
      "Iteration: 19 (0.24 minutes)\n",
      " alpha_0_male=0.7852 alpha_0_female=0.7624 phi_0_male=0.4286 -> 0.0222\n",
      "Iteration: 20 (0.25 minutes)\n",
      " alpha_0_male=0.7100 alpha_0_female=0.8127 phi_0_male=0.4351 -> 0.0218\n",
      "Iteration: 21 (0.23 minutes)\n",
      " alpha_0_male=0.7273 alpha_0_female=0.8351 phi_0_male=0.4380 -> 0.0219\n",
      "Iteration: 22 (0.24 minutes)\n",
      " alpha_0_male=0.7577 alpha_0_female=0.8307 phi_0_male=0.4203 -> 0.0217\n",
      "Iteration: 23 (0.23 minutes)\n",
      " alpha_0_male=0.7813 alpha_0_female=0.8439 phi_0_male=0.4082"
     ]
    },
    {
     "ename": "KeyboardInterrupt",
     "evalue": "",
     "output_type": "error",
     "traceback": [
      "\u001b[1;31m---------------------------------------------------------------------------\u001b[0m",
      "\u001b[1;31mKeyboardInterrupt\u001b[0m                         Traceback (most recent call last)",
      "\u001b[1;32m<ipython-input-47-94189e33e477>\u001b[0m in \u001b[0;36m<module>\u001b[1;34m\u001b[0m\n\u001b[0;32m      1\u001b[0m \u001b[0msmd\u001b[0m\u001b[1;33m.\u001b[0m\u001b[0mprint_iter\u001b[0m \u001b[1;33m=\u001b[0m \u001b[1;33m[\u001b[0m\u001b[1;32mTrue\u001b[0m\u001b[1;33m,\u001b[0m\u001b[1;36m1\u001b[0m\u001b[1;33m]\u001b[0m\u001b[1;33m\u001b[0m\u001b[1;33m\u001b[0m\u001b[0m\n\u001b[1;32m----> 2\u001b[1;33m \u001b[0msmd\u001b[0m\u001b[1;33m.\u001b[0m\u001b[0mMultiStart\u001b[0m\u001b[1;33m(\u001b[0m\u001b[0mtheta0\u001b[0m\u001b[1;33m,\u001b[0m\u001b[0mweight\u001b[0m\u001b[1;33m)\u001b[0m\u001b[1;33m\u001b[0m\u001b[1;33m\u001b[0m\u001b[0m\n\u001b[0m\u001b[0;32m      3\u001b[0m \u001b[0mtheta\u001b[0m \u001b[1;33m=\u001b[0m \u001b[0msmd\u001b[0m\u001b[1;33m.\u001b[0m\u001b[0mest\u001b[0m\u001b[1;33m\u001b[0m\u001b[1;33m\u001b[0m\u001b[0m\n",
      "\u001b[1;32m~\\Desktop\\Speciale\\Speciale_retirement\\Main\\SimulatedMinimumDistance.py\u001b[0m in \u001b[0;36mMultiStart\u001b[1;34m(self, theta0, weight, options)\u001b[0m\n\u001b[0;32m    140\u001b[0m             \u001b[1;31m# estimate\u001b[0m\u001b[1;33m\u001b[0m\u001b[1;33m\u001b[0m\u001b[1;33m\u001b[0m\u001b[0m\n\u001b[0;32m    141\u001b[0m             \u001b[0mtic\u001b[0m \u001b[1;33m=\u001b[0m \u001b[0mtime\u001b[0m\u001b[1;33m.\u001b[0m\u001b[0mtime\u001b[0m\u001b[1;33m(\u001b[0m\u001b[1;33m)\u001b[0m\u001b[1;33m\u001b[0m\u001b[1;33m\u001b[0m\u001b[0m\n\u001b[1;32m--> 142\u001b[1;33m             \u001b[0mself\u001b[0m\u001b[1;33m.\u001b[0m\u001b[0mestimate\u001b[0m\u001b[1;33m(\u001b[0m\u001b[0mtheta0\u001b[0m\u001b[1;33m[\u001b[0m\u001b[0mp\u001b[0m\u001b[1;33m]\u001b[0m\u001b[1;33m,\u001b[0m\u001b[0mweight\u001b[0m\u001b[1;33m)\u001b[0m\u001b[1;33m\u001b[0m\u001b[1;33m\u001b[0m\u001b[0m\n\u001b[0m\u001b[0;32m    143\u001b[0m             \u001b[0mtoc\u001b[0m \u001b[1;33m=\u001b[0m \u001b[0mtime\u001b[0m\u001b[1;33m.\u001b[0m\u001b[0mtime\u001b[0m\u001b[1;33m(\u001b[0m\u001b[1;33m)\u001b[0m\u001b[1;33m\u001b[0m\u001b[1;33m\u001b[0m\u001b[0m\n\u001b[0;32m    144\u001b[0m \u001b[1;33m\u001b[0m\u001b[0m\n",
      "\u001b[1;32m~\\Desktop\\Speciale\\Speciale_retirement\\Main\\SimulatedMinimumDistance.py\u001b[0m in \u001b[0;36mestimate\u001b[1;34m(self, theta0, W, *args)\u001b[0m\n\u001b[0;32m    117\u001b[0m \u001b[1;33m\u001b[0m\u001b[0m\n\u001b[0;32m    118\u001b[0m         \u001b[1;31m# estimate\u001b[0m\u001b[1;33m\u001b[0m\u001b[1;33m\u001b[0m\u001b[1;33m\u001b[0m\u001b[0m\n\u001b[1;32m--> 119\u001b[1;33m         \u001b[0mself\u001b[0m\u001b[1;33m.\u001b[0m\u001b[0mest_out\u001b[0m \u001b[1;33m=\u001b[0m \u001b[0mminimize\u001b[0m\u001b[1;33m(\u001b[0m\u001b[0mself\u001b[0m\u001b[1;33m.\u001b[0m\u001b[0mobj_fun\u001b[0m\u001b[1;33m,\u001b[0m \u001b[0mtheta0\u001b[0m\u001b[1;33m,\u001b[0m \u001b[1;33m(\u001b[0m\u001b[0mW\u001b[0m\u001b[1;33m,\u001b[0m \u001b[1;33m*\u001b[0m\u001b[0margs\u001b[0m\u001b[1;33m)\u001b[0m\u001b[1;33m,\u001b[0m \u001b[0mbounds\u001b[0m\u001b[1;33m=\u001b[0m\u001b[0mself\u001b[0m\u001b[1;33m.\u001b[0m\u001b[0mbounds\u001b[0m\u001b[1;33m,\u001b[0m \u001b[0mmethod\u001b[0m\u001b[1;33m=\u001b[0m\u001b[0mself\u001b[0m\u001b[1;33m.\u001b[0m\u001b[0mmethod\u001b[0m\u001b[1;33m,\u001b[0m\u001b[0moptions\u001b[0m\u001b[1;33m=\u001b[0m\u001b[0mself\u001b[0m\u001b[1;33m.\u001b[0m\u001b[0moptions\u001b[0m\u001b[1;33m)\u001b[0m\u001b[1;33m\u001b[0m\u001b[1;33m\u001b[0m\u001b[0m\n\u001b[0m\u001b[0;32m    120\u001b[0m \u001b[1;33m\u001b[0m\u001b[0m\n\u001b[0;32m    121\u001b[0m         \u001b[1;31m# return output\u001b[0m\u001b[1;33m\u001b[0m\u001b[1;33m\u001b[0m\u001b[1;33m\u001b[0m\u001b[0m\n",
      "\u001b[1;32m~\\Anaconda3\\lib\\site-packages\\scipy\\optimize\\_minimize.py\u001b[0m in \u001b[0;36mminimize\u001b[1;34m(fun, x0, args, method, jac, hess, hessp, bounds, constraints, tol, callback, options)\u001b[0m\n\u001b[0;32m    587\u001b[0m                       callback=callback, **options)\n\u001b[0;32m    588\u001b[0m     \u001b[1;32melif\u001b[0m \u001b[0mmeth\u001b[0m \u001b[1;33m==\u001b[0m \u001b[1;34m'nelder-mead'\u001b[0m\u001b[1;33m:\u001b[0m\u001b[1;33m\u001b[0m\u001b[1;33m\u001b[0m\u001b[0m\n\u001b[1;32m--> 589\u001b[1;33m         \u001b[1;32mreturn\u001b[0m \u001b[0m_minimize_neldermead\u001b[0m\u001b[1;33m(\u001b[0m\u001b[0mfun\u001b[0m\u001b[1;33m,\u001b[0m \u001b[0mx0\u001b[0m\u001b[1;33m,\u001b[0m \u001b[0margs\u001b[0m\u001b[1;33m,\u001b[0m \u001b[0mcallback\u001b[0m\u001b[1;33m,\u001b[0m \u001b[1;33m**\u001b[0m\u001b[0moptions\u001b[0m\u001b[1;33m)\u001b[0m\u001b[1;33m\u001b[0m\u001b[1;33m\u001b[0m\u001b[0m\n\u001b[0m\u001b[0;32m    590\u001b[0m     \u001b[1;32melif\u001b[0m \u001b[0mmeth\u001b[0m \u001b[1;33m==\u001b[0m \u001b[1;34m'powell'\u001b[0m\u001b[1;33m:\u001b[0m\u001b[1;33m\u001b[0m\u001b[1;33m\u001b[0m\u001b[0m\n\u001b[0;32m    591\u001b[0m         \u001b[1;32mreturn\u001b[0m \u001b[0m_minimize_powell\u001b[0m\u001b[1;33m(\u001b[0m\u001b[0mfun\u001b[0m\u001b[1;33m,\u001b[0m \u001b[0mx0\u001b[0m\u001b[1;33m,\u001b[0m \u001b[0margs\u001b[0m\u001b[1;33m,\u001b[0m \u001b[0mcallback\u001b[0m\u001b[1;33m,\u001b[0m \u001b[1;33m**\u001b[0m\u001b[0moptions\u001b[0m\u001b[1;33m)\u001b[0m\u001b[1;33m\u001b[0m\u001b[1;33m\u001b[0m\u001b[0m\n",
      "\u001b[1;32m~\\Anaconda3\\lib\\site-packages\\scipy\\optimize\\optimize.py\u001b[0m in \u001b[0;36m_minimize_neldermead\u001b[1;34m(func, x0, args, callback, maxiter, maxfev, disp, return_all, initial_simplex, xatol, fatol, adaptive, **unknown_options)\u001b[0m\n\u001b[0;32m    578\u001b[0m         \u001b[1;32mif\u001b[0m \u001b[0mfxr\u001b[0m \u001b[1;33m<\u001b[0m \u001b[0mfsim\u001b[0m\u001b[1;33m[\u001b[0m\u001b[1;36m0\u001b[0m\u001b[1;33m]\u001b[0m\u001b[1;33m:\u001b[0m\u001b[1;33m\u001b[0m\u001b[1;33m\u001b[0m\u001b[0m\n\u001b[0;32m    579\u001b[0m             \u001b[0mxe\u001b[0m \u001b[1;33m=\u001b[0m \u001b[1;33m(\u001b[0m\u001b[1;36m1\u001b[0m \u001b[1;33m+\u001b[0m \u001b[0mrho\u001b[0m \u001b[1;33m*\u001b[0m \u001b[0mchi\u001b[0m\u001b[1;33m)\u001b[0m \u001b[1;33m*\u001b[0m \u001b[0mxbar\u001b[0m \u001b[1;33m-\u001b[0m \u001b[0mrho\u001b[0m \u001b[1;33m*\u001b[0m \u001b[0mchi\u001b[0m \u001b[1;33m*\u001b[0m \u001b[0msim\u001b[0m\u001b[1;33m[\u001b[0m\u001b[1;33m-\u001b[0m\u001b[1;36m1\u001b[0m\u001b[1;33m]\u001b[0m\u001b[1;33m\u001b[0m\u001b[1;33m\u001b[0m\u001b[0m\n\u001b[1;32m--> 580\u001b[1;33m             \u001b[0mfxe\u001b[0m \u001b[1;33m=\u001b[0m \u001b[0mfunc\u001b[0m\u001b[1;33m(\u001b[0m\u001b[0mxe\u001b[0m\u001b[1;33m)\u001b[0m\u001b[1;33m\u001b[0m\u001b[1;33m\u001b[0m\u001b[0m\n\u001b[0m\u001b[0;32m    581\u001b[0m \u001b[1;33m\u001b[0m\u001b[0m\n\u001b[0;32m    582\u001b[0m             \u001b[1;32mif\u001b[0m \u001b[0mfxe\u001b[0m \u001b[1;33m<\u001b[0m \u001b[0mfxr\u001b[0m\u001b[1;33m:\u001b[0m\u001b[1;33m\u001b[0m\u001b[1;33m\u001b[0m\u001b[0m\n",
      "\u001b[1;32m~\\Anaconda3\\lib\\site-packages\\scipy\\optimize\\optimize.py\u001b[0m in \u001b[0;36mfunction_wrapper\u001b[1;34m(*wrapper_args)\u001b[0m\n\u001b[0;32m    298\u001b[0m     \u001b[1;32mdef\u001b[0m \u001b[0mfunction_wrapper\u001b[0m\u001b[1;33m(\u001b[0m\u001b[1;33m*\u001b[0m\u001b[0mwrapper_args\u001b[0m\u001b[1;33m)\u001b[0m\u001b[1;33m:\u001b[0m\u001b[1;33m\u001b[0m\u001b[1;33m\u001b[0m\u001b[0m\n\u001b[0;32m    299\u001b[0m         \u001b[0mncalls\u001b[0m\u001b[1;33m[\u001b[0m\u001b[1;36m0\u001b[0m\u001b[1;33m]\u001b[0m \u001b[1;33m+=\u001b[0m \u001b[1;36m1\u001b[0m\u001b[1;33m\u001b[0m\u001b[1;33m\u001b[0m\u001b[0m\n\u001b[1;32m--> 300\u001b[1;33m         \u001b[1;32mreturn\u001b[0m \u001b[0mfunction\u001b[0m\u001b[1;33m(\u001b[0m\u001b[1;33m*\u001b[0m\u001b[1;33m(\u001b[0m\u001b[0mwrapper_args\u001b[0m \u001b[1;33m+\u001b[0m \u001b[0margs\u001b[0m\u001b[1;33m)\u001b[0m\u001b[1;33m)\u001b[0m\u001b[1;33m\u001b[0m\u001b[1;33m\u001b[0m\u001b[0m\n\u001b[0m\u001b[0;32m    301\u001b[0m \u001b[1;33m\u001b[0m\u001b[0m\n\u001b[0;32m    302\u001b[0m     \u001b[1;32mreturn\u001b[0m \u001b[0mncalls\u001b[0m\u001b[1;33m,\u001b[0m \u001b[0mfunction_wrapper\u001b[0m\u001b[1;33m\u001b[0m\u001b[1;33m\u001b[0m\u001b[0m\n",
      "\u001b[1;32m~\\Desktop\\Speciale\\Speciale_retirement\\Main\\SimulatedMinimumDistance.py\u001b[0m in \u001b[0;36mobj_fun\u001b[1;34m(self, theta, W, *args)\u001b[0m\n\u001b[0;32m     91\u001b[0m \u001b[1;33m\u001b[0m\u001b[0m\n\u001b[0;32m     92\u001b[0m             \u001b[1;31m# 3. simulate data from the model and calculate moments [have this as a complete function, used for standard errors]\u001b[0m\u001b[1;33m\u001b[0m\u001b[1;33m\u001b[0m\u001b[1;33m\u001b[0m\u001b[0m\n\u001b[1;32m---> 93\u001b[1;33m             \u001b[0mself\u001b[0m\u001b[1;33m.\u001b[0m\u001b[0mmodel\u001b[0m\u001b[1;33m.\u001b[0m\u001b[0msimulate\u001b[0m\u001b[1;33m(\u001b[0m\u001b[1;33m)\u001b[0m\u001b[1;33m\u001b[0m\u001b[1;33m\u001b[0m\u001b[0m\n\u001b[0m\u001b[0;32m     94\u001b[0m             \u001b[0mself\u001b[0m\u001b[1;33m.\u001b[0m\u001b[0mmom_sim\u001b[0m \u001b[1;33m=\u001b[0m \u001b[0mself\u001b[0m\u001b[1;33m.\u001b[0m\u001b[0mmom_fun\u001b[0m\u001b[1;33m(\u001b[0m\u001b[0mself\u001b[0m\u001b[1;33m.\u001b[0m\u001b[0mmodel\u001b[0m\u001b[1;33m,\u001b[0m\u001b[1;33m*\u001b[0m\u001b[0margs\u001b[0m\u001b[1;33m)\u001b[0m\u001b[1;33m\u001b[0m\u001b[1;33m\u001b[0m\u001b[0m\n\u001b[0;32m     95\u001b[0m \u001b[1;33m\u001b[0m\u001b[0m\n",
      "\u001b[1;32m~\\Desktop\\Speciale\\Speciale_retirement\\Main\\Model.py\u001b[0m in \u001b[0;36msimulate\u001b[1;34m(self, accuracy, tax)\u001b[0m\n\u001b[0;32m    334\u001b[0m \u001b[1;33m\u001b[0m\u001b[0m\n\u001b[0;32m    335\u001b[0m             \u001b[1;31m# simulate model\u001b[0m\u001b[1;33m\u001b[0m\u001b[1;33m\u001b[0m\u001b[1;33m\u001b[0m\u001b[0m\n\u001b[1;32m--> 336\u001b[1;33m             \u001b[0msimulate\u001b[0m\u001b[1;33m.\u001b[0m\u001b[0mlifecycle_c\u001b[0m\u001b[1;33m(\u001b[0m\u001b[0mself\u001b[0m\u001b[1;33m.\u001b[0m\u001b[0msim\u001b[0m\u001b[1;33m,\u001b[0m\u001b[0mself\u001b[0m\u001b[1;33m.\u001b[0m\u001b[0msol\u001b[0m\u001b[1;33m,\u001b[0m\u001b[0mself\u001b[0m\u001b[1;33m.\u001b[0m\u001b[0mSingle\u001b[0m\u001b[1;33m.\u001b[0m\u001b[0msol\u001b[0m\u001b[1;33m,\u001b[0m\u001b[0mself\u001b[0m\u001b[1;33m.\u001b[0m\u001b[0mpar\u001b[0m\u001b[1;33m,\u001b[0m\u001b[0mself\u001b[0m\u001b[1;33m.\u001b[0m\u001b[0mSingle\u001b[0m\u001b[1;33m.\u001b[0m\u001b[0mpar\u001b[0m\u001b[1;33m)\u001b[0m\u001b[1;33m\u001b[0m\u001b[1;33m\u001b[0m\u001b[0m\n\u001b[0m\u001b[0;32m    337\u001b[0m \u001b[1;33m\u001b[0m\u001b[0m\n\u001b[0;32m    338\u001b[0m         \u001b[1;32melse\u001b[0m\u001b[1;33m:\u001b[0m\u001b[1;33m\u001b[0m\u001b[1;33m\u001b[0m\u001b[0m\n",
      "\u001b[1;31mKeyboardInterrupt\u001b[0m: "
     ]
    }
   ],
   "source": [
    "smd.print_iter = [True,1]\n",
    "smd.MultiStart(theta0,weight)\n",
    "theta = smd.est"
   ]
  },
  {
   "cell_type": "code",
   "execution_count": null,
   "metadata": {},
   "outputs": [],
   "source": []
  },
  {
   "cell_type": "code",
   "execution_count": null,
   "metadata": {},
   "outputs": [],
   "source": []
  },
  {
   "cell_type": "code",
   "execution_count": null,
   "metadata": {},
   "outputs": [],
   "source": []
  },
  {
   "cell_type": "code",
   "execution_count": null,
   "metadata": {},
   "outputs": [],
   "source": []
  },
  {
   "cell_type": "code",
   "execution_count": null,
   "metadata": {},
   "outputs": [],
   "source": []
  },
  {
   "cell_type": "code",
   "execution_count": null,
   "metadata": {},
   "outputs": [],
   "source": []
  },
  {
   "cell_type": "code",
   "execution_count": null,
   "metadata": {},
   "outputs": [],
   "source": []
  },
  {
   "cell_type": "code",
   "execution_count": null,
   "metadata": {},
   "outputs": [],
   "source": []
  },
  {
   "cell_type": "code",
   "execution_count": null,
   "metadata": {},
   "outputs": [],
   "source": []
  },
  {
   "cell_type": "code",
   "execution_count": null,
   "metadata": {},
   "outputs": [],
   "source": [
    "Nobs = 100\n",
    "smd.std_error(theta,weight,Nobs=Nobs,Nsim=Couple.par.simN/Nobs)\n",
    "std_error = smd.std\n",
    "smd.obj_fun(theta,weight) # set theta as parameters\n",
    "print('Parameters:', np.round(theta,3))\n",
    "print('Std error :', np.round(std_error,4))\n",
    "SMD.save_est(est_par,theta,name='Couple') # save parameters"
   ]
  },
  {
   "cell_type": "code",
   "execution_count": null,
   "metadata": {},
   "outputs": [],
   "source": [
    "def model_fit(Couple,ma):\n",
    "    moments = pd.read_excel('SASdata/couple_moments_total.xlsx')\n",
    "    mom = moments['Moments'].to_numpy().reshape(2,11)\n",
    "    data = {'y': [mom[ma]], 'x': np.arange(58,69), 'label': ['Data'], 'color': 'k',\n",
    "            'linestyle': ['None'], 'marker': 'o'}    \n",
    "    pred = figs.retirement_probs_c(Couple,ma=ma)\n",
    "    return [data,pred]"
   ]
  },
  {
   "cell_type": "code",
   "execution_count": null,
   "metadata": {},
   "outputs": [],
   "source": [
    "np.mean(figs.RetAge_C(Couple,ma=0))"
   ]
  },
  {
   "cell_type": "code",
   "execution_count": null,
   "metadata": {},
   "outputs": [],
   "source": [
    "np.mean(figs.RetAge_C(Couple,ma=1))"
   ]
  },
  {
   "cell_type": "code",
   "execution_count": null,
   "metadata": {},
   "outputs": [],
   "source": [
    "figs.MyPlot(model_fit(Couple,0),ylim=[-0.01,0.4],linewidth=3).savefig('figs/ModelFit/CoupleWomen.png')"
   ]
  },
  {
   "cell_type": "code",
   "execution_count": null,
   "metadata": {},
   "outputs": [],
   "source": [
    "figs.MyPlot(model_fit(Couple,1),ylim=[-0.01,0.4],linewidth=3).savefig('figs/ModelFit/CoupleMen.png')"
   ]
  },
  {
   "cell_type": "markdown",
   "metadata": {},
   "source": [
    "With moments for hs and elig separately"
   ]
  },
  {
   "cell_type": "code",
   "execution_count": 12,
   "metadata": {},
   "outputs": [
    {
     "name": "stdout",
     "output_type": "stream",
     "text": [
      "1 estimation:\n",
      "success: True | feval: 250 | time: 44.5 min | obj: 2.019647055890923\n",
      "start par: [0.888, 0.177, 0.96, 0.73, 0.551, 0.633]\n",
      "par:       [ 0.34486072  0.26388241 -0.29785464  0.89365759  1.18801869  0.53412039]\n",
      "\n",
      "2 estimation:\n",
      "success: True | feval: 366 | time: 62.8 min | obj: 2.004012481323837\n",
      "start par: [0.018, 0.54, -0.567, 0.434, 0.609, 0.93]\n",
      "par:       [ 0.02513322  0.14277416 -0.10331484  0.77806843  6.11510172 -5.85077245]\n",
      "\n",
      "3 estimation:\n",
      "success: True | feval: 278 | time: 49.3 min | obj: 1.8459189271531073\n",
      "start par: [0.215, 0.631, -0.336, 0.67, 0.006, -0.587]\n",
      "par:       [ 0.78989092  0.30355572 -0.37230901  0.68057954  0.00623897  0.06052501]\n",
      "\n",
      "4 estimation:\n",
      "success: True | feval: 251 | time: 45.6 min | obj: 1.9709075059425873\n",
      "start par: [0.613, 0.729, 0.122, 0.601, 0.923, -0.159]\n",
      "par:       [ 0.87503454  0.16559809  0.10386799  0.58150397 -0.13133654 -0.35828139]\n",
      "\n",
      "5 estimation:\n",
      "success: True | feval: 270 | time: 48.8 min | obj: 2.003050954422142\n",
      "start par: [0.748, 0.113, 0.113, 0.369, 0.323, 0.898]\n",
      "par:       [ 0.4866765   0.20269183 -0.0486477   0.82715819  0.72650571 -1.14741484]\n",
      "\n",
      "6 estimation:\n",
      "success: True | feval: 296 | time: 53.6 min | obj: 1.8496634906478941\n",
      "start par: [0.608, 0.302, 0.118, 0.529, 0.341, -0.146]\n",
      "par:       [ 1.0195158   0.39866049 -0.12840257  0.66563315 -0.24414917 -0.33841253]\n",
      "\n",
      "7 estimation:\n",
      "success: True | feval: 261 | time: 46.6 min | obj: 1.9142843514963\n",
      "start par: [0.371, 0.109, 0.8, 0.334, 0.654, -0.889]\n",
      "par:       [ 0.61397453  0.11220544 -0.2880271   0.77958753  0.63142851 -0.44643233]\n",
      "\n",
      "8 estimation:\n",
      "success: True | feval: 329 | time: 59.1 min | obj: 1.8991786915087712\n",
      "start par: [0.374, 0.635, 0.725, 0.799, 0.685, 0.398]\n",
      "par:       [ 0.53441462  0.12771263 -0.2905153   0.72673643  0.75997188  0.71262958]\n",
      "\n",
      "9 estimation:\n",
      "success: True | feval: 236 | time: 41.5 min | obj: 1.8723853818118197\n",
      "start par: [0.647, 0.901, -0.441, 0.212, 0.356, -0.411]\n",
      "par:       [ 0.73060833  0.18867961 -0.34508921  0.68801945  0.2506638  -0.23129355]\n",
      "\n",
      "10 estimation:\n",
      "success: True | feval: 259 | time: 46.0 min | obj: 1.8438858788623087\n",
      "start par: [0.613, 0.53, -0.834, 0.349, 0.061, -0.667]\n",
      "par:       [ 0.83203073  0.26843213 -0.40707624  0.70676014  0.05994483 -0.00861965]\n",
      "\n",
      "final estimation:\n",
      "success: True | feval: 117 | obj: 1.849381134862409\n",
      "total estimation time: 8.9 hours\n",
      "start par: [ 0.83203073  0.26843213 -0.40707624  0.70676014  0.05994483 -0.00861965]\n",
      "par: [ 0.8097936   0.27982001 -0.39997974  0.68578428  0.05761685 -0.00919087]\n",
      "\n"
     ]
    }
   ],
   "source": [
    "smd.MultiStart(theta0,weight)\n",
    "theta = smd.est"
   ]
  },
  {
   "cell_type": "code",
   "execution_count": 14,
   "metadata": {},
   "outputs": [
    {
     "data": {
      "text/plain": [
       "array([ 0.8097936 ,  0.27982001, -0.39997974,  0.68578428,  0.05761685,\n",
       "       -0.00919087])"
      ]
     },
     "execution_count": 14,
     "metadata": {},
     "output_type": "execute_result"
    }
   ],
   "source": [
    "theta"
   ]
  },
  {
   "cell_type": "code",
   "execution_count": 15,
   "metadata": {},
   "outputs": [
    {
     "data": {
      "text/plain": [
       "1.848257339210825"
      ]
     },
     "execution_count": 15,
     "metadata": {},
     "output_type": "execute_result"
    }
   ],
   "source": [
    "smd.obj_fun(theta,weight)"
   ]
  },
  {
   "cell_type": "code",
   "execution_count": 13,
   "metadata": {},
   "outputs": [
    {
     "name": "stdout",
     "output_type": "stream",
     "text": [
      "Parameters: [ 0.81   0.28  -0.4    0.686  0.058 -0.009]\n",
      "Std error : [0.0003 0.0002 0.0004 0.0003 0.0006 0.0152]\n"
     ]
    },
    {
     "ename": "TypeError",
     "evalue": "save_est() got an unexpected keyword argument 'couple'",
     "output_type": "error",
     "traceback": [
      "\u001b[1;31m---------------------------------------------------------------------------\u001b[0m",
      "\u001b[1;31mTypeError\u001b[0m                                 Traceback (most recent call last)",
      "\u001b[1;32m<ipython-input-13-67922529e293>\u001b[0m in \u001b[0;36m<module>\u001b[1;34m\u001b[0m\n\u001b[0;32m      5\u001b[0m \u001b[0mprint\u001b[0m\u001b[1;33m(\u001b[0m\u001b[1;34m'Parameters:'\u001b[0m\u001b[1;33m,\u001b[0m \u001b[0mnp\u001b[0m\u001b[1;33m.\u001b[0m\u001b[0mround\u001b[0m\u001b[1;33m(\u001b[0m\u001b[0mtheta\u001b[0m\u001b[1;33m,\u001b[0m\u001b[1;36m3\u001b[0m\u001b[1;33m)\u001b[0m\u001b[1;33m)\u001b[0m\u001b[1;33m\u001b[0m\u001b[1;33m\u001b[0m\u001b[0m\n\u001b[0;32m      6\u001b[0m \u001b[0mprint\u001b[0m\u001b[1;33m(\u001b[0m\u001b[1;34m'Std error :'\u001b[0m\u001b[1;33m,\u001b[0m \u001b[0mnp\u001b[0m\u001b[1;33m.\u001b[0m\u001b[0mround\u001b[0m\u001b[1;33m(\u001b[0m\u001b[0mstd_error\u001b[0m\u001b[1;33m,\u001b[0m\u001b[1;36m4\u001b[0m\u001b[1;33m)\u001b[0m\u001b[1;33m)\u001b[0m\u001b[1;33m\u001b[0m\u001b[1;33m\u001b[0m\u001b[0m\n\u001b[1;32m----> 7\u001b[1;33m \u001b[0mSMD\u001b[0m\u001b[1;33m.\u001b[0m\u001b[0msave_est\u001b[0m\u001b[1;33m(\u001b[0m\u001b[0mest_par\u001b[0m\u001b[1;33m,\u001b[0m\u001b[0mtheta\u001b[0m\u001b[1;33m,\u001b[0m\u001b[0mname\u001b[0m\u001b[1;33m=\u001b[0m\u001b[1;34m'Couple'\u001b[0m\u001b[1;33m,\u001b[0m\u001b[0mcouple\u001b[0m\u001b[1;33m=\u001b[0m\u001b[1;32mTrue\u001b[0m\u001b[1;33m)\u001b[0m \u001b[1;31m# save parameters\u001b[0m\u001b[1;33m\u001b[0m\u001b[1;33m\u001b[0m\u001b[0m\n\u001b[0m",
      "\u001b[1;31mTypeError\u001b[0m: save_est() got an unexpected keyword argument 'couple'"
     ]
    }
   ],
   "source": [
    "Nobs = 100\n",
    "smd.std_error(theta,weight,Nobs=Nobs,Nsim=Couple.par.simN/Nobs)\n",
    "std_error = smd.std\n",
    "smd.obj_fun(theta,weight) # set theta as parameters\n",
    "print('Parameters:', np.round(theta,3))\n",
    "print('Std error :', np.round(std_error,4))\n",
    "SMD.save_est(est_par,theta,name='Couple') # save parameters"
   ]
  },
  {
   "cell_type": "code",
   "execution_count": 16,
   "metadata": {},
   "outputs": [],
   "source": [
    "def model_fit(Couple,ma):\n",
    "    moments = pd.read_excel('SASdata/couple_moments_total.xlsx')\n",
    "    mom = moments['Moments'].to_numpy().reshape(2,11)\n",
    "    data = {'y': [mom[ma]], 'x': np.arange(58,69), 'label': ['Data'], 'color': 'k',\n",
    "            'linestyle': ['None'], 'marker': 'o'}    \n",
    "    pred = figs.retirement_probs_c(Couple,ma=ma)\n",
    "    return [data,pred]"
   ]
  },
  {
   "cell_type": "code",
   "execution_count": 20,
   "metadata": {},
   "outputs": [
    {
     "data": {
      "text/plain": [
       "61.92561667959754"
      ]
     },
     "execution_count": 20,
     "metadata": {},
     "output_type": "execute_result"
    }
   ],
   "source": [
    "np.mean(figs.RetAge_C(Couple,ma=0))"
   ]
  },
  {
   "cell_type": "code",
   "execution_count": 21,
   "metadata": {},
   "outputs": [
    {
     "data": {
      "text/plain": [
       "62.85268975588876"
      ]
     },
     "execution_count": 21,
     "metadata": {},
     "output_type": "execute_result"
    }
   ],
   "source": [
    "np.mean(figs.RetAge_C(Couple,ma=1))"
   ]
  },
  {
   "cell_type": "code",
   "execution_count": 17,
   "metadata": {},
   "outputs": [
    {
     "data": {
      "image/png": "[encoded data removed]",
      "text/plain": [
       "<Figure size 432x288 with 1 Axes>"
      ]
     },
     "metadata": {
      "needs_background": "light"
     },
     "output_type": "display_data"
    }
   ],
   "source": [
    "figs.MyPlot(model_fit(Couple,0),ylim=[-0.01,0.4],linewidth=3).savefig('figs/ModelFit/CoupleWomen.png')"
   ]
  },
  {
   "cell_type": "code",
   "execution_count": 18,
   "metadata": {},
   "outputs": [
    {
     "data": {
      "image/png": "[encoded data removed]",
      "text/plain": [
       "<Figure size 432x288 with 1 Axes>"
      ]
     },
     "metadata": {
      "needs_background": "light"
     },
     "output_type": "display_data"
    }
   ],
   "source": [
    "figs.MyPlot(model_fit(Couple,1),ylim=[-0.01,0.4],linewidth=3).savefig('figs/ModelFit/CoupleMen.png')"
   ]
  },
  {
   "cell_type": "markdown",
   "metadata": {},
   "source": [
    "### Sensitivity to first step calibrated parameters"
   ]
  },
  {
   "cell_type": "code",
   "execution_count": null,
   "metadata": {},
   "outputs": [],
   "source": [
    "smd.recompute=True\n",
    "smd.sensitivity(theta,weight,fixed_par)\n",
    "figs.sens_fig_tab(smd.sens2[:,:5],smd.sens2e[:,:5],theta,est_par_tex,fixed_par_tex[:5]).savefig('figs/Sens/CouplePref.png')\n",
    "figs.sens_fig_tab(smd.sens2[:,5:],smd.sens2e[:,5:],theta,est_par_tex,fixed_par_tex[5:]).savefig('figs/Sens/CoupleCali.png')"
   ]
  },
  {
   "cell_type": "markdown",
   "metadata": {},
   "source": [
    "### Estimate (phi=0)"
   ]
  },
  {
   "cell_type": "code",
   "execution_count": null,
   "metadata": {},
   "outputs": [],
   "source": [
    "Couple.par.phi_0_male = 0\n",
    "Couple.par.phi_0_female = 0\n",
    "Couple.par.phi_1 = 0\n",
    "smd = SMD.SimulatedMinimumDistance(Couple,mom_data,mom_fun)\n",
    "smd.est_par = est_par[0:4]"
   ]
  },
  {
   "cell_type": "code",
   "execution_count": null,
   "metadata": {},
   "outputs": [],
   "source": [
    "theta0 = SMD.start(10,bounds=[(0.0,1.0),(0.0,1.0),(-1.0,1.0),(0.2,0.8)])"
   ]
  },
  {
   "cell_type": "code",
   "execution_count": null,
   "metadata": {},
   "outputs": [],
   "source": [
    "smd.MultiStart(theta0,weight)\n",
    "theta = smd.est"
   ]
  },
  {
   "cell_type": "code",
   "execution_count": null,
   "metadata": {},
   "outputs": [],
   "source": [
    "Nobs = 100\n",
    "smd.std_error(theta,weight,Nobs=Nobs,Nsim=Couple.par.simN/Nobs)\n",
    "std_error = smd.std\n",
    "print('Parameters:', np.round(theta,3))\n",
    "print('Std error :', np.round(std_error,4))\n",
    "SMD.save_est(est_par,theta,name='RestCouple',couple=True) # save parameters"
   ]
  },
  {
   "cell_type": "code",
   "execution_count": null,
   "metadata": {},
   "outputs": [],
   "source": [
    "figs.MyPlot(model_fit(Couple,0),ylim=[-0.01,0.4],linewidth=3).savefig('figs/ModelFit/RestCoupleWomen.png')"
   ]
  },
  {
   "cell_type": "code",
   "execution_count": null,
   "metadata": {},
   "outputs": [],
   "source": [
    "figs.MyPlot(model_fit(Couple,1),ylim=[-0.01,0.4],linewidth=3).savefig('figs/ModelFit/RestCoupleMen.png')"
   ]
  }
 ],
 "metadata": {
  "kernelspec": {
   "display_name": "Python 3",
   "language": "python",
   "name": "python3"
  },
  "language_info": {
   "codemirror_mode": {
    "name": "ipython",
    "version": 3
   },
   "file_extension": ".py",
   "mimetype": "text/x-python",
   "name": "python",
   "nbconvert_exporter": "python",
   "pygments_lexer": "ipython3",
   "version": "3.7.3"
  }
 },
 "nbformat": 4,
 "nbformat_minor": 2
}
