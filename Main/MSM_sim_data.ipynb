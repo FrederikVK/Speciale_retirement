{
 "cells": [
  {
   "cell_type": "markdown",
   "metadata": {},
   "source": [
    "# Estimation on simulated data using MSM"
   ]
  },
  {
   "cell_type": "code",
   "execution_count": 1,
   "metadata": {},
   "outputs": [],
   "source": [
    "from consav import runtools\n",
    "runtools.write_numba_config(disable=0,threads=4)\n",
    "\n",
    "%matplotlib inline\n",
    "%load_ext autoreload\n",
    "%autoreload 2\n",
    "\n",
    "# Local modules\n",
    "from Model import RetirementClass\n",
    "import figs\n",
    "import SimulatedMinimumDistance as SMD\n",
    "\n",
    "# Global modules\n",
    "import numpy as np"
   ]
  },
  {
   "cell_type": "markdown",
   "metadata": {},
   "source": [
    "# Singles"
   ]
  },
  {
   "cell_type": "code",
   "execution_count": null,
   "metadata": {},
   "outputs": [],
   "source": [
    "def weight_matrix(std):\n",
    "    std_inv = np.zeros(std.shape)\n",
    "    idx = np.nonzero(std>0)[0]\n",
    "    std_inv[idx] = 1/std[idx]\n",
    "    return np.eye(std.size)*std_inv\n",
    "\n",
    "Single = RetirementClass(simN=1e5,simT=12)\n",
    "Single.solve()\n",
    "Single.simulate()\n",
    "mom_data = SMD.MomFunSingle(Single.sim,Single.par)\n",
    "mom_se = SMD.MomFunSingle(Single.sim,Single.par,std=True)\n",
    "weight = weight_matrix(mom_se)"
   ]
  },
  {
   "cell_type": "markdown",
   "metadata": {},
   "source": [
    "Set up model for estimation"
   ]
  },
  {
   "cell_type": "code",
   "execution_count": null,
   "metadata": {},
   "outputs": [],
   "source": [
    "Single.sim_seed = Single.sim_seed + 1000 # set new seed for estimation\n",
    "Single.recompute()"
   ]
  },
  {
   "cell_type": "code",
   "execution_count": null,
   "metadata": {},
   "outputs": [],
   "source": [
    "# function to generate moments\n",
    "def mom_fun(sim):\n",
    "    return SMD.MomFunSingle(sim,Single.par)"
   ]
  },
  {
   "cell_type": "markdown",
   "metadata": {},
   "source": [
    "Set up estimation"
   ]
  },
  {
   "cell_type": "code",
   "execution_count": 8,
   "metadata": {},
   "outputs": [],
   "source": [
    "# Parameters to be estimated (and guess)\n",
    "true = [Single.par.alpha_0_male, Single.par.alpha_0_female, Single.par.alpha_1, Single.par.sigma_eta]\n",
    "theta0 = true\n",
    "add_str = '_est'\n",
    "est_par = [\"alpha_0_male\", \"alpha_0_female\", \"alpha_1\", \"sigma_eta\"]\n",
    "\n",
    "# Setup estimation\n",
    "smd = SMD.SimulatedMinimumDistance(Single,mom_data,mom_fun,print_iter=[True,100],options={'disp':True})\n",
    "smd.est_par = est_par"
   ]
  },
  {
   "cell_type": "markdown",
   "metadata": {},
   "source": [
    "Run estimation"
   ]
  },
  {
   "cell_type": "code",
   "execution_count": 9,
   "metadata": {},
   "outputs": [
    {
     "name": "stdout",
     "output_type": "stream",
     "text": [
      "Iteration: 50 (0.73 minutes)\n",
      " alpha_0_male=0.1629 alpha_0_female=0.2254 alpha_1=0.0701 sigma_eta=0.5243 -> 49.6945\n",
      "Iteration: 100 (0.72 minutes)\n",
      " alpha_0_male=0.1463 alpha_0_female=0.1490 alpha_1=0.0700 sigma_eta=0.4121 -> 3.0982\n",
      "Iteration: 150 (0.74 minutes)\n",
      " alpha_0_male=0.1481 alpha_0_female=0.1496 alpha_1=0.0698 sigma_eta=0.4166 -> 3.0131\n",
      "Iteration: 200 (0.73 minutes)\n",
      " alpha_0_male=0.1480 alpha_0_female=0.1496 alpha_1=0.0698 sigma_eta=0.4168 -> 3.0012\n",
      "Iteration: 250 (0.75 minutes)\n",
      " alpha_0_male=0.1480 alpha_0_female=0.1495 alpha_1=0.0698 sigma_eta=0.4167 -> 2.9942\n",
      "Optimization terminated successfully.\n",
      "         Current function value: 2.992020\n",
      "         Iterations: 149\n",
      "         Function evaluations: 268\n"
     ]
    }
   ],
   "source": [
    "tic = time.time()\n",
    "smd_base.estimate(theta0,weight)\n",
    "theta = smd.est\n",
    "toc = time.time()"
   ]
  },
  {
   "cell_type": "markdown",
   "metadata": {},
   "source": [
    "Result"
   ]
  },
  {
   "cell_type": "code",
   "execution_count": 10,
   "metadata": {},
   "outputs": [
    {
     "name": "stdout",
     "output_type": "stream",
     "text": [
      "Parameter:        ['alpha_0_male', 'alpha_0_female', 'alpha_1', 'sigma_eta']\n",
      "True:             [0.16  0.16  0.053 0.435]\n",
      "Estimated:        [0.148 0.15  0.07  0.417]\n",
      "bias:             [-0.012 -0.01   0.017 -0.018]\n",
      "Estimation time:  3.93 minutes\n"
     ]
    }
   ],
   "source": [
    "print('Parameter:       ', est_par)\n",
    "print('True:            ', np.round(true, 4))\n",
    "print('Estimated:       ', np.round(theta, 4))\n",
    "print('bias:            ', np.round(theta-true, 4))\n",
    "print('Estimation time: ', round((toc-tic)/60,1), 'minutes')"
   ]
  },
  {
   "cell_type": "markdown",
   "metadata": {},
   "source": [
    "clean up"
   ]
  },
  {
   "cell_type": "code",
   "execution_count": null,
   "metadata": {},
   "outputs": [],
   "source": [
    "%reset -f"
   ]
  },
  {
   "cell_type": "markdown",
   "metadata": {},
   "source": [
    "# Couples"
   ]
  },
  {
   "cell_type": "code",
   "execution_count": null,
   "metadata": {},
   "outputs": [],
   "source": [
    "from consav import runtools\n",
    "runtools.write_numba_config(disable=0,threads=4)\n",
    "\n",
    "%matplotlib inline\n",
    "%load_ext autoreload\n",
    "%autoreload 2\n",
    "\n",
    "# Local modules\n",
    "from Model import RetirementClass\n",
    "import figs\n",
    "import SimulatedMinimumDistance as SMD\n",
    "\n",
    "# Global modules\n",
    "import numpy as np"
   ]
  },
  {
   "cell_type": "code",
   "execution_count": null,
   "metadata": {},
   "outputs": [],
   "source": [
    "# create weight matrix\n",
    "def weight_matrix(std):\n",
    "    std_inv = np.zeros(std.shape)\n",
    "    idx = np.nonzero(std>0.01)[0]\n",
    "    std_inv[idx] = 1/std[idx]\n",
    "    return np.eye(std.size)*std_inv\n",
    "\n",
    "Couple = RetirementClass(couple=True, simN=1e6, simT=12)\n",
    "Couple.solve()    \n",
    "Couple.simulate()\n",
    "mom_data = SMD.MomFunCouple(Couple.sim,Couple.par)\n",
    "mom_se = SMD.MomFunCouple(Couple.sim,Couple.par,std=True)\n",
    "weight = weight_matrix(mom_se)"
   ]
  },
  {
   "cell_type": "markdown",
   "metadata": {},
   "source": [
    "Set up model for estimation "
   ]
  },
  {
   "cell_type": "code",
   "execution_count": null,
   "metadata": {},
   "outputs": [],
   "source": [
    "Couple.sim_seed = Couple.sim_seed + 1000 # set new seed for estimation\n",
    "Couple.recompute()"
   ]
  },
  {
   "cell_type": "code",
   "execution_count": null,
   "metadata": {},
   "outputs": [],
   "source": [
    "# function to generate moments\n",
    "def mom_fun(sim):\n",
    "    return SMD.MomFunSingle(sim,Couple.par)"
   ]
  },
  {
   "cell_type": "markdown",
   "metadata": {},
   "source": [
    "Set up estimation"
   ]
  },
  {
   "cell_type": "code",
   "execution_count": null,
   "metadata": {},
   "outputs": [],
   "source": [
    "# Parameters to be estimated (and guess)\n",
    "true = [Couple.par.alpha_0_male, Couple.par.alpha_0_female, Couple.par.alpha_1, Couple.par.sigma_eta, \n",
    "        Couple.par.phi_0_male, Couple.par.phi_0_female, Couple.par.phi_1]\n",
    "theta0 = true\n",
    "add_str = '_est'\n",
    "est_par = [\"alpha_0_male\", \"alpha_0_female\", \"alpha_1\", \"sigma_eta\", \"phi_0_male\", \"phi_0_female\", \"phi_1\"]\n",
    "\n",
    "# Setup estimation\n",
    "smd = SMD.SimulatedMinimumDistance(Couple,mom_data,mom_fun,print_iter=[True,50],options={'disp':True})\n",
    "smd.est_par = est_par"
   ]
  },
  {
   "cell_type": "markdown",
   "metadata": {},
   "source": [
    "Run estimation"
   ]
  },
  {
   "cell_type": "code",
   "execution_count": null,
   "metadata": {},
   "outputs": [],
   "source": [
    "tic = time.time()\n",
    "smd_base.estimate(theta0,weight)\n",
    "theta = smd.est\n",
    "toc = time.time()"
   ]
  },
  {
   "cell_type": "markdown",
   "metadata": {},
   "source": [
    "Results"
   ]
  },
  {
   "cell_type": "code",
   "execution_count": null,
   "metadata": {},
   "outputs": [],
   "source": [
    "print('Parameter:       ', est_par)\n",
    "print('True:            ', np.round(true, 4))\n",
    "print('Estimated:       ', np.round(theta, 4))\n",
    "print('bias:            ', np.round(theta-true, 4))\n",
    "print('Estimation time: ', round((toc-tic)/(60**2),1), ' hours')"
   ]
  }
 ],
 "metadata": {
  "kernelspec": {
   "display_name": "Python 3",
   "language": "python",
   "name": "python3"
  },
  "language_info": {
   "codemirror_mode": {
    "name": "ipython",
    "version": 3
   },
   "file_extension": ".py",
   "mimetype": "text/x-python",
   "name": "python",
   "nbconvert_exporter": "python",
   "pygments_lexer": "ipython3",
   "version": "3.7.3"
  }
 },
 "nbformat": 4,
 "nbformat_minor": 2
}
