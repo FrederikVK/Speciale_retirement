{
 "cells": [
  {
   "cell_type": "markdown",
   "metadata": {},
   "source": [
    "# Estimation on simulated data using MSM"
   ]
  },
  {
   "cell_type": "code",
   "execution_count": 1,
   "metadata": {},
   "outputs": [],
   "source": [
    "from consav import runtools\n",
    "runtools.write_numba_config(disable=0,threads=4)\n",
    "\n",
    "%matplotlib inline\n",
    "%load_ext autoreload\n",
    "%autoreload 2\n",
    "\n",
    "# Local modules\n",
    "from Model import RetirementClass\n",
    "import figs\n",
    "import SimulatedMinimumDistance as SMD\n",
    "\n",
    "# Global modules\n",
    "import numpy as np\n",
    "import time\n",
    "import matplotlib.pyplot as plt"
   ]
  },
  {
   "cell_type": "markdown",
   "metadata": {},
   "source": [
    "### Identification of phi across gender?"
   ]
  },
  {
   "cell_type": "code",
   "execution_count": null,
   "metadata": {},
   "outputs": [],
   "source": [
    "Couple = RetirementClass(couple=True, simT=68-53+1)\n",
    "Couple.solve()\n",
    "Couple.simulate()"
   ]
  },
  {
   "cell_type": "code",
   "execution_count": null,
   "metadata": {},
   "outputs": [],
   "source": [
    "est_par = [\"alpha_0_male\", \"alpha_0_female\", \"phi_0_male\", \"phi_0_female\"]\n",
    "par_save = est_par[2:]\n",
    "par_latex = ['$\\phi_0^m$', '$\\phi_0^f$']"
   ]
  },
  {
   "cell_type": "code",
   "execution_count": null,
   "metadata": {},
   "outputs": [],
   "source": [
    "true_par = [0.5, 0.5, 1.5, 1.5]\n",
    "true_save = true_par[2:]\n",
    "SMD.identification(Couple,true_par,est_par,true_save,par_save,par_latex,start=[1,1],\n",
    "                   end=[2,2],N=10).savefig('figs/Estimation/Identification1.png')"
   ]
  },
  {
   "cell_type": "code",
   "execution_count": null,
   "metadata": {},
   "outputs": [],
   "source": [
    "true_par = [0.6, 0.2, 1.1, 1.6]\n",
    "true_save = true_par[2:]\n",
    "SMD.identification(Couple,true_par,est_par,true_save,par_save,par_latex,start=[1,1],\n",
    "                   end=[2,2],N=10).savefig('figs/Estimation/Identification2.png')"
   ]
  },
  {
   "cell_type": "markdown",
   "metadata": {},
   "source": [
    "### Simulate data"
   ]
  },
  {
   "cell_type": "code",
   "execution_count": null,
   "metadata": {},
   "outputs": [],
   "source": [
    "Couple = RetirementClass(couple=True, simN=int(1e6), simT=68-53+1)\n",
    "Couple.solve()\n",
    "Couple.simulate()"
   ]
  },
  {
   "cell_type": "code",
   "execution_count": null,
   "metadata": {},
   "outputs": [],
   "source": [
    "mom_data = SMD.MomFunCouple(Couple)\n",
    "boot = SMD.MomFunCouple(Couple,bootstrap=True,B=200)"
   ]
  },
  {
   "cell_type": "code",
   "execution_count": null,
   "metadata": {},
   "outputs": [],
   "source": [
    "Omega = np.cov(boot.T)\n",
    "weight = 1/np.sqrt(np.diag(Omega))\n",
    "W = np.eye(weight.size)*weight"
   ]
  },
  {
   "cell_type": "markdown",
   "metadata": {},
   "source": [
    "### Set up estimation"
   ]
  },
  {
   "cell_type": "code",
   "execution_count": 67,
   "metadata": {},
   "outputs": [],
   "source": [
    "Couple.par.simN = int(1e5)\n",
    "Couple.par.sim_seed = Couple.par.sim_seed + 100 # set new seed\n",
    "Couple.solve(recompute=True)"
   ]
  },
  {
   "cell_type": "code",
   "execution_count": 68,
   "metadata": {},
   "outputs": [],
   "source": [
    "# function to generate moments\n",
    "def mom_fun(Couple):\n",
    "    return SMD.MomFunCouple(Couple)"
   ]
  },
  {
   "cell_type": "code",
   "execution_count": 69,
   "metadata": {},
   "outputs": [],
   "source": [
    "par = Couple.par\n",
    "\n",
    "#true = np.array([par.alpha_0_male, par.alpha_0_female, par.phi_0_male, par.phi_1])\n",
    "#est_par = [\"alpha_0_male\", \"alpha_0_female\", \"phi_0_male\", \"phi_1\"]\n",
    "\n",
    "true = np.array([par.alpha_0_male, par.alpha_0_female, par.alpha_1, par.phi_0_male])\n",
    "est_par = [\"alpha_0_male\", \"alpha_0_female\", \"alpha_1\", \"phi_0_male\"]\n",
    "\n",
    "#true = np.array([par.alpha_0_male, par.alpha_0_female, par.alpha_1, par.sigma_eta, par.phi_0_male, par.phi_1])\n",
    "#true = [par.alpha_0_male, par.alpha_0_female, par.phi_0_male]\n",
    "#est_par = [\"alpha_0_male\", \"alpha_0_female\", \"alpha_1\", \"sigma_eta\", \"phi_0_male\", \"phi_1\"]\n",
    "#est_par = [\"alpha_0_male\", \"alpha_0_female\", \"phi_0_male\"]\n",
    "smd = SMD.SimulatedMinimumDistance(Couple,mom_data,mom_fun)\n",
    "smd.est_par = est_par"
   ]
  },
  {
   "cell_type": "code",
   "execution_count": 101,
   "metadata": {},
   "outputs": [
    {
     "name": "stdout",
     "output_type": "stream",
     "text": [
      "true par : [0.4 0.2 0.2 1.3]\n",
      "obj(true): 0.011846108122174442\n"
     ]
    }
   ],
   "source": [
    "print('true par :', true)\n",
    "print('obj(true):', smd.obj_fun(true,W))"
   ]
  },
  {
   "cell_type": "markdown",
   "metadata": {},
   "source": [
    "### Estimate"
   ]
  },
  {
   "cell_type": "code",
   "execution_count": 104,
   "metadata": {},
   "outputs": [],
   "source": [
    "#theta0 = SMD.start(4,bounds=[(0,1), (0,1), (-1,1), (0.2,0.8), (0,2), (-1,1)])\n",
    "#theta0 = SMD.start(4,bounds=[(0.0,1.0), (0.0,1.0), (0.0,2.0)])\n",
    "#theta0[0] = list(true)\n",
    "#theta0 = SMD.start(4,bounds=[(0.2,0.4), (0.4,0.6), (0.0,0.3), (0.3,0.5), (1.2,1.4), (-1,-0.5)])\n",
    "theta0 = SMD.start(4,bounds=[(0.3,0.5), (0.1,0.3), (0.1,0.3), (1.2,1.4)])\n",
    "#theta0 = SMD.start(4,bounds=[(0.2,0.4), (0.4,0.6), (1.2,1.4), (-1,-0.5)])"
   ]
  },
  {
   "cell_type": "code",
   "execution_count": 138,
   "metadata": {},
   "outputs": [
    {
     "data": {
      "text/plain": [
       "[[0.392, 0.292, 0.25, 1.202],\n",
       " [0.491, 0.188, 0.241, 1.228],\n",
       " [0.414, 0.122, 0.128, 1.297],\n",
       " [0.401, 0.2, 0.277, 1.291]]"
      ]
     },
     "execution_count": 138,
     "metadata": {},
     "output_type": "execute_result"
    }
   ],
   "source": [
    "theta0"
   ]
  },
  {
   "cell_type": "code",
   "execution_count": 140,
   "metadata": {},
   "outputs": [],
   "source": [
    "import transitions"
   ]
  },
  {
   "cell_type": "code",
   "execution_count": 144,
   "metadata": {},
   "outputs": [
    {
     "data": {
      "text/plain": [
       "1"
      ]
     },
     "execution_count": 144,
     "metadata": {},
     "output_type": "execute_result"
    }
   ],
   "source": [
    "transitions.state_translate(3,'elig',Couple.par)"
   ]
  },
  {
   "cell_type": "code",
   "execution_count": 139,
   "metadata": {},
   "outputs": [
    {
     "name": "stdout",
     "output_type": "stream",
     "text": [
      "Iteration: 150 (11.64 minutes)\n",
      " alpha_0_male=0.4018 alpha_0_female=0.2993 alpha_1=0.2562 phi_0_male=1.1419 -> 0.5608\n",
      "Iteration: 160 (2.46 minutes)\n",
      " alpha_0_male=0.4031 alpha_0_female=0.2973 alpha_1=0.2655 phi_0_male=1.0426 -> 0.1931\n",
      "Iteration: 170 (2.48 minutes)\n",
      " alpha_0_male=0.4147 alpha_0_female=0.2622 alpha_1=0.2663 phi_0_male=1.0217 -> 0.0912\n",
      "Iteration: 180 (2.44 minutes)\n",
      " alpha_0_male=0.4285 alpha_0_female=0.2133 alpha_1=0.2172 phi_0_male=1.1641 -> 0.0207\n",
      "Iteration: 190 (2.36 minutes)\n",
      " alpha_0_male=0.4408 alpha_0_female=0.1838 alpha_1=0.2035 phi_0_male=1.2046 -> 0.0465\n",
      "Iteration: 200 (2.3 minutes)\n",
      " alpha_0_male=0.4098 alpha_0_female=0.2103 alpha_1=0.2138 phi_0_male=1.2154 -> 0.0191\n",
      "Iteration: 210 (2.34 minutes)\n",
      " alpha_0_male=0.4176 alpha_0_female=0.2161 alpha_1=0.2128 phi_0_male=1.1904 -> 0.0174\n",
      "Iteration: 220 (2.48 minutes)\n",
      " alpha_0_male=0.3940 alpha_0_female=0.2039 alpha_1=0.2004 phi_0_male=1.2909 -> 0.0175\n",
      "Iteration: 230 (2.4 minutes)\n",
      " alpha_0_male=0.4031 alpha_0_female=0.2094 alpha_1=0.2055 phi_0_male=1.2559 -> 0.0149\n",
      "Iteration: 240 (2.52 minutes)\n",
      " alpha_0_male=0.4050 alpha_0_female=0.2075 alpha_1=0.2038 phi_0_male=1.2558 -> 0.0143\n",
      "Iteration: 250 (2.41 minutes)\n",
      " alpha_0_male=0.4048 alpha_0_female=0.2080 alpha_1=0.2038 phi_0_male=1.2547 -> 0.0148\n",
      "Iteration: 260 (2.51 minutes)\n",
      " alpha_0_male=0.4046 alpha_0_female=0.2083 alpha_1=0.2039 phi_0_male=1.2550 -> 0.0144\n",
      "1 estimation:\n",
      "success: True | feval: 125 | time: 30.4 min | obj: 0.014268248904693616\n",
      "start par: [0.392, 0.292, 0.25, 1.202]\n",
      "par:       [0.40483014 0.20818691 0.20376391 1.25463481]\n",
      "\n",
      "Iteration: 270 (2.48 minutes)\n",
      " alpha_0_male=0.4910 alpha_0_female=0.1880 alpha_1=0.2410 phi_0_male=1.2280 -> 0.8053\n",
      "Iteration: 280 (2.3 minutes)\n",
      " alpha_0_male=0.4783 alpha_0_female=0.1955 alpha_1=0.2536 phi_0_male=1.0668 -> 0.0877\n",
      "Iteration: 290 (2.42 minutes)\n",
      " alpha_0_male=0.4601 alpha_0_female=0.2030 alpha_1=0.2633 phi_0_male=1.0095 -> 0.1045\n",
      "Iteration: 300 (2.42 minutes)\n",
      " alpha_0_male=0.4422 alpha_0_female=0.2082 alpha_1=0.2538 phi_0_male=1.0930"
     ]
    },
    {
     "ename": "KeyboardInterrupt",
     "evalue": "",
     "output_type": "error",
     "traceback": [
      "\u001b[1;31m---------------------------------------------------------------------------\u001b[0m",
      "\u001b[1;31mKeyboardInterrupt\u001b[0m                         Traceback (most recent call last)",
      "\u001b[1;32m<ipython-input-139-06f0b701977e>\u001b[0m in \u001b[0;36m<module>\u001b[1;34m\u001b[0m\n\u001b[0;32m      1\u001b[0m \u001b[0msmd\u001b[0m\u001b[1;33m.\u001b[0m\u001b[0mprint_iter\u001b[0m \u001b[1;33m=\u001b[0m \u001b[1;33m[\u001b[0m\u001b[1;32mTrue\u001b[0m\u001b[1;33m,\u001b[0m\u001b[1;36m10\u001b[0m\u001b[1;33m]\u001b[0m\u001b[1;33m\u001b[0m\u001b[1;33m\u001b[0m\u001b[0m\n\u001b[1;32m----> 2\u001b[1;33m \u001b[0msmd\u001b[0m\u001b[1;33m.\u001b[0m\u001b[0mMultiStart\u001b[0m\u001b[1;33m(\u001b[0m\u001b[0mtheta0\u001b[0m\u001b[1;33m,\u001b[0m\u001b[0mW\u001b[0m\u001b[1;33m)\u001b[0m\u001b[1;33m\u001b[0m\u001b[1;33m\u001b[0m\u001b[0m\n\u001b[0m\u001b[0;32m      3\u001b[0m \u001b[0mtheta\u001b[0m \u001b[1;33m=\u001b[0m \u001b[0msmd\u001b[0m\u001b[1;33m.\u001b[0m\u001b[0mest\u001b[0m\u001b[1;33m\u001b[0m\u001b[1;33m\u001b[0m\u001b[0m\n",
      "\u001b[1;32m~\\Desktop\\Speciale\\Speciale_retirement\\Main\\SimulatedMinimumDistance.py\u001b[0m in \u001b[0;36mMultiStart\u001b[1;34m(self, theta0, weight, options)\u001b[0m\n\u001b[0;32m    140\u001b[0m             \u001b[1;31m# estimate\u001b[0m\u001b[1;33m\u001b[0m\u001b[1;33m\u001b[0m\u001b[1;33m\u001b[0m\u001b[0m\n\u001b[0;32m    141\u001b[0m             \u001b[0mtic\u001b[0m \u001b[1;33m=\u001b[0m \u001b[0mtime\u001b[0m\u001b[1;33m.\u001b[0m\u001b[0mtime\u001b[0m\u001b[1;33m(\u001b[0m\u001b[1;33m)\u001b[0m\u001b[1;33m\u001b[0m\u001b[1;33m\u001b[0m\u001b[0m\n\u001b[1;32m--> 142\u001b[1;33m             \u001b[0mself\u001b[0m\u001b[1;33m.\u001b[0m\u001b[0mestimate\u001b[0m\u001b[1;33m(\u001b[0m\u001b[0mtheta0\u001b[0m\u001b[1;33m[\u001b[0m\u001b[0mp\u001b[0m\u001b[1;33m]\u001b[0m\u001b[1;33m,\u001b[0m\u001b[0mweight\u001b[0m\u001b[1;33m)\u001b[0m\u001b[1;33m\u001b[0m\u001b[1;33m\u001b[0m\u001b[0m\n\u001b[0m\u001b[0;32m    143\u001b[0m             \u001b[0mtoc\u001b[0m \u001b[1;33m=\u001b[0m \u001b[0mtime\u001b[0m\u001b[1;33m.\u001b[0m\u001b[0mtime\u001b[0m\u001b[1;33m(\u001b[0m\u001b[1;33m)\u001b[0m\u001b[1;33m\u001b[0m\u001b[1;33m\u001b[0m\u001b[0m\n\u001b[0;32m    144\u001b[0m \u001b[1;33m\u001b[0m\u001b[0m\n",
      "\u001b[1;32m~\\Desktop\\Speciale\\Speciale_retirement\\Main\\SimulatedMinimumDistance.py\u001b[0m in \u001b[0;36mestimate\u001b[1;34m(self, theta0, W, *args)\u001b[0m\n\u001b[0;32m    117\u001b[0m \u001b[1;33m\u001b[0m\u001b[0m\n\u001b[0;32m    118\u001b[0m         \u001b[1;31m# estimate\u001b[0m\u001b[1;33m\u001b[0m\u001b[1;33m\u001b[0m\u001b[1;33m\u001b[0m\u001b[0m\n\u001b[1;32m--> 119\u001b[1;33m         \u001b[0mself\u001b[0m\u001b[1;33m.\u001b[0m\u001b[0mest_out\u001b[0m \u001b[1;33m=\u001b[0m \u001b[0mminimize\u001b[0m\u001b[1;33m(\u001b[0m\u001b[0mself\u001b[0m\u001b[1;33m.\u001b[0m\u001b[0mobj_fun\u001b[0m\u001b[1;33m,\u001b[0m \u001b[0mtheta0\u001b[0m\u001b[1;33m,\u001b[0m \u001b[1;33m(\u001b[0m\u001b[0mW\u001b[0m\u001b[1;33m,\u001b[0m \u001b[1;33m*\u001b[0m\u001b[0margs\u001b[0m\u001b[1;33m)\u001b[0m\u001b[1;33m,\u001b[0m \u001b[0mbounds\u001b[0m\u001b[1;33m=\u001b[0m\u001b[0mself\u001b[0m\u001b[1;33m.\u001b[0m\u001b[0mbounds\u001b[0m\u001b[1;33m,\u001b[0m \u001b[0mmethod\u001b[0m\u001b[1;33m=\u001b[0m\u001b[0mself\u001b[0m\u001b[1;33m.\u001b[0m\u001b[0mmethod\u001b[0m\u001b[1;33m,\u001b[0m\u001b[0moptions\u001b[0m\u001b[1;33m=\u001b[0m\u001b[0mself\u001b[0m\u001b[1;33m.\u001b[0m\u001b[0moptions\u001b[0m\u001b[1;33m)\u001b[0m\u001b[1;33m\u001b[0m\u001b[1;33m\u001b[0m\u001b[0m\n\u001b[0m\u001b[0;32m    120\u001b[0m \u001b[1;33m\u001b[0m\u001b[0m\n\u001b[0;32m    121\u001b[0m         \u001b[1;31m# return output\u001b[0m\u001b[1;33m\u001b[0m\u001b[1;33m\u001b[0m\u001b[1;33m\u001b[0m\u001b[0m\n",
      "\u001b[1;32m~\\Anaconda3\\lib\\site-packages\\scipy\\optimize\\_minimize.py\u001b[0m in \u001b[0;36mminimize\u001b[1;34m(fun, x0, args, method, jac, hess, hessp, bounds, constraints, tol, callback, options)\u001b[0m\n\u001b[0;32m    587\u001b[0m                       callback=callback, **options)\n\u001b[0;32m    588\u001b[0m     \u001b[1;32melif\u001b[0m \u001b[0mmeth\u001b[0m \u001b[1;33m==\u001b[0m \u001b[1;34m'nelder-mead'\u001b[0m\u001b[1;33m:\u001b[0m\u001b[1;33m\u001b[0m\u001b[1;33m\u001b[0m\u001b[0m\n\u001b[1;32m--> 589\u001b[1;33m         \u001b[1;32mreturn\u001b[0m \u001b[0m_minimize_neldermead\u001b[0m\u001b[1;33m(\u001b[0m\u001b[0mfun\u001b[0m\u001b[1;33m,\u001b[0m \u001b[0mx0\u001b[0m\u001b[1;33m,\u001b[0m \u001b[0margs\u001b[0m\u001b[1;33m,\u001b[0m \u001b[0mcallback\u001b[0m\u001b[1;33m,\u001b[0m \u001b[1;33m**\u001b[0m\u001b[0moptions\u001b[0m\u001b[1;33m)\u001b[0m\u001b[1;33m\u001b[0m\u001b[1;33m\u001b[0m\u001b[0m\n\u001b[0m\u001b[0;32m    590\u001b[0m     \u001b[1;32melif\u001b[0m \u001b[0mmeth\u001b[0m \u001b[1;33m==\u001b[0m \u001b[1;34m'powell'\u001b[0m\u001b[1;33m:\u001b[0m\u001b[1;33m\u001b[0m\u001b[1;33m\u001b[0m\u001b[0m\n\u001b[0;32m    591\u001b[0m         \u001b[1;32mreturn\u001b[0m \u001b[0m_minimize_powell\u001b[0m\u001b[1;33m(\u001b[0m\u001b[0mfun\u001b[0m\u001b[1;33m,\u001b[0m \u001b[0mx0\u001b[0m\u001b[1;33m,\u001b[0m \u001b[0margs\u001b[0m\u001b[1;33m,\u001b[0m \u001b[0mcallback\u001b[0m\u001b[1;33m,\u001b[0m \u001b[1;33m**\u001b[0m\u001b[0moptions\u001b[0m\u001b[1;33m)\u001b[0m\u001b[1;33m\u001b[0m\u001b[1;33m\u001b[0m\u001b[0m\n",
      "\u001b[1;32m~\\Anaconda3\\lib\\site-packages\\scipy\\optimize\\optimize.py\u001b[0m in \u001b[0;36m_minimize_neldermead\u001b[1;34m(func, x0, args, callback, maxiter, maxfev, disp, return_all, initial_simplex, xatol, fatol, adaptive, **unknown_options)\u001b[0m\n\u001b[0;32m    573\u001b[0m         \u001b[0mxbar\u001b[0m \u001b[1;33m=\u001b[0m \u001b[0mnumpy\u001b[0m\u001b[1;33m.\u001b[0m\u001b[0madd\u001b[0m\u001b[1;33m.\u001b[0m\u001b[0mreduce\u001b[0m\u001b[1;33m(\u001b[0m\u001b[0msim\u001b[0m\u001b[1;33m[\u001b[0m\u001b[1;33m:\u001b[0m\u001b[1;33m-\u001b[0m\u001b[1;36m1\u001b[0m\u001b[1;33m]\u001b[0m\u001b[1;33m,\u001b[0m \u001b[1;36m0\u001b[0m\u001b[1;33m)\u001b[0m \u001b[1;33m/\u001b[0m \u001b[0mN\u001b[0m\u001b[1;33m\u001b[0m\u001b[1;33m\u001b[0m\u001b[0m\n\u001b[0;32m    574\u001b[0m         \u001b[0mxr\u001b[0m \u001b[1;33m=\u001b[0m \u001b[1;33m(\u001b[0m\u001b[1;36m1\u001b[0m \u001b[1;33m+\u001b[0m \u001b[0mrho\u001b[0m\u001b[1;33m)\u001b[0m \u001b[1;33m*\u001b[0m \u001b[0mxbar\u001b[0m \u001b[1;33m-\u001b[0m \u001b[0mrho\u001b[0m \u001b[1;33m*\u001b[0m \u001b[0msim\u001b[0m\u001b[1;33m[\u001b[0m\u001b[1;33m-\u001b[0m\u001b[1;36m1\u001b[0m\u001b[1;33m]\u001b[0m\u001b[1;33m\u001b[0m\u001b[1;33m\u001b[0m\u001b[0m\n\u001b[1;32m--> 575\u001b[1;33m         \u001b[0mfxr\u001b[0m \u001b[1;33m=\u001b[0m \u001b[0mfunc\u001b[0m\u001b[1;33m(\u001b[0m\u001b[0mxr\u001b[0m\u001b[1;33m)\u001b[0m\u001b[1;33m\u001b[0m\u001b[1;33m\u001b[0m\u001b[0m\n\u001b[0m\u001b[0;32m    576\u001b[0m         \u001b[0mdoshrink\u001b[0m \u001b[1;33m=\u001b[0m \u001b[1;36m0\u001b[0m\u001b[1;33m\u001b[0m\u001b[1;33m\u001b[0m\u001b[0m\n\u001b[0;32m    577\u001b[0m \u001b[1;33m\u001b[0m\u001b[0m\n",
      "\u001b[1;32m~\\Anaconda3\\lib\\site-packages\\scipy\\optimize\\optimize.py\u001b[0m in \u001b[0;36mfunction_wrapper\u001b[1;34m(*wrapper_args)\u001b[0m\n\u001b[0;32m    298\u001b[0m     \u001b[1;32mdef\u001b[0m \u001b[0mfunction_wrapper\u001b[0m\u001b[1;33m(\u001b[0m\u001b[1;33m*\u001b[0m\u001b[0mwrapper_args\u001b[0m\u001b[1;33m)\u001b[0m\u001b[1;33m:\u001b[0m\u001b[1;33m\u001b[0m\u001b[1;33m\u001b[0m\u001b[0m\n\u001b[0;32m    299\u001b[0m         \u001b[0mncalls\u001b[0m\u001b[1;33m[\u001b[0m\u001b[1;36m0\u001b[0m\u001b[1;33m]\u001b[0m \u001b[1;33m+=\u001b[0m \u001b[1;36m1\u001b[0m\u001b[1;33m\u001b[0m\u001b[1;33m\u001b[0m\u001b[0m\n\u001b[1;32m--> 300\u001b[1;33m         \u001b[1;32mreturn\u001b[0m \u001b[0mfunction\u001b[0m\u001b[1;33m(\u001b[0m\u001b[1;33m*\u001b[0m\u001b[1;33m(\u001b[0m\u001b[0mwrapper_args\u001b[0m \u001b[1;33m+\u001b[0m \u001b[0margs\u001b[0m\u001b[1;33m)\u001b[0m\u001b[1;33m)\u001b[0m\u001b[1;33m\u001b[0m\u001b[1;33m\u001b[0m\u001b[0m\n\u001b[0m\u001b[0;32m    301\u001b[0m \u001b[1;33m\u001b[0m\u001b[0m\n\u001b[0;32m    302\u001b[0m     \u001b[1;32mreturn\u001b[0m \u001b[0mncalls\u001b[0m\u001b[1;33m,\u001b[0m \u001b[0mfunction_wrapper\u001b[0m\u001b[1;33m\u001b[0m\u001b[1;33m\u001b[0m\u001b[0m\n",
      "\u001b[1;32m~\\Desktop\\Speciale\\Speciale_retirement\\Main\\SimulatedMinimumDistance.py\u001b[0m in \u001b[0;36mobj_fun\u001b[1;34m(self, theta, W, *args)\u001b[0m\n\u001b[0;32m     88\u001b[0m \u001b[1;33m\u001b[0m\u001b[0m\n\u001b[0;32m     89\u001b[0m             \u001b[1;31m# 2. solve model with current parameters\u001b[0m\u001b[1;33m\u001b[0m\u001b[1;33m\u001b[0m\u001b[1;33m\u001b[0m\u001b[0m\n\u001b[1;32m---> 90\u001b[1;33m             \u001b[0mself\u001b[0m\u001b[1;33m.\u001b[0m\u001b[0mmodel\u001b[0m\u001b[1;33m.\u001b[0m\u001b[0msolve\u001b[0m\u001b[1;33m(\u001b[0m\u001b[0mrecompute\u001b[0m\u001b[1;33m=\u001b[0m\u001b[0mself\u001b[0m\u001b[1;33m.\u001b[0m\u001b[0mrecompute\u001b[0m\u001b[1;33m)\u001b[0m\u001b[1;33m\u001b[0m\u001b[1;33m\u001b[0m\u001b[0m\n\u001b[0m\u001b[0;32m     91\u001b[0m \u001b[1;33m\u001b[0m\u001b[0m\n\u001b[0;32m     92\u001b[0m             \u001b[1;31m# 3. simulate data from the model and calculate moments [have this as a complete function, used for standard errors]\u001b[0m\u001b[1;33m\u001b[0m\u001b[1;33m\u001b[0m\u001b[1;33m\u001b[0m\u001b[0m\n",
      "\u001b[1;32m~\\Desktop\\Speciale\\Speciale_retirement\\Main\\Model.py\u001b[0m in \u001b[0;36msolve\u001b[1;34m(self, recompute)\u001b[0m\n\u001b[0;32m    270\u001b[0m             \u001b[1;31m# solve model\u001b[0m\u001b[1;33m\u001b[0m\u001b[1;33m\u001b[0m\u001b[1;33m\u001b[0m\u001b[0m\n\u001b[0;32m    271\u001b[0m             \u001b[0msolution\u001b[0m\u001b[1;33m.\u001b[0m\u001b[0msolve\u001b[0m\u001b[1;33m(\u001b[0m\u001b[0mself\u001b[0m\u001b[1;33m.\u001b[0m\u001b[0mSingle\u001b[0m\u001b[1;33m.\u001b[0m\u001b[0msol\u001b[0m\u001b[1;33m,\u001b[0m\u001b[0mself\u001b[0m\u001b[1;33m.\u001b[0m\u001b[0mSingle\u001b[0m\u001b[1;33m.\u001b[0m\u001b[0mpar\u001b[0m\u001b[1;33m)\u001b[0m\u001b[1;33m\u001b[0m\u001b[1;33m\u001b[0m\u001b[0m\n\u001b[1;32m--> 272\u001b[1;33m             \u001b[0msolution\u001b[0m\u001b[1;33m.\u001b[0m\u001b[0msolve_c\u001b[0m\u001b[1;33m(\u001b[0m\u001b[0mself\u001b[0m\u001b[1;33m.\u001b[0m\u001b[0msol\u001b[0m\u001b[1;33m,\u001b[0m\u001b[0mself\u001b[0m\u001b[1;33m.\u001b[0m\u001b[0mSingle\u001b[0m\u001b[1;33m.\u001b[0m\u001b[0msol\u001b[0m\u001b[1;33m,\u001b[0m\u001b[0mself\u001b[0m\u001b[1;33m.\u001b[0m\u001b[0mpar\u001b[0m\u001b[1;33m)\u001b[0m\u001b[1;33m\u001b[0m\u001b[1;33m\u001b[0m\u001b[0m\n\u001b[0m\u001b[0;32m    273\u001b[0m \u001b[1;33m\u001b[0m\u001b[0m\n\u001b[0;32m    274\u001b[0m         \u001b[1;32melse\u001b[0m\u001b[1;33m:\u001b[0m\u001b[1;33m\u001b[0m\u001b[1;33m\u001b[0m\u001b[0m\n",
      "\u001b[1;31mKeyboardInterrupt\u001b[0m: "
     ]
    }
   ],
   "source": [
    "smd.print_iter = [True,10]\n",
    "smd.MultiStart(theta0,W)\n",
    "theta = smd.est"
   ]
  },
  {
   "cell_type": "code",
   "execution_count": null,
   "metadata": {},
   "outputs": [],
   "source": [
    "print('par       :', est_par)\n",
    "print('bias (abs):', np.round(true-theta,2))\n",
    "print('bias (pct):', np.round((true/theta-1)*100,2))"
   ]
  },
  {
   "cell_type": "code",
   "execution_count": null,
   "metadata": {},
   "outputs": [],
   "source": []
  },
  {
   "cell_type": "code",
   "execution_count": null,
   "metadata": {},
   "outputs": [],
   "source": []
  },
  {
   "cell_type": "code",
   "execution_count": null,
   "metadata": {},
   "outputs": [],
   "source": []
  },
  {
   "cell_type": "code",
   "execution_count": null,
   "metadata": {},
   "outputs": [],
   "source": []
  },
  {
   "cell_type": "code",
   "execution_count": null,
   "metadata": {},
   "outputs": [],
   "source": []
  },
  {
   "cell_type": "code",
   "execution_count": 30,
   "metadata": {},
   "outputs": [
    {
     "name": "stdout",
     "output_type": "stream",
     "text": [
      "Iteration: 50 (10.93 minutes)\n",
      " alpha_0_male=0.2639 alpha_0_female=0.5043 phi_0_male=1.4106 phi_1=-0.6701 -> 0.0016\n",
      "Iteration: 100 (10.9 minutes)\n",
      " alpha_0_male=0.3009 alpha_0_female=0.5002 phi_0_male=1.2977 phi_1=-0.6145 -> 0.0012\n",
      "1 estimation:\n",
      "success: True | feval: 110 | time: 24.0 min | obj: 0.0011988176943883726\n",
      "start par: [0.229, 0.448, 1.35, -0.895]\n",
      "par:       [ 0.30045551  0.5000841   1.29935598 -0.61502811]\n",
      "\n",
      "Iteration: 150 (10.92 minutes)\n",
      " alpha_0_male=0.2983 alpha_0_female=0.4562 phi_0_male=1.4419 phi_1=-0.7345 -> 0.0023\n",
      "Iteration: 200 (11.01 minutes)\n",
      " alpha_0_male=0.2830 alpha_0_female=0.4903 phi_0_male=1.4132 phi_1=-0.7126 -> 0.0015\n",
      "2 estimation:\n",
      "success: True | feval: 118 | time: 25.8 min | obj: 0.001412896240744003\n",
      "start par: [0.33, 0.419, 1.235, -0.901]\n",
      "par:       [ 0.28505652  0.49004033  1.40887759 -0.71423321]\n",
      "\n",
      "Iteration: 250 (10.92 minutes)\n",
      " alpha_0_male=0.3138 alpha_0_female=0.4827 phi_0_male=1.3667 phi_1=-0.7200 -> 0.0019\n",
      "Iteration: 300 (10.91 minutes)\n",
      " alpha_0_male=0.2943 alpha_0_female=0.4962 phi_0_male=1.3330 phi_1=-0.6291 -> 0.0013\n",
      "3 estimation:\n",
      "success: True | feval: 119 | time: 26.0 min | obj: 0.001216180617616458\n",
      "start par: [0.302, 0.524, 1.263, -0.866]\n",
      "par:       [ 0.29385651  0.49869663  1.32937376 -0.63025924]\n",
      "\n",
      "Iteration: 350 (10.96 minutes)\n",
      " alpha_0_male=0.3140 alpha_0_female=0.5030 phi_0_male=1.2810 phi_1=-0.9950 -> 0.0447\n",
      "Iteration: 400 (10.93 minutes)\n",
      " alpha_0_male=0.2830 alpha_0_female=0.5022 phi_0_male=1.4622 phi_1=-0.8157 -> 0.0033\n",
      "Iteration: 450 (11.04 minutes)\n",
      " alpha_0_male=0.3046 alpha_0_female=0.4914 phi_0_male=1.3100 phi_1=-0.6460 -> 0.0013\n",
      "4 estimation:\n",
      "success: True | feval: 151 | time: 33.2 min | obj: 0.001166233147009556\n",
      "start par: [0.314, 0.479, 1.281, -0.995]\n",
      "par:       [ 0.31094214  0.49602701  1.28517093 -0.63125525]\n",
      "\n",
      "Iteration: 500 (12.79 minutes)\n",
      " alpha_0_male=0.3265 alpha_0_female=0.4960 phi_0_male=1.2852 phi_1=-0.6313 -> 0.0009\n",
      "Iteration: 550 (20.36 minutes)\n",
      " alpha_0_male=0.3063 alpha_0_female=0.4961 phi_0_male=1.2968 phi_1=-0.6261 -> 0.0003\n",
      "Iteration: 600 (20.11 minutes)\n",
      " alpha_0_male=0.3070 alpha_0_female=0.4951 phi_0_male=1.2959 phi_1=-0.6260 -> 0.0002\n",
      "final estimation:\n",
      "success: True | feval: 110 | obj: 0.0002330669582759589\n",
      "total estimation time: 2.6 hours\n",
      "start par: [ 0.31094214  0.49602701  1.28517093 -0.63125525]\n",
      "par: [ 0.30703717  0.49505603  1.29588897 -0.6259592 ]\n",
      "\n"
     ]
    }
   ],
   "source": [
    "smd.print_iter = [True,50]\n",
    "smd.MultiStart(theta0,weight)\n",
    "theta = smd.est"
   ]
  },
  {
   "cell_type": "code",
   "execution_count": 24,
   "metadata": {},
   "outputs": [
    {
     "name": "stdout",
     "output_type": "stream",
     "text": [
      "Iteration: 25 (6.64 minutes)\n",
      " alpha_0_male=0.2529 alpha_0_female=0.5104 alpha_1=0.0668 phi_0_male=1.3806 -> 0.0024\n",
      "Iteration: 50 (5.94 minutes)\n",
      " alpha_0_male=0.2597 alpha_0_female=0.4856 alpha_1=0.0491 phi_0_male=1.4284 -> 0.0018\n",
      "Iteration: 75 (5.98 minutes)\n",
      " alpha_0_male=0.2645 alpha_0_female=0.5093 alpha_1=0.0506 phi_0_male=1.3754 -> 0.0016\n",
      "1 estimation:\n",
      "success: True | feval: 95 | time: 22.1 min | obj: 0.0015012680469484677\n",
      "start par: [0.229, 0.448, 0.075, 1.242]\n",
      "par:       [0.26579546 0.50810433 0.04833442 1.37703183]\n",
      "\n",
      "Iteration: 100 (5.56 minutes)\n",
      " alpha_0_male=0.3300 alpha_0_female=0.4190 alpha_1=0.0180 phi_0_male=1.3020 -> 0.0186\n",
      "Iteration: 125 (5.48 minutes)\n",
      " alpha_0_male=0.3328 alpha_0_female=0.5096 alpha_1=0.0152 phi_0_male=1.2335 -> 0.0046\n",
      "Iteration: 150 (5.41 minutes)\n",
      " alpha_0_male=0.3265 alpha_0_female=0.5133 alpha_1=0.0159 phi_0_male=1.2971 -> 0.0030\n",
      "Iteration: 175 (5.42 minutes)\n",
      " alpha_0_male=0.3234 alpha_0_female=0.5097 alpha_1=0.0162 phi_0_male=1.3019 -> 0.0028\n",
      "Iteration: 200 (5.48 minutes)\n",
      " alpha_0_male=0.3205 alpha_0_female=0.5077 alpha_1=0.0164 phi_0_male=1.3117 -> 0.0027\n",
      "2 estimation:\n",
      "success: True | feval: 121 | time: 26.3 min | obj: 0.0027142652224710854\n",
      "start par: [0.33, 0.419, 0.018, 1.24]\n",
      "par:       [0.32035398 0.50841681 0.01635807 1.31117801]\n",
      "\n",
      "Iteration: 225 (5.39 minutes)\n",
      " alpha_0_male=0.3176 alpha_0_female=0.4790 alpha_1=0.0336 phi_0_male=1.3176 -> 0.0021\n",
      "Iteration: 250 (5.44 minutes)\n",
      " alpha_0_male=0.2871 alpha_0_female=0.5153 alpha_1=0.0341 phi_0_male=1.3385 -> 0.0016\n",
      "Iteration: 275 (5.42 minutes)\n",
      " alpha_0_male=0.2857 alpha_0_female=0.5076 alpha_1=0.0346 phi_0_male=1.3545 -> 0.0015\n",
      "3 estimation:\n",
      "success: True | feval: 74 | time: 16.1 min | obj: 0.0014542727487982434\n",
      "start par: [0.302, 0.524, 0.032, 1.253]\n",
      "par:       [0.28506832 0.50651099 0.0346791  1.35471543]\n",
      "\n",
      "Iteration: 300 (5.47 minutes)\n",
      " alpha_0_male=0.3111 alpha_0_female=0.5104 alpha_1=0.0411 phi_0_male=1.2809 -> 0.0015\n",
      "Iteration: 325 (5.47 minutes)\n",
      " alpha_0_male=0.3101 alpha_0_female=0.5119 alpha_1=0.0433 phi_0_male=1.2703 -> 0.0014\n",
      "Iteration: 350 (5.47 minutes)\n",
      " alpha_0_male=0.3071 alpha_0_female=0.5124 alpha_1=0.0427 phi_0_male=1.2828 -> 0.0014\n",
      "4 estimation:\n",
      "success: True | feval: 76 | time: 16.6 min | obj: 0.0013505459218885428\n",
      "start par: [0.314, 0.479, 0.041, 1.202]\n",
      "par:       [0.30680732 0.51197634 0.04261057 1.28523561]\n",
      "\n",
      "Iteration: 375 (8.74 minutes)\n",
      " alpha_0_male=0.3058 alpha_0_female=0.5200 alpha_1=0.0425 phi_0_male=1.3415 -> 0.0029\n",
      "Iteration: 400 (10.11 minutes)\n",
      " alpha_0_male=0.2903 alpha_0_female=0.4933 alpha_1=0.0475 phi_0_male=1.3473 -> 0.0003\n",
      "Iteration: 425 (10.06 minutes)\n",
      " alpha_0_male=0.2937 alpha_0_female=0.4962 alpha_1=0.0470 phi_0_male=1.3319 -> 0.0003\n",
      "Iteration: 450 (10.08 minutes)\n",
      " alpha_0_male=0.2934 alpha_0_female=0.4957 alpha_1=0.0472 phi_0_male=1.3331 -> 0.0003\n",
      "final estimation:\n",
      "success: True | feval: 104 | obj: 0.0002636420646479919\n",
      "total estimation time: 2.1 hours\n",
      "start par: [0.30680732 0.51197634 0.04261057 1.28523561]\n",
      "par: [0.29339251 0.49574965 0.04714921 1.33290665]\n",
      "\n"
     ]
    }
   ],
   "source": [
    "smd.print_iter = [True,25]\n",
    "smd.MultiStart(theta0,weight)\n",
    "theta = smd.est"
   ]
  },
  {
   "cell_type": "code",
   "execution_count": 10,
   "metadata": {},
   "outputs": [
    {
     "name": "stdout",
     "output_type": "stream",
     "text": [
      "Iteration: 50 (13.25 minutes)\n",
      " alpha_0_male=0.3005 alpha_0_female=0.4994 alpha_1=0.0560 sigma_eta=0.4339 phi_0_male=1.3019 phi_1=-0.6209 -> 0.0013\n",
      "1 estimation:\n",
      "success: True | feval: 90 | time: 21.7 min | obj: 0.00122043456363263\n",
      "start par: [0.3, 0.5, 0.053, 0.435, 1.3, -0.621]\n",
      "par:       [ 0.30062253  0.50120288  0.05537883  0.43501476  1.29918494 -0.62772129]\n",
      "\n",
      "Iteration: 100 (11.98 minutes)\n",
      " alpha_0_male=0.1814 alpha_0_female=0.2029 alpha_1=0.0246 sigma_eta=0.5482 phi_0_male=0.6498 phi_1=-0.4505 -> 1.0189\n",
      "Iteration: 150 (11.37 minutes)\n",
      " alpha_0_male=0.3007 alpha_0_female=0.2970 alpha_1=0.0205 sigma_eta=0.2892 phi_0_male=0.9753 phi_1=0.0805 -> 0.0899\n",
      "Iteration: 200 (11.84 minutes)\n",
      " alpha_0_male=0.3095 alpha_0_female=0.3799 alpha_1=0.0149 sigma_eta=0.3802 phi_0_male=0.9859 phi_1=0.2153 -> 0.0427\n",
      "Iteration: 250 (11.43 minutes)\n",
      " alpha_0_male=0.4069 alpha_0_female=0.5892 alpha_1=-0.0360 sigma_eta=0.4115 phi_0_male=0.9564 phi_1=-0.3890 -> 0.0078\n",
      "Iteration: 300 (11.41 minutes)\n",
      " alpha_0_male=0.3855 alpha_0_female=0.5620 alpha_1=-0.0283 sigma_eta=0.4325 phi_0_male=0.9572 phi_1=-0.2913 -> 0.0039\n",
      "Iteration: 350 (11.68 minutes)\n",
      " alpha_0_male=0.3865 alpha_0_female=0.5639 alpha_1=-0.0286 sigma_eta=0.4334 phi_0_male=0.9625 phi_1=-0.2858 -> 0.0038\n",
      "2 estimation:\n",
      "success: True | feval: 271 | time: 62.6 min | obj: 0.0037913993234478392\n",
      "start par: [0.177, 0.198, 0.024, 0.572, 0.634, -0.466]\n",
      "par:       [ 0.38638508  0.56349874 -0.0285168   0.43325234  0.9626306  -0.28425792]\n",
      "\n",
      "Iteration: 400 (11.31 minutes)\n",
      " alpha_0_male=0.3984 alpha_0_female=0.4371 alpha_1=-0.2168 sigma_eta=0.2634 phi_0_male=0.7069 phi_1=0.9683 -> 0.1308\n",
      "Iteration: 450 (11.78 minutes)\n",
      " alpha_0_male=0.4943 alpha_0_female=0.5684 alpha_1=-0.1926 sigma_eta=0.4168 phi_0_male=0.4758 phi_1=0.6899 -> 0.0399\n",
      "Iteration: 500 (11.66 minutes)\n",
      " alpha_0_male=0.5380 alpha_0_female=0.6111 alpha_1=-0.2004 sigma_eta=0.4208 phi_0_male=0.6065 phi_1=0.3675 -> 0.0198\n",
      "Iteration: 550 (11.58 minutes)\n",
      " alpha_0_male=0.5391 alpha_0_female=0.6354 alpha_1=-0.2005 sigma_eta=0.4294 phi_0_male=0.6232 phi_1=0.2760 -> 0.0190\n",
      "3 estimation:\n",
      "success: True | feval: 233 | time: 53.5 min | obj: 0.018953137104072953\n",
      "start par: [0.572, 0.395, -0.188, 0.206, 0.917, 0.924]\n",
      "par:       [ 0.53876421  0.63599139 -0.2006174   0.42950706  0.62385463  0.27310451]\n",
      "\n",
      "Iteration: 600 (11.02 minutes)\n",
      " alpha_0_male=0.7510 alpha_0_female=0.0080 alpha_1=0.9150 sigma_eta=0.4650 phi_0_male=1.4858 phi_1=-0.7160 -> 1.2127\n",
      "Iteration: 650 (11.28 minutes)\n",
      " alpha_0_male=0.5535 alpha_0_female=0.0102 alpha_1=0.8053 sigma_eta=0.5066 phi_0_male=0.8811 phi_1=-0.9259 -> 0.3586\n",
      "Iteration: 700 (11.5 minutes)\n",
      " alpha_0_male=0.5211 alpha_0_female=0.0121 alpha_1=0.4314 sigma_eta=0.3266 phi_0_male=1.1344 phi_1=-0.8971 -> 0.1930\n",
      "Iteration: 750 (12.27 minutes)\n",
      " alpha_0_male=0.6346 alpha_0_female=0.0156 alpha_1=0.1046 sigma_eta=0.4038 phi_0_male=1.3909 phi_1=-0.4626 -> 0.1421\n",
      "Iteration: 800 (11.08 minutes)\n",
      " alpha_0_male=0.4967 alpha_0_female=0.0199 alpha_1=0.0330 sigma_eta=0.4040 phi_0_male=1.8251 phi_1=-0.0332 -> 0.1218\n",
      "Iteration: 850 (10.95 minutes)\n",
      " alpha_0_male=0.4780 alpha_0_female=0.0213 alpha_1=0.0010 sigma_eta=0.4052 phi_0_male=2.0120 phi_1=0.1288 -> 0.1170\n",
      "Iteration: 900 (10.94 minutes)\n",
      " alpha_0_male=0.4639 alpha_0_female=0.0221 alpha_1=-0.0114 sigma_eta=0.4083 phi_0_male=2.1191 phi_1=0.2295 -> 0.1154\n",
      "4 estimation:\n",
      "success: True | feval: 340 | time: 76.8 min | obj: 0.11526072147321673\n",
      "start par: [0.751, 0.008, 0.915, 0.465, 1.415, -0.716]\n",
      "par:       [ 0.46373924  0.02213076 -0.01136406  0.40847843  2.12011574  0.23066632]\n",
      "\n",
      "Iteration: 950 (15.51 minutes)\n",
      " alpha_0_male=0.3007 alpha_0_female=0.5008 alpha_1=0.0559 sigma_eta=0.4343 phi_0_male=1.3287 phi_1=-0.6339 -> 0.0007\n",
      "Iteration: 1000 (20.55 minutes)\n",
      " alpha_0_male=0.3002 alpha_0_female=0.4986 alpha_1=0.0564 sigma_eta=0.4349 phi_0_male=1.3028 phi_1=-0.6277 -> 0.0002\n",
      "Iteration: 1050 (24.47 minutes)\n",
      " alpha_0_male=0.2994 alpha_0_female=0.4985 alpha_1=0.0563 sigma_eta=0.4349 phi_0_male=1.3046 phi_1=-0.6291 -> 0.0002\n",
      "final estimation:\n",
      "success: True | feval: 137 | obj: 0.0002247680276685239\n",
      "total estimation time: 4.6 hours\n",
      "start par: [ 0.30062253  0.50120288  0.05537883  0.43501476  1.29918494 -0.62772129]\n",
      "par: [ 0.29944411  0.49852532  0.05627807  0.43490946  1.30457316 -0.6290622 ]\n",
      "\n"
     ]
    }
   ],
   "source": [
    "smd.print_iter = [True,50]\n",
    "smd.MultiStart(theta0,weight)\n",
    "theta = smd.est"
   ]
  },
  {
   "cell_type": "code",
   "execution_count": 31,
   "metadata": {},
   "outputs": [
    {
     "name": "stdout",
     "output_type": "stream",
     "text": [
      "par       : ['alpha_0_male', 'alpha_0_female', 'phi_0_male', 'phi_1']\n",
      "bias (abs): [-0.01  0.    0.    0.  ]\n",
      "bias (pct): [-2.29  1.    0.32 -0.79]\n"
     ]
    }
   ],
   "source": [
    "print('par       :', est_par)\n",
    "print('bias (abs):', np.round(true-theta,2))\n",
    "print('bias (pct):', np.round((true/theta-1)*100,2))"
   ]
  },
  {
   "cell_type": "code",
   "execution_count": 25,
   "metadata": {},
   "outputs": [
    {
     "name": "stdout",
     "output_type": "stream",
     "text": [
      "par       : ['alpha_0_male', 'alpha_0_female', 'alpha_1', 'phi_0_male']\n",
      "bias (abs): [ 0.01  0.    0.01 -0.03]\n",
      "bias (pct): [ 2.25  0.86 12.41 -2.47]\n"
     ]
    }
   ],
   "source": [
    "print('par       :', est_par)\n",
    "print('bias (abs):', np.round(true-theta,2))\n",
    "print('bias (pct):', np.round((true/theta-1)*100,2))"
   ]
  },
  {
   "cell_type": "code",
   "execution_count": 11,
   "metadata": {},
   "outputs": [
    {
     "name": "stdout",
     "output_type": "stream",
     "text": [
      "par       : ['alpha_0_male', 'alpha_0_female', 'alpha_1', 'sigma_eta', 'phi_0_male', 'phi_1']\n",
      "bias (abs): [ 0.    0.   -0.    0.   -0.    0.01]\n",
      "bias (pct): [ 0.19  0.3  -5.82  0.02 -0.35 -1.28]\n"
     ]
    }
   ],
   "source": [
    "print('par       :', est_par)\n",
    "print('bias (abs):', np.round(true-theta,2))\n",
    "print('bias (pct):', np.round((true/theta-1)*100,2))"
   ]
  },
  {
   "cell_type": "code",
   "execution_count": null,
   "metadata": {},
   "outputs": [],
   "source": []
  }
 ],
 "metadata": {
  "kernelspec": {
   "display_name": "Python 3",
   "language": "python",
   "name": "python3"
  },
  "language_info": {
   "codemirror_mode": {
    "name": "ipython",
    "version": 3
   },
   "file_extension": ".py",
   "mimetype": "text/x-python",
   "name": "python",
   "nbconvert_exporter": "python",
   "pygments_lexer": "ipython3",
   "version": "3.7.3"
  }
 },
 "nbformat": 4,
 "nbformat_minor": 2
}
