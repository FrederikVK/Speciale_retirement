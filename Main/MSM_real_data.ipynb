{
 "cells": [
  {
   "cell_type": "markdown",
   "metadata": {},
   "source": [
    "# Estimation on real data using MSM"
   ]
  },
  {
   "cell_type": "code",
   "execution_count": 1,
   "metadata": {},
   "outputs": [],
   "source": [
    "from consav import runtools\n",
    "runtools.write_numba_config(disable=0,threads=4)\n",
    "\n",
    "%matplotlib inline\n",
    "%load_ext autoreload\n",
    "%autoreload 2\n",
    "\n",
    "# Local modules\n",
    "from Model import RetirementClass\n",
    "import figs\n",
    "import SimulatedMinimumDistance as SMD\n",
    "\n",
    "# Global modules\n",
    "import numpy as np\n",
    "import matplotlib.pyplot as plt"
   ]
  },
  {
   "cell_type": "markdown",
   "metadata": {},
   "source": [
    "# Singles"
   ]
  },
  {
   "cell_type": "code",
   "execution_count": 291,
   "metadata": {},
   "outputs": [],
   "source": [
    "moments = pd.read_excel('SASdata/single_moments.xlsx')\n",
    "mom_data = moments['Moments'].to_numpy()\n",
    "mom_se = moments['SE'].to_numpy()\n",
    "weight = SMD.weight_matrix_single(mom_se)"
   ]
  },
  {
   "cell_type": "markdown",
   "metadata": {},
   "source": [
    "Weight matrix"
   ]
  },
  {
   "cell_type": "code",
   "execution_count": 292,
   "metadata": {},
   "outputs": [
    {
     "data": {
      "text/plain": [
       "[<matplotlib.lines.Line2D at 0x19490788c18>]"
      ]
     },
     "execution_count": 292,
     "metadata": {},
     "output_type": "execute_result"
    },
    {
     "data": {
      "image/png": "[encoded data removed]",
      "text/plain": [
       "<Figure size 432x288 with 1 Axes>"
      ]
     },
     "metadata": {},
     "output_type": "display_data"
    }
   ],
   "source": [
    "plt.plot(np.arange(58,69),np.mean(np.diag(weight).reshape(11,8),axis=1))"
   ]
  },
  {
   "cell_type": "markdown",
   "metadata": {},
   "source": [
    "### Set up estimation"
   ]
  },
  {
   "cell_type": "code",
   "execution_count": 214,
   "metadata": {},
   "outputs": [],
   "source": [
    "Single = RetirementClass(simN=int(5e5), simT=68-57+1)\n",
    "Single.solve()\n",
    "Single.simulate()"
   ]
  },
  {
   "cell_type": "code",
   "execution_count": 215,
   "metadata": {},
   "outputs": [],
   "source": [
    "# function to generate moments\n",
    "def mom_fun(sim):\n",
    "    return SMD.MomFunSingle(sim,Single.par)"
   ]
  },
  {
   "cell_type": "code",
   "execution_count": 216,
   "metadata": {},
   "outputs": [],
   "source": [
    "add_str = '_est'\n",
    "est_par = (\"alpha_0_male\", \"alpha_0_female\", \"alpha_1\", \"sigma_eta\")\n",
    "est_par_tex = (r'$\\alpha_0^m$', r'$\\alpha_0^f$', r'$\\alpha_1$', r'$\\sigma$')\n",
    "fixed_par = ('R', 'rho', 'beta', 'gamma', \n",
    "             'priv_pension_male', 'priv_pension_female', 'g_adjust', 'pi_adjust_m', 'pi_adjust_f')\n",
    "fixed_par_tex = (r'$R$', r'$\\rho$', r'$\\beta$', r'$\\gamma$', \n",
    "                 r'$PPW^m$', r'$PPW^f$', r'$g$', r'$\\pi_m$', r'$\\pi_f$')\n",
    "\n",
    "# Setup estimation\n",
    "smd = SMD.SimulatedMinimumDistance(Single,mom_data,mom_fun)\n",
    "smd.est_par = est_par"
   ]
  },
  {
   "cell_type": "markdown",
   "metadata": {},
   "source": [
    "### Estimate"
   ]
  },
  {
   "cell_type": "code",
   "execution_count": 6,
   "metadata": {},
   "outputs": [],
   "source": [
    "theta0 = [(0.1, 0.1, 0.1, 0.5),\n",
    "          (0.5, 0.5, 0.2, 0.5),\n",
    "          (1.0, 1.0, 0.3, 0.5),\n",
    "          (0.1, 0.1, -0.1, 0.5),\n",
    "          (0.5, 0.5, -0.2, 0.5),\n",
    "          (1.0, 1.0, -0.3, 0.5)]"
   ]
  },
  {
   "cell_type": "code",
   "execution_count": 10,
   "metadata": {},
   "outputs": [],
   "source": [
    "smd.MultiStart(theta0,weight)\n",
    "theta = smd.est\n",
    "#theta = np.array([0.48704889, 0.50153614, -0.16117956, 0.267018 ])"
   ]
  },
  {
   "cell_type": "markdown",
   "metadata": {},
   "source": [
    "### Results"
   ]
  },
  {
   "cell_type": "code",
   "execution_count": 14,
   "metadata": {},
   "outputs": [
    {
     "name": "stdout",
     "output_type": "stream",
     "text": [
      "Parameters: [ 0.487  0.502 -0.161  0.267]\n",
      "Std error : [0.0005 0.0012 0.0002 0.0003]\n"
     ]
    }
   ],
   "source": [
    "Nobs = 500\n",
    "smd.std_error(theta,weight,Nobs=Nobs,Nsim=Single.par.simN/Nobs)\n",
    "std_error = smd.std\n",
    "print('Parameters:', np.round(theta,3))\n",
    "print('Std error :', np.round(std_error,4))\n",
    "SMD.save_est(est_par,theta,name='Single') # save parameters"
   ]
  },
  {
   "cell_type": "markdown",
   "metadata": {},
   "source": [
    "### Model fit"
   ]
  },
  {
   "cell_type": "code",
   "execution_count": null,
   "metadata": {},
   "outputs": [],
   "source": [
    "smd.obj_fun(theta,weight) # set theta as parameters"
   ]
  },
  {
   "cell_type": "code",
   "execution_count": 217,
   "metadata": {},
   "outputs": [],
   "source": [
    "#for p in range(len(est_par)):\n",
    "#    setattr(Single.par,est_par[p],theta[p]) \n",
    "#Single.solve()\n",
    "#Single.simulate()"
   ]
  },
  {
   "cell_type": "code",
   "execution_count": 16,
   "metadata": {},
   "outputs": [],
   "source": [
    "def mom_data_total(MA):\n",
    "    data = pd.read_excel('SASdata/single_moments_total.xlsx')\n",
    "    mom = np.reshape(data['Moments'].to_numpy(), newshape=(int(len(data)/3),3), order='F')\n",
    "    if len(MA)>1:\n",
    "        return mom[:,-1]\n",
    "    else:\n",
    "        return mom[:,MA[0]]\n",
    "    \n",
    "def model_fit(MA):\n",
    "    G_data = {'y': [mom_data_total(MA=MA)], 'x': np.arange(58,69), 'label': ['Data'], 'color': 'k', \n",
    "              'linestyle': ['None'], 'marker': 'o'}\n",
    "    G_pred = figs.retirement_probs(Single,MA=MA)\n",
    "    #G_pred['color'] = 'red'\n",
    "    return [G_data,G_pred]"
   ]
  },
  {
   "cell_type": "markdown",
   "metadata": {},
   "source": [
    "Women"
   ]
  },
  {
   "cell_type": "code",
   "execution_count": 17,
   "metadata": {},
   "outputs": [
    {
     "data": {
      "image/png": "[encoded data removed]",
      "text/plain": [
       "<Figure size 432x288 with 1 Axes>"
      ]
     },
     "metadata": {
      "needs_background": "light"
     },
     "output_type": "display_data"
    }
   ],
   "source": [
    "figs.MyPlot(model_fit([0]),ylim=[-0.01,0.4],linewidth=3,save=True).savefig('figs/ModelFit/SingleWomen.png')"
   ]
  },
  {
   "cell_type": "markdown",
   "metadata": {},
   "source": [
    "Men"
   ]
  },
  {
   "cell_type": "code",
   "execution_count": 18,
   "metadata": {},
   "outputs": [
    {
     "data": {
      "image/png": "[encoded data removed]",
      "text/plain": [
       "<Figure size 432x288 with 1 Axes>"
      ]
     },
     "metadata": {
      "needs_background": "light"
     },
     "output_type": "display_data"
    }
   ],
   "source": [
    "figs.MyPlot(model_fit([1]),ylim=[-0.01,0.4],linewidth=3,save=True).savefig('figs/ModelFit/SingleMen.png')"
   ]
  },
  {
   "cell_type": "markdown",
   "metadata": {},
   "source": [
    "### Sensitivity to first step calibrated parameters"
   ]
  },
  {
   "cell_type": "code",
   "execution_count": 230,
   "metadata": {},
   "outputs": [
    {
     "data": {
      "image/png": "[encoded data removed]",
      "text/plain": [
       "<Figure size 432x288 with 2 Axes>"
      ]
     },
     "metadata": {},
     "output_type": "display_data"
    },
    {
     "data": {
      "image/png": "[encoded data removed]",
      "text/plain": [
       "<Figure size 432x288 with 2 Axes>"
      ]
     },
     "metadata": {},
     "output_type": "display_data"
    }
   ],
   "source": [
    "smd.recompute=True\n",
    "smd.sensitivity(theta,weight,fixed_par)\n",
    "figs.sens_fig_tab(smd.sens2[:,:4],smd.sens2e[:,:4],theta,est_par_tex,fixed_par_tex[:4])\n",
    "figs.sens_fig_tab(smd.sens2[:,4:],smd.sens2e[:,4:],theta,est_par_tex,fixed_par_tex[4:])"
   ]
  },
  {
   "cell_type": "markdown",
   "metadata": {},
   "source": [
    "### Clean up"
   ]
  },
  {
   "cell_type": "code",
   "execution_count": null,
   "metadata": {},
   "outputs": [],
   "source": [
    "%reset -f"
   ]
  },
  {
   "cell_type": "code",
   "execution_count": null,
   "metadata": {},
   "outputs": [],
   "source": []
  },
  {
   "cell_type": "markdown",
   "metadata": {},
   "source": [
    "# Couples"
   ]
  },
  {
   "cell_type": "code",
   "execution_count": 1,
   "metadata": {},
   "outputs": [],
   "source": [
    "from consav import runtools\n",
    "runtools.write_numba_config(disable=0,threads=4)\n",
    "\n",
    "%matplotlib inline\n",
    "%load_ext autoreload\n",
    "%autoreload 2\n",
    "\n",
    "# Local modules\n",
    "from Model import RetirementClass\n",
    "import figs\n",
    "import SimulatedMinimumDistance as SMD\n",
    "\n",
    "# Global modules\n",
    "import numpy as np\n",
    "import matplotlib.pyplot as plt"
   ]
  },
  {
   "cell_type": "code",
   "execution_count": null,
   "metadata": {},
   "outputs": [],
   "source": [
    "moments = pd.read_excel('SASdata/couple_moments.xlsx')\n",
    "mom_data = moments['Moments'].to_numpy()\n",
    "mom_se = moments['SE'].to_numpy()\n",
    "weight = SMD.weight_matrix_couple(mom_se)"
   ]
  },
  {
   "cell_type": "markdown",
   "metadata": {},
   "source": [
    "Weight matrix"
   ]
  },
  {
   "cell_type": "code",
   "execution_count": null,
   "metadata": {},
   "outputs": [],
   "source": [
    "plt.plot(np.arange(58,69),np.mean(np.diag(weight).reshape(2,11,25),axis=(0,2))"
   ]
  },
  {
   "cell_type": "markdown",
   "metadata": {},
   "source": [
    "### Set up estimation"
   ]
  },
  {
   "cell_type": "code",
   "execution_count": null,
   "metadata": {},
   "outputs": [],
   "source": [
    "Couple = RetirementClass(simN=int(1e6), simT=68-53+1)\n",
    "Couple.solve()\n",
    "Couple.simulate()"
   ]
  },
  {
   "cell_type": "code",
   "execution_count": null,
   "metadata": {},
   "outputs": [],
   "source": [
    "# function to generate moments\n",
    "def mom_fun(sim):\n",
    "    return SMD.MomFunCouple(sim,Couple.par)"
   ]
  },
  {
   "cell_type": "code",
   "execution_count": null,
   "metadata": {},
   "outputs": [],
   "source": [
    "add_str = '_est'\n",
    "est_par = (\"alpha_0_male\", \"alpha_0_female\", \"alpha_1\", \"sigma_eta\", \"phi_0_male\", \"phi_0_female\", \"phi_1\")\n",
    "est_par_tex = (r'$\\alpha_0^m$', r'$\\alpha_0^f$', r'$\\alpha_1$', r'$\\sigma$', r'$\\phi_0^m$', r'$\\phi_0^f$', r'$\\phi_1$')\n",
    "fixed_par = ('R', 'rho', 'beta', 'gamma', 'v',\n",
    "             'priv_pension_male', 'priv_pension_female', 'g_adjust', 'pi_adjust_m', 'pi_adjust_f')\n",
    "fixed_par_tex = (r'$R$', r'$\\rho$', r'$\\beta$', r'$\\gamma$', r'$v$', \n",
    "                 r'$PPW^m$', r'$PPW^f$', r'$g$', r'$\\pi_m$', r'$\\pi_f$')\n",
    "\n",
    "# Setup estimation\n",
    "smd = SMD.SimulatedMinimumDistance(Couple,mom_data,mom_fun)\n",
    "smd.est_par = est_par\n",
    "#smd.options['adaptive'] = True"
   ]
  },
  {
   "cell_type": "markdown",
   "metadata": {},
   "source": [
    "### Estimate"
   ]
  },
  {
   "cell_type": "code",
   "execution_count": null,
   "metadata": {},
   "outputs": [],
   "source": [
    "theta0 = [(0.4, 0.4, -0.1, 0.5, 1.1, 1.5, 0.5),\n",
    "          (0.4, 0.4, -0.1, 0.5, 1.5, 1.1, -0.5),\n",
    "          (0.4, 0.4, -0.1, 0.5, 1.5, 1.5, 0.5),\n",
    "          (0.2, 0.2, -0.2, 0.5, 0.5, 1.1, -0.5),\n",
    "          (0.4, 0.4, -0.1, 0.5, 1.5, 0.5, 0.5),\n",
    "          (0.1, 0.1, -0.1, 0.5, 1.1, 1.5, -0.5),\n",
    "          (0.6, 0.6, 0.1, 0.5, 1.1, 1.5, 0.5),\n",
    "          (1.0, 1.0, 0.2, 0.5, 0.5, 0.5, -0.5),\n",
    "          (0.2, 1.0, 0.3, 0.5, 2.0, 0.5, 0.5),\n",
    "          (1.0, 0.2, 0.4, 0.5, 0.5, 2.0, -0.5)]"
   ]
  },
  {
   "cell_type": "code",
   "execution_count": null,
   "metadata": {},
   "outputs": [],
   "source": [
    "smd.print_iter = [True,100] # print every 100 function eval\n",
    "smd.MultiStart(theta0,weight)\n",
    "theta = smd.est\n",
    "#theta = np.array([?])"
   ]
  },
  {
   "cell_type": "markdown",
   "metadata": {},
   "source": [
    "### Results"
   ]
  },
  {
   "cell_type": "code",
   "execution_count": null,
   "metadata": {},
   "outputs": [],
   "source": [
    "Nobs = 500\n",
    "smd.std_error(theta,weight,Nobs=Nobs,Nsim=Couple.par.simN/Nobs)\n",
    "std_error = smd.std\n",
    "print('Parameters:', np.round(theta,3))\n",
    "print('Std error :', np.round(std_error,4))\n",
    "SMD.save_est(est_par,theta,name='Couple',couple=True) # save parameters"
   ]
  },
  {
   "cell_type": "markdown",
   "metadata": {},
   "source": [
    "### Model fit"
   ]
  },
  {
   "cell_type": "code",
   "execution_count": null,
   "metadata": {},
   "outputs": [],
   "source": [
    "smd.obj_fun(theta,weight) # set theta as parameters"
   ]
  },
  {
   "cell_type": "markdown",
   "metadata": {},
   "source": [
    "def mom_data_total(MA):\n",
    "    data = pd.read_excel('SASdata/couple_moments_total.xlsx')\n",
    "    mom = np.reshape(data['Moments'].to_numpy(), newshape=(int(len(data)/3),3), order='F')\n",
    "    if len(MA)>1:\n",
    "        return mom[:,-1]\n",
    "    else:\n",
    "        return mom[:,MA[0]]\n",
    "    \n",
    "def model_fit(MA):\n",
    "    G_data = {'y': [mom_data_total(MA=MA)], 'x': np.arange(58,69), 'label': ['Data'], 'color': 'k', \n",
    "              'linestyle': ['None'], 'marker': 'o'}\n",
    "    G_pred = figs.retirement_probs(Couple,MA=MA)\n",
    "    #G_pred['color'] = 'red'\n",
    "    return [G_data,G_pred]"
   ]
  },
  {
   "cell_type": "markdown",
   "metadata": {},
   "source": [
    "Women"
   ]
  },
  {
   "cell_type": "code",
   "execution_count": null,
   "metadata": {},
   "outputs": [],
   "source": []
  },
  {
   "cell_type": "markdown",
   "metadata": {},
   "source": [
    "Men"
   ]
  },
  {
   "cell_type": "code",
   "execution_count": null,
   "metadata": {},
   "outputs": [],
   "source": []
  },
  {
   "cell_type": "markdown",
   "metadata": {},
   "source": [
    "### Sensitivity to first step calibrated parameters"
   ]
  },
  {
   "cell_type": "code",
   "execution_count": null,
   "metadata": {},
   "outputs": [],
   "source": [
    "smd.recompute=True\n",
    "smd.sensitivity(theta,weight,fixed_par)\n",
    "figs.sens_fig_tab(smd.sens2[:,:5],smd.sens2e[:,:5],theta,est_par_tex,fixed_par_tex[:5])\n",
    "figs.sens_fig_tab(smd.sens2[:,5:],smd.sens2e[:,5:],theta,est_par_tex,fixed_par_tex[5:])"
   ]
  },
  {
   "cell_type": "code",
   "execution_count": null,
   "metadata": {},
   "outputs": [],
   "source": []
  },
  {
   "cell_type": "markdown",
   "metadata": {},
   "source": [
    "# Restricted Couple model"
   ]
  },
  {
   "cell_type": "code",
   "execution_count": null,
   "metadata": {},
   "outputs": [],
   "source": [
    "Couple.par.phi_0_male = 0\n",
    "Couple.par.phi_0_female = 0\n",
    "Couple.par.phi_1 = 0\n",
    "smd = SMD.SimulatedMinimumDistance(Couple,mom_data,mom_fun)\n",
    "smd.est_par = est_par[0:4]\n",
    "#smd.options['adaptive'] = True"
   ]
  },
  {
   "cell_type": "markdown",
   "metadata": {},
   "source": [
    "### Estimate"
   ]
  },
  {
   "cell_type": "code",
   "execution_count": null,
   "metadata": {},
   "outputs": [],
   "source": [
    "theta0 = [(0.2, 0.2, -0.1, 0.5),\n",
    "          (0.5, 0.5, 0.1, 0.5),\n",
    "          (1.0, 1.0, 0.5, 0.5),\n",
    "          (1.5, 1.5, -0.5, 0.5),\n",
    "          (0.5, 0.5, -0.1, 0.5)]"
   ]
  },
  {
   "cell_type": "code",
   "execution_count": null,
   "metadata": {},
   "outputs": [],
   "source": [
    "smd.print_iter = [True,100] # print every 100 function eval\n",
    "smd.MultiStart(theta0,weight)\n",
    "theta = smd.est\n",
    "#theta = np.array([?])"
   ]
  },
  {
   "cell_type": "markdown",
   "metadata": {},
   "source": [
    "### Results"
   ]
  },
  {
   "cell_type": "code",
   "execution_count": null,
   "metadata": {},
   "outputs": [],
   "source": [
    "Nobs = 500\n",
    "smd.std_error(theta,weight,Nobs=Nobs,Nsim=Couple.par.simN/Nobs)\n",
    "std_error = smd.std\n",
    "print('Parameters:', np.round(theta,3))\n",
    "print('Std error :', np.round(std_error,4))\n",
    "SMD.save_est(est_par,theta,name='RestCouple',couple=True) # save parameters"
   ]
  },
  {
   "cell_type": "code",
   "execution_count": null,
   "metadata": {},
   "outputs": [],
   "source": []
  }
 ],
 "metadata": {
  "kernelspec": {
   "display_name": "Python 3",
   "language": "python",
   "name": "python3"
  },
  "language_info": {
   "codemirror_mode": {
    "name": "ipython",
    "version": 3
   },
   "file_extension": ".py",
   "mimetype": "text/x-python",
   "name": "python",
   "nbconvert_exporter": "python",
   "pygments_lexer": "ipython3",
   "version": "3.7.3"
  }
 },
 "nbformat": 4,
 "nbformat_minor": 2
}
