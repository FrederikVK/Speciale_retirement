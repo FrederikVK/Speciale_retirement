{
 "cells": [
  {
   "cell_type": "markdown",
   "metadata": {},
   "source": [
    "# Calibration "
   ]
  },
  {
   "cell_type": "code",
   "execution_count": null,
   "metadata": {},
   "outputs": [],
   "source": [
    "from consav import runtools\n",
    "runtools.write_numba_config(disable=1,threads=4)\n",
    "\n",
    "%matplotlib inline\n",
    "%load_ext autoreload\n",
    "%autoreload 2\n",
    "\n",
    "# Local modules\n",
    "from Model import RetirementClass\n",
    "import transitions\n",
    "\n",
    "# Global modules\n",
    "import numpy as np\n",
    "import matplotlib.pyplot as plt\n",
    "import pandas as pd\n",
    "\n",
    "Single = RetirementClass()"
   ]
  },
  {
   "cell_type": "markdown",
   "metadata": {},
   "source": [
    "### Survival probabilities"
   ]
  },
  {
   "cell_type": "code",
   "execution_count": 3,
   "metadata": {},
   "outputs": [],
   "source": [
    "def survival(model,age,ma,hs,scale=0.0):\n",
    "    par = model.par\n",
    "    if ma == 1:\n",
    "        rsm = par.reg_survival_male\n",
    "        dx = np.minimum(1,np.exp(rsm[0] + rsm[1]*age))\n",
    "        sx = (1 - dx)*((hs==0)*(1-scale) + (hs==1)*(1+scale))\n",
    "    elif ma == 0:\n",
    "        rsf = par.reg_survival_female\n",
    "        dx = np.minimum(1,np.exp(rsf[0] + rsf[1]*age))\n",
    "        sx = (1 - dx)*((hs==0)*(1-scale) + (hs==1)*(1+scale))        \n",
    "    return np.minimum(1,sx)\n",
    "\n",
    "def middellevetid(model,age,ma,hs,scale=0.0):\n",
    "    sx = survival(model,age,ma,hs,scale)\n",
    "    lx = np.zeros(len(ages))\n",
    "    lx[0] = 100000\n",
    "    Lx = np.zeros(len(ages))\n",
    "        \n",
    "    for ag in range(len(ages)):\n",
    "        if ag > 0:\n",
    "            lx[ag] = lx[ag-1]*sx[ag-1]\n",
    "            Lx[ag-1] = np.mean((lx[ag-1],lx[ag]))\n",
    "            \n",
    "    Tx = np.sum(Lx,axis=0)\n",
    "    return Tx/lx[0]"
   ]
  },
  {
   "cell_type": "code",
   "execution_count": 4,
   "metadata": {},
   "outputs": [],
   "source": [
    "ages = np.arange(57,111)\n",
    "x = np.linspace(0.1,0.5,100)\n",
    "diff = np.zeros((2,len(x)))\n",
    "for i in range(len(x)):\n",
    "    for ma in [0,1]:\n",
    "        diff[ma,i] = middellevetid(Single,ages,ma,1,scale=x[i]/100) - middellevetid(Single,ages,ma,0,scale=x[i]/100)"
   ]
  },
  {
   "cell_type": "code",
   "execution_count": 5,
   "metadata": {},
   "outputs": [
    {
     "data": {
      "text/plain": [
       "<matplotlib.legend.Legend at 0x21e5a7dd6a0>"
      ]
     },
     "execution_count": 5,
     "metadata": {},
     "output_type": "execute_result"
    },
    {
     "data": {
      "image/png": "[encoded data removed]",
      "text/plain": [
       "<Figure size 432x288 with 1 Axes>"
      ]
     },
     "metadata": {
      "needs_background": "light"
     },
     "output_type": "display_data"
    }
   ],
   "source": [
    "plt.plot(x,diff[0], label='women')\n",
    "plt.plot(x,diff[1], label='men')\n",
    "plt.legend()"
   ]
  },
  {
   "cell_type": "code",
   "execution_count": 26,
   "metadata": {},
   "outputs": [],
   "source": [
    "scale = 0.4/100\n",
    "women_ls = round(middellevetid(Single,ages,0,0,scale=scale),2)\n",
    "women_base = round(middellevetid(Single,ages,0,0,scale=0.0),2)\n",
    "women_hs = round(middellevetid(Single,ages,0,1,scale=scale),2)\n",
    "men_ls = round(middellevetid(Single,ages,1,0,scale=scale),2)\n",
    "men_base = round(middellevetid(Single,ages,1,0,scale=0.0),2)\n",
    "men_hs = round(middellevetid(Single,ages,1,1,scale=scale),2)"
   ]
  },
  {
   "cell_type": "code",
   "execution_count": 27,
   "metadata": {},
   "outputs": [],
   "source": [
    "data = [(women_hs, men_hs), (women_base, men_base), (women_ls, men_ls)]"
   ]
  },
  {
   "cell_type": "code",
   "execution_count": 28,
   "metadata": {},
   "outputs": [
    {
     "data": {
      "text/html": [
       "<div>\n",
       "<style scoped>\n",
       "    .dataframe tbody tr th:only-of-type {\n",
       "        vertical-align: middle;\n",
       "    }\n",
       "\n",
       "    .dataframe tbody tr th {\n",
       "        vertical-align: top;\n",
       "    }\n",
       "\n",
       "    .dataframe thead th {\n",
       "        text-align: right;\n",
       "    }\n",
       "</style>\n",
       "<table border=\"1\" class=\"dataframe\">\n",
       "  <thead>\n",
       "    <tr style=\"text-align: right;\">\n",
       "      <th></th>\n",
       "      <th>Women</th>\n",
       "      <th>Men</th>\n",
       "    </tr>\n",
       "  </thead>\n",
       "  <tbody>\n",
       "    <tr>\n",
       "      <th>Low skilled</th>\n",
       "      <td>26.92</td>\n",
       "      <td>23.59</td>\n",
       "    </tr>\n",
       "    <tr>\n",
       "      <th>Baseline</th>\n",
       "      <td>25.38</td>\n",
       "      <td>22.36</td>\n",
       "    </tr>\n",
       "    <tr>\n",
       "      <th>High skilled</th>\n",
       "      <td>23.96</td>\n",
       "      <td>21.22</td>\n",
       "    </tr>\n",
       "  </tbody>\n",
       "</table>\n",
       "</div>"
      ],
      "text/plain": [
       "              Women    Men\n",
       "Low skilled   26.92  23.59\n",
       "Baseline      25.38  22.36\n",
       "High skilled  23.96  21.22"
      ]
     },
     "execution_count": 28,
     "metadata": {},
     "output_type": "execute_result"
    }
   ],
   "source": [
    "pd.DataFrame(data, columns=['Women', 'Men'], index=['Low skilled', 'Baseline', 'High skilled'])"
   ]
  },
  {
   "cell_type": "markdown",
   "metadata": {},
   "source": [
    "Sample means"
   ]
  },
  {
   "cell_type": "code",
   "execution_count": 3,
   "metadata": {},
   "outputs": [
    {
     "data": {
      "text/html": [
       "<div>\n",
       "<style scoped>\n",
       "    .dataframe tbody tr th:only-of-type {\n",
       "        vertical-align: middle;\n",
       "    }\n",
       "\n",
       "    .dataframe tbody tr th {\n",
       "        vertical-align: top;\n",
       "    }\n",
       "\n",
       "    .dataframe thead tr th {\n",
       "        text-align: left;\n",
       "    }\n",
       "</style>\n",
       "<table border=\"1\" class=\"dataframe\">\n",
       "  <thead>\n",
       "    <tr>\n",
       "      <th></th>\n",
       "      <th colspan=\"2\" halign=\"left\">Couples</th>\n",
       "      <th colspan=\"2\" halign=\"left\">Singles</th>\n",
       "    </tr>\n",
       "    <tr>\n",
       "      <th></th>\n",
       "      <th>Men</th>\n",
       "      <th>Women</th>\n",
       "      <th>Men</th>\n",
       "      <th>Women</th>\n",
       "    </tr>\n",
       "  </thead>\n",
       "  <tbody>\n",
       "    <tr>\n",
       "      <th>Net wealth</th>\n",
       "      <td>4790.000000</td>\n",
       "      <td>4790.000000</td>\n",
       "      <td>1899.000000</td>\n",
       "      <td>1856.000000</td>\n",
       "    </tr>\n",
       "    <tr>\n",
       "      <th>Pension wealth</th>\n",
       "      <td>1236.000000</td>\n",
       "      <td>728.000000</td>\n",
       "      <td>682.000000</td>\n",
       "      <td>744.000000</td>\n",
       "    </tr>\n",
       "    <tr>\n",
       "      <th>Total wealth</th>\n",
       "      <td>6026.000000</td>\n",
       "      <td>5518.000000</td>\n",
       "      <td>2581.000000</td>\n",
       "      <td>2600.000000</td>\n",
       "    </tr>\n",
       "    <tr>\n",
       "      <th>Share</th>\n",
       "      <td>0.205111</td>\n",
       "      <td>0.131932</td>\n",
       "      <td>0.264239</td>\n",
       "      <td>0.286154</td>\n",
       "    </tr>\n",
       "    <tr>\n",
       "      <th>High skilled</th>\n",
       "      <td>0.242000</td>\n",
       "      <td>0.220000</td>\n",
       "      <td>0.196000</td>\n",
       "      <td>0.273000</td>\n",
       "    </tr>\n",
       "    <tr>\n",
       "      <th>Children</th>\n",
       "      <td>0.938000</td>\n",
       "      <td>0.938000</td>\n",
       "      <td>0.558000</td>\n",
       "      <td>0.797000</td>\n",
       "    </tr>\n",
       "  </tbody>\n",
       "</table>\n",
       "</div>"
      ],
      "text/plain": [
       "                    Couples                   Singles             \n",
       "                        Men        Women          Men        Women\n",
       "Net wealth      4790.000000  4790.000000  1899.000000  1856.000000\n",
       "Pension wealth  1236.000000   728.000000   682.000000   744.000000\n",
       "Total wealth    6026.000000  5518.000000  2581.000000  2600.000000\n",
       "Share              0.205111     0.131932     0.264239     0.286154\n",
       "High skilled       0.242000     0.220000     0.196000     0.273000\n",
       "Children           0.938000     0.938000     0.558000     0.797000"
      ]
     },
     "execution_count": 3,
     "metadata": {},
     "output_type": "execute_result"
    }
   ],
   "source": [
    "Names = [('Couples', 'Men'), ('Couples', 'Women'), ('Singles', 'Men'), ('Singles', 'Women')]\n",
    "Vars = ('Net wealth', 'Pension wealth', 'Total wealth', 'Share', 'High skilled', 'Children')\n",
    "NetWealth = (4790, 4790, 1899, 1856)\n",
    "PensionWealth = (1236, 728, 682, 744)\n",
    "TotalWealth = np.array(NetWealth) + np.array(PensionWealth)\n",
    "Share = np.array(PensionWealth)/TotalWealth\n",
    "Age = (61.176, 60.114, 60.625, 60.886)\n",
    "HighSkilled = (0.242, 0.220, 0.196, 0.273)\n",
    "Children = (0.938, 0.938, 0.558, 0.797)\n",
    "data = np.vstack((NetWealth, PensionWealth, TotalWealth, Share, HighSkilled, Children))\n",
    "means = pd.DataFrame(data, columns = pd.MultiIndex.from_tuples(Names), index = Vars)\n",
    "means"
   ]
  },
  {
   "cell_type": "markdown",
   "metadata": {},
   "source": [
    "Regressions"
   ]
  },
  {
   "cell_type": "code",
   "execution_count": 4,
   "metadata": {},
   "outputs": [
    {
     "data": {
      "text/html": [
       "<div>\n",
       "<style scoped>\n",
       "    .dataframe tbody tr th:only-of-type {\n",
       "        vertical-align: middle;\n",
       "    }\n",
       "\n",
       "    .dataframe tbody tr th {\n",
       "        vertical-align: top;\n",
       "    }\n",
       "\n",
       "    .dataframe thead tr th {\n",
       "        text-align: left;\n",
       "    }\n",
       "</style>\n",
       "<table border=\"1\" class=\"dataframe\">\n",
       "  <thead>\n",
       "    <tr>\n",
       "      <th></th>\n",
       "      <th colspan=\"2\" halign=\"left\">Couples</th>\n",
       "      <th colspan=\"2\" halign=\"left\">Singles</th>\n",
       "    </tr>\n",
       "    <tr>\n",
       "      <th></th>\n",
       "      <th>Men</th>\n",
       "      <th>Women</th>\n",
       "      <th>Men</th>\n",
       "      <th>Women</th>\n",
       "    </tr>\n",
       "  </thead>\n",
       "  <tbody>\n",
       "    <tr>\n",
       "      <th>g</th>\n",
       "      <td>0.262</td>\n",
       "      <td>0.318</td>\n",
       "      <td>0.230</td>\n",
       "      <td>0.248</td>\n",
       "    </tr>\n",
       "    <tr>\n",
       "      <th>Age</th>\n",
       "      <td>0.072</td>\n",
       "      <td>0.039</td>\n",
       "      <td>0.216</td>\n",
       "      <td>0.098</td>\n",
       "    </tr>\n",
       "    <tr>\n",
       "      <th>Age2</th>\n",
       "      <td>-0.068</td>\n",
       "      <td>-0.037</td>\n",
       "      <td>-0.187</td>\n",
       "      <td>-0.091</td>\n",
       "    </tr>\n",
       "    <tr>\n",
       "      <th>High skilled</th>\n",
       "      <td>0.069</td>\n",
       "      <td>0.131</td>\n",
       "      <td>0.142</td>\n",
       "      <td>0.185</td>\n",
       "    </tr>\n",
       "    <tr>\n",
       "      <th>Child</th>\n",
       "      <td>0.026</td>\n",
       "      <td>-0.024</td>\n",
       "      <td>0.019</td>\n",
       "      <td>-0.032</td>\n",
       "    </tr>\n",
       "    <tr>\n",
       "      <th>Log wealth</th>\n",
       "      <td>8.864</td>\n",
       "      <td>4.290</td>\n",
       "      <td>12.057</td>\n",
       "      <td>10.062</td>\n",
       "    </tr>\n",
       "    <tr>\n",
       "      <th>Log wealth2</th>\n",
       "      <td>-0.655</td>\n",
       "      <td>-0.327</td>\n",
       "      <td>-0.920</td>\n",
       "      <td>-0.732</td>\n",
       "    </tr>\n",
       "    <tr>\n",
       "      <th>Log wealth3</th>\n",
       "      <td>0.016</td>\n",
       "      <td>0.008</td>\n",
       "      <td>0.023</td>\n",
       "      <td>0.018</td>\n",
       "    </tr>\n",
       "    <tr>\n",
       "      <th>Constant</th>\n",
       "      <td>-41.161</td>\n",
       "      <td>-19.000</td>\n",
       "      <td>-57.670</td>\n",
       "      <td>-47.565</td>\n",
       "    </tr>\n",
       "  </tbody>\n",
       "</table>\n",
       "</div>"
      ],
      "text/plain": [
       "             Couples         Singles        \n",
       "                 Men   Women     Men   Women\n",
       "g              0.262   0.318   0.230   0.248\n",
       "Age            0.072   0.039   0.216   0.098\n",
       "Age2          -0.068  -0.037  -0.187  -0.091\n",
       "High skilled   0.069   0.131   0.142   0.185\n",
       "Child          0.026  -0.024   0.019  -0.032\n",
       "Log wealth     8.864   4.290  12.057  10.062\n",
       "Log wealth2   -0.655  -0.327  -0.920  -0.732\n",
       "Log wealth3    0.016   0.008   0.023   0.018\n",
       "Constant     -41.161 -19.000 -57.670 -47.565"
      ]
     },
     "execution_count": 4,
     "metadata": {},
     "output_type": "execute_result"
    }
   ],
   "source": [
    "Names = [('Couples', 'Men'), ('Couples', 'Women'), ('Singles', 'Men'), ('Singles', 'Women')]\n",
    "Vars = ('g', 'Age', 'Age2', 'High skilled', 'Child', 'Log wealth', 'Log wealth2', 'Log wealth3', 'Constant')\n",
    "g = (0.262, 0.318, 0.230, 0.248)\n",
    "Age = (0.072, 0.039, 0.216, 0.098)\n",
    "Age2 = (-0.068, -0.037, -0.187, -0.091)\n",
    "HighSkilled = (0.069, 0.131, 0.142, 0.185)\n",
    "Child = (0.026, -0.024, 0.019, -0.032)\n",
    "LogWealth = (8.864, 4.290, 12.057, 10.062)\n",
    "LogWealth2 = (-0.655, -0.327, -0.920, -0.732)\n",
    "LogWealth3 = (0.016, 0.008, 0.023, 0.018)\n",
    "Constant = (-41.161, -19.000, -57.670, -47.565)\n",
    "data = np.vstack((g, Age, Age2, HighSkilled, Child, LogWealth, LogWealth2, LogWealth3, Constant))\n",
    "reg = pd.DataFrame(data, columns = pd.MultiIndex.from_tuples(Names), index=Vars)\n",
    "reg"
   ]
  },
  {
   "cell_type": "markdown",
   "metadata": {},
   "source": [
    "Predict pension wealth"
   ]
  },
  {
   "cell_type": "code",
   "execution_count": 5,
   "metadata": {},
   "outputs": [],
   "source": [
    "def xl(g,sh):\n",
    "    return 1/(1+sh*g)\n",
    "\n",
    "def xh(g,sh):\n",
    "    return (1+g)/(1+sh*g)\n",
    "\n",
    "def share(means,reg,hs):\n",
    "    return means.loc['Share'] + hs*reg.loc['High skilled']\n",
    "\n",
    "def total_wealth(means,reg,hs):\n",
    "    if hs == 1:\n",
    "        return xh(reg.loc['g'], means.loc['High skilled'])*means.loc['Total wealth']\n",
    "    elif hs == 0:\n",
    "        return xl(reg.loc['g'], means.loc['High skilled'])*means.loc['Total wealth']"
   ]
  },
  {
   "cell_type": "code",
   "execution_count": 8,
   "metadata": {},
   "outputs": [],
   "source": [
    "Names = [('High skilled', 'Couples', 'Men'), ('High skilled', 'Couples', 'Women'),\n",
    "         ('High skilled', 'Singles', 'Men'), ('High skilled', 'Singles', 'Women'),\n",
    "         ('Low skilled', 'Couples', 'Men'), ('Low skilled', 'Couples', 'Women'),\n",
    "         ('Low skilled', 'Singles', 'Men'), ('Low skilled', 'Singles', 'Women')]\n",
    "Vars = ('Pension wealth', 'Net wealth', 'Total wealth', 'Share')"
   ]
  },
  {
   "cell_type": "code",
   "execution_count": 9,
   "metadata": {},
   "outputs": [],
   "source": [
    "Names = [('Couples', 'Men'), ('Couples', 'Women'), ('Singles', 'Men'), ('Singles', 'Women')]\n",
    "PredH = pd.DataFrame(np.nan*np.zeros((4,4)), columns = pd.MultiIndex.from_tuples(Names), index=Vars)\n",
    "PredL = pd.DataFrame(np.nan*np.zeros((4,4)), columns = pd.MultiIndex.from_tuples(Names), index=Vars)"
   ]
  },
  {
   "cell_type": "code",
   "execution_count": 10,
   "metadata": {},
   "outputs": [],
   "source": [
    "PredH.loc['Share'] = share(means,reg,1)\n",
    "PredL.loc['Share'] = share(means,reg,0)\n",
    "PredH.loc['Total wealth'] = total_wealth(means,reg,1)\n",
    "PredL.loc['Total wealth'] = total_wealth(means,reg,0)\n",
    "PredH.loc['Pension wealth'] = PredH.loc['Share']*PredH.loc['Total wealth']\n",
    "PredL.loc['Pension wealth'] = PredL.loc['Share']*PredL.loc['Total wealth']\n",
    "PredH.loc['Net wealth'] = PredH.loc['Total wealth']-PredH.loc['Pension wealth']\n",
    "PredL.loc['Net wealth'] = PredL.loc['Total wealth']-PredL.loc['Pension wealth']"
   ]
  },
  {
   "cell_type": "code",
   "execution_count": 11,
   "metadata": {},
   "outputs": [
    {
     "data": {
      "text/plain": [
       "Couples  Men      1960275.0\n",
       "         Women    1787198.0\n",
       "Singles  Men      1234028.0\n",
       "         Women    1431858.0\n",
       "Name: Pension wealth, dtype: float64"
      ]
     },
     "execution_count": 11,
     "metadata": {},
     "output_type": "execute_result"
    }
   ],
   "source": [
    "np.round(PredH.loc['Pension wealth']*1000)"
   ]
  },
  {
   "cell_type": "code",
   "execution_count": 12,
   "metadata": {},
   "outputs": [
    {
     "data": {
      "text/plain": [
       "Couples  Men      1162305.0\n",
       "         Women     680399.0\n",
       "Singles  Men       652582.0\n",
       "         Women     696822.0\n",
       "Name: Pension wealth, dtype: float64"
      ]
     },
     "execution_count": 12,
     "metadata": {},
     "output_type": "execute_result"
    }
   ],
   "source": [
    "np.round(PredL.loc['Pension wealth']*1000)"
   ]
  },
  {
   "cell_type": "code",
   "execution_count": 13,
   "metadata": {},
   "outputs": [
    {
     "data": {
      "text/plain": [
       "True"
      ]
     },
     "execution_count": 13,
     "metadata": {},
     "output_type": "execute_result"
    }
   ],
   "source": [
    "np.allclose(PredH.loc['Total wealth']*means.loc['High skilled'] + PredL.loc['Total wealth']*(1-means.loc['High skilled']),\n",
    "            means.loc['Total wealth'])"
   ]
  },
  {
   "cell_type": "code",
   "execution_count": 14,
   "metadata": {},
   "outputs": [
    {
     "data": {
      "text/plain": [
       "False"
      ]
     },
     "execution_count": 14,
     "metadata": {},
     "output_type": "execute_result"
    }
   ],
   "source": [
    "np.allclose(PredH.loc['Net wealth']*means.loc['High skilled'] + PredL.loc['Net wealth']*(1-means.loc['High skilled']),\n",
    "            means.loc['Net wealth'])"
   ]
  },
  {
   "cell_type": "code",
   "execution_count": 15,
   "metadata": {},
   "outputs": [
    {
     "data": {
      "text/plain": [
       "Couples  Men      4670.586164\n",
       "         Women    4594.104915\n",
       "Singles  Men      1814.454987\n",
       "         Women    1702.513056\n",
       "dtype: float64"
      ]
     },
     "execution_count": 15,
     "metadata": {},
     "output_type": "execute_result"
    }
   ],
   "source": [
    "PredH.loc['Net wealth']*means.loc['High skilled'] + PredL.loc['Net wealth']*(1-means.loc['High skilled'])"
   ]
  },
  {
   "cell_type": "code",
   "execution_count": 16,
   "metadata": {},
   "outputs": [
    {
     "data": {
      "text/plain": [
       "Couples  Men      4790.0\n",
       "         Women    4790.0\n",
       "Singles  Men      1899.0\n",
       "         Women    1856.0\n",
       "Name: Net wealth, dtype: float64"
      ]
     },
     "execution_count": 16,
     "metadata": {},
     "output_type": "execute_result"
    }
   ],
   "source": [
    "means.loc['Net wealth']"
   ]
  }
 ],
 "metadata": {
  "kernelspec": {
   "display_name": "Python 3",
   "language": "python",
   "name": "python3"
  },
  "language_info": {
   "codemirror_mode": {
    "name": "ipython",
    "version": 3
   },
   "file_extension": ".py",
   "mimetype": "text/x-python",
   "name": "python",
   "nbconvert_exporter": "python",
   "pygments_lexer": "ipython3",
   "version": "3.7.3"
  }
 },
 "nbformat": 4,
 "nbformat_minor": 2
}
