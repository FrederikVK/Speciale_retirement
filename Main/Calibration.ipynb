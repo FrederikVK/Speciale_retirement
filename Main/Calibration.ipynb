{
 "cells": [
  {
   "cell_type": "markdown",
   "metadata": {},
   "source": [
    "# Calibration "
   ]
  },
  {
   "cell_type": "code",
   "execution_count": 1,
   "metadata": {},
   "outputs": [],
   "source": [
    "from consav import runtools\n",
    "runtools.write_numba_config(disable=0,threads=4)\n",
    "\n",
    "%matplotlib inline\n",
    "%load_ext autoreload\n",
    "%autoreload 2\n",
    "\n",
    "# Local modules\n",
    "from Model import RetirementClass\n",
    "import transitions\n",
    "\n",
    "# Global modules\n",
    "import numpy as np\n",
    "import matplotlib.pyplot as plt\n",
    "import pandas as pd\n",
    "\n",
    "Single = RetirementClass()"
   ]
  },
  {
   "cell_type": "markdown",
   "metadata": {},
   "source": [
    "### Survival probabilities"
   ]
  },
  {
   "cell_type": "code",
   "execution_count": 7,
   "metadata": {},
   "outputs": [],
   "source": [
    "def survival(model,age,ma,hs,scale_m=0.0,scale_f=0.0):\n",
    "    par = model.par\n",
    "    if ma == 1:\n",
    "        rsm = par.reg_survival_male\n",
    "        dx = np.minimum(1,np.exp(rsm[0] + rsm[1]*age))\n",
    "        sx = (1 - dx)*((hs==0)*(1-scale_m) + (hs==1)*(1+scale_m))\n",
    "    elif ma == 0:\n",
    "        rsf = par.reg_survival_female\n",
    "        dx = np.minimum(1,np.exp(rsf[0] + rsf[1]*age))\n",
    "        sx = (1 - dx)*((hs==0)*(1-scale_f) + (hs==1)*(1+scale_f))        \n",
    "    return np.minimum(1,sx)\n",
    "\n",
    "def middellevetid(model,age,ma,hs,scale_m=0.0,scale_f=0.0):\n",
    "    sx = survival(model,age,ma,hs,scale_m,scale_f)\n",
    "    lx = np.zeros(len(ages))\n",
    "    lx[0] = 100000\n",
    "    Lx = np.zeros(len(ages))\n",
    "        \n",
    "    for ag in range(len(ages)):\n",
    "        if ag > 0:\n",
    "            lx[ag] = lx[ag-1]*sx[ag-1]\n",
    "            Lx[ag-1] = np.mean((lx[ag-1],lx[ag]))\n",
    "            \n",
    "    Tx = np.sum(Lx,axis=0)\n",
    "    return Tx/lx[0]"
   ]
  },
  {
   "cell_type": "code",
   "execution_count": 29,
   "metadata": {},
   "outputs": [],
   "source": [
    "ages = np.arange(57,111)\n",
    "x = np.linspace(0.1,0.5,100)\n",
    "diff = np.zeros((2,len(x)))\n",
    "for i in range(len(x)):\n",
    "    diff[0,i] = middellevetid(Single,ages,0,1,scale_f=x[i]/100) - middellevetid(Single,ages,0,0,scale_f=x[i]/100)\n",
    "    diff[1,i] = middellevetid(Single,ages,1,1,scale_m=x[i]/100) - middellevetid(Single,ages,1,0,scale_m=x[i]/100)    "
   ]
  },
  {
   "cell_type": "code",
   "execution_count": 30,
   "metadata": {},
   "outputs": [
    {
     "data": {
      "text/plain": [
       "<matplotlib.legend.Legend at 0x1f805715ef0>"
      ]
     },
     "execution_count": 30,
     "metadata": {},
     "output_type": "execute_result"
    },
    {
     "data": {
      "image/png": "[encoded data removed]",
      "text/plain": [
       "<Figure size 432x288 with 1 Axes>"
      ]
     },
     "metadata": {
      "needs_background": "light"
     },
     "output_type": "display_data"
    }
   ],
   "source": [
    "plt.plot(x,diff[0], label='women')\n",
    "plt.plot(x,diff[1], label='men')\n",
    "plt.legend()"
   ]
  },
  {
   "cell_type": "code",
   "execution_count": 49,
   "metadata": {},
   "outputs": [],
   "source": [
    "scale_m = 0.422/100\n",
    "scale_f = 0.216/100\n",
    "women_ls = round(middellevetid(Single,ages,0,0,scale_f=scale_f),2)\n",
    "women_base = round(middellevetid(Single,ages,0,0),2)\n",
    "women_hs = round(middellevetid(Single,ages,0,1,scale_f=scale_f),2)\n",
    "men_ls = round(middellevetid(Single,ages,1,0,scale_m=scale_m),2)\n",
    "men_base = round(middellevetid(Single,ages,1,0),2)\n",
    "men_hs = round(middellevetid(Single,ages,1,1,scale_m=scale_m),2)"
   ]
  },
  {
   "cell_type": "code",
   "execution_count": 50,
   "metadata": {},
   "outputs": [],
   "source": [
    "data = [(women_hs, men_hs), (women_base, men_base), (women_ls, men_ls), (women_hs-women_ls-57, (men_hs-men_ls-57))]"
   ]
  },
  {
   "cell_type": "code",
   "execution_count": 51,
   "metadata": {},
   "outputs": [
    {
     "data": {
      "text/html": [
       "<div>\n",
       "<style scoped>\n",
       "    .dataframe tbody tr th:only-of-type {\n",
       "        vertical-align: middle;\n",
       "    }\n",
       "\n",
       "    .dataframe tbody tr th {\n",
       "        vertical-align: top;\n",
       "    }\n",
       "\n",
       "    .dataframe thead th {\n",
       "        text-align: right;\n",
       "    }\n",
       "</style>\n",
       "<table border=\"1\" class=\"dataframe\">\n",
       "  <thead>\n",
       "    <tr style=\"text-align: right;\">\n",
       "      <th></th>\n",
       "      <th>Women</th>\n",
       "      <th>Men</th>\n",
       "    </tr>\n",
       "  </thead>\n",
       "  <tbody>\n",
       "    <tr>\n",
       "      <th>High skilled</th>\n",
       "      <td>83.20</td>\n",
       "      <td>80.66</td>\n",
       "    </tr>\n",
       "    <tr>\n",
       "      <th>Baseline</th>\n",
       "      <td>82.38</td>\n",
       "      <td>79.36</td>\n",
       "    </tr>\n",
       "    <tr>\n",
       "      <th>Low skilled</th>\n",
       "      <td>81.60</td>\n",
       "      <td>78.16</td>\n",
       "    </tr>\n",
       "    <tr>\n",
       "      <th>High skilled - Low skilled</th>\n",
       "      <td>1.60</td>\n",
       "      <td>2.50</td>\n",
       "    </tr>\n",
       "  </tbody>\n",
       "</table>\n",
       "</div>"
      ],
      "text/plain": [
       "                            Women    Men\n",
       "High skilled                83.20  80.66\n",
       "Baseline                    82.38  79.36\n",
       "Low skilled                 81.60  78.16\n",
       "High skilled - Low skilled   1.60   2.50"
      ]
     },
     "execution_count": 51,
     "metadata": {},
     "output_type": "execute_result"
    }
   ],
   "source": [
    "pd.DataFrame(data, columns=['Women', 'Men'], index=['High skilled', 'Baseline', 'Low skilled', 'High skilled - Low skilled'])+57"
   ]
  },
  {
   "cell_type": "code",
   "execution_count": null,
   "metadata": {},
   "outputs": [],
   "source": []
  }
 ],
 "metadata": {
  "kernelspec": {
   "display_name": "Python 3",
   "language": "python",
   "name": "python3"
  },
  "language_info": {
   "codemirror_mode": {
    "name": "ipython",
    "version": 3
   },
   "file_extension": ".py",
   "mimetype": "text/x-python",
   "name": "python",
   "nbconvert_exporter": "python",
   "pygments_lexer": "ipython3",
   "version": "3.7.3"
  }
 },
 "nbformat": 4,
 "nbformat_minor": 2
}
