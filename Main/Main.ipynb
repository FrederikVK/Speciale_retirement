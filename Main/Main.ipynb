{
 "cells": [
  {
   "cell_type": "markdown",
   "metadata": {},
   "source": [
    "# Simple model"
   ]
  },
  {
   "cell_type": "markdown",
   "metadata": {},
   "source": [
    "## States"
   ]
  },
  {
   "cell_type": "markdown",
   "metadata": {},
   "source": [
    "$age_t \\in \\{57,110\\}$: Age.\n",
    "\n",
    "$d_{t-1} \\in \\{0,1\\}$: Labor market status in beginning of period $t$. 0: retired, 1: working.\n",
    "\n",
    "$a_{t-1} \\in \\mathcal{R}_{+}$: Wealth in beginning of period $t$."
   ]
  },
  {
   "cell_type": "markdown",
   "metadata": {},
   "source": [
    "## Choices"
   ]
  },
  {
   "cell_type": "markdown",
   "metadata": {},
   "source": [
    "$C_t \\in \\mathcal{R}$: Consumption.\n",
    "\n",
    "$d_t \\in \\{0,1\\}$: Labor market status.\n",
    "\n",
    "Retirement is absorbing."
   ]
  },
  {
   "cell_type": "markdown",
   "metadata": {},
   "source": [
    "## Model"
   ]
  },
  {
   "cell_type": "markdown",
   "metadata": {},
   "source": [
    "$$V_t(\\mathbf{s}_t, \\varepsilon_t) = \n",
    "\\max_{C_t, d_t} \\lbrace U(C_t, d_t, \\mathbf{s}_t) + \\sigma_{\\varepsilon} \\varepsilon_t(d_t) + \n",
    "\\beta \\mathbf{E}_t \\left[\\pi_{t+1} V_{t+1}(\\mathbf{s}_t, \\varepsilon_{t+1}) + (1 - \\pi_{t+1})B(a_t) \\right]\\rbrace$$\n",
    "\n",
    "$$U(C_t, d_t) = \\frac{C_t^{1 - \\rho}}{1 - \\rho} + \\alpha(\\mathbf{s}_t) \\mathbf{1}_{\\{d_t=0\\}}$$\n",
    "\n",
    "$$B(a_t) = \\gamma a_t$$"
   ]
  },
  {
   "cell_type": "markdown",
   "metadata": {},
   "source": [
    "$$\\pi_t(age_t)$$"
   ]
  },
  {
   "cell_type": "markdown",
   "metadata": {},
   "source": [
    "## Parameters"
   ]
  },
  {
   "cell_type": "code",
   "execution_count": 1,
   "metadata": {},
   "outputs": [
    {
     "name": "stdout",
     "output_type": "stream",
     "text": [
      "Iteration 18\n",
      "Iteration 17\n",
      "Iteration 16\n",
      "Iteration 15\n",
      "Iteration 14\n",
      "Iteration 13\n",
      "Iteration 12\n",
      "Iteration 11\n",
      "Iteration 10\n",
      "Iteration 9\n",
      "Iteration 8\n",
      "Iteration 7\n",
      "Iteration 6\n",
      "Iteration 5\n",
      "Iteration 4\n",
      "Iteration 3\n",
      "Iteration 2\n",
      "Iteration 1\n",
      "Iteration 0\n"
     ]
    }
   ],
   "source": [
    "from consav import runtools\n",
    "runtools.write_numba_config(disable=0,threads=8)\n",
    "%matplotlib inline\n",
    "# reload module each time cell is run\n",
    "%load_ext autoreload\n",
    "%autoreload 2\n",
    "from Model import RetirementModelClass"
   ]
  },
  {
   "cell_type": "code",
   "execution_count": 17,
   "metadata": {},
   "outputs": [
    {
     "name": "stdout",
     "output_type": "stream",
     "text": [
      "Iteration 18\n",
      "Iteration 17\n",
      "Iteration 16\n",
      "Iteration 15\n",
      "Iteration 14\n",
      "Iteration 13\n",
      "Iteration 12\n",
      "Iteration 11\n",
      "Iteration 10\n",
      "Iteration 9\n",
      "Iteration 8\n",
      "Iteration 7\n",
      "Iteration 6\n",
      "Iteration 5\n",
      "Iteration 4\n",
      "Iteration 3\n",
      "Iteration 2\n",
      "Iteration 1\n",
      "Iteration 0\n"
     ]
    }
   ],
   "source": [
    "# a. setup (calling the __init__ method) \n",
    "model = RetirementModelClass(name='baseline',solmethod='egm')\n",
    "\n",
    "# b. print\n",
    "#print(model) #???\n",
    "\n",
    "# c. solve\n",
    "model.solve()"
   ]
  },
  {
   "cell_type": "code",
   "execution_count": 18,
   "metadata": {},
   "outputs": [],
   "source": [
    "model.simulate()"
   ]
  },
  {
   "cell_type": "code",
   "execution_count": 5,
   "metadata": {},
   "outputs": [],
   "source": [
    "import matplotlib.pyplot as plt\n",
    "import seaborn as sns"
   ]
  },
  {
   "cell_type": "code",
   "execution_count": 20,
   "metadata": {},
   "outputs": [
    {
     "data": {
      "text/plain": [
       "[<matplotlib.lines.Line2D at 0x1d020aae9e8>]"
      ]
     },
     "execution_count": 20,
     "metadata": {},
     "output_type": "execute_result"
    },
    {
     "data": {
      "image/png": "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\n",
      "text/plain": [
       "<Figure size 432x288 with 1 Axes>"
      ]
     },
     "metadata": {
      "needs_background": "light"
     },
     "output_type": "display_data"
    }
   ],
   "source": [
    "plt.plot(np.nanmean(model.sim.c, axis=1))"
   ]
  },
  {
   "cell_type": "code",
   "execution_count": 15,
   "metadata": {},
   "outputs": [
    {
     "name": "stderr",
     "output_type": "stream",
     "text": [
      "C:\\Users\\Mathias\\Anaconda3\\lib\\site-packages\\ipykernel_launcher.py:1: RuntimeWarning: Mean of empty slice\n",
      "  \"\"\"Entry point for launching an IPython kernel.\n"
     ]
    },
    {
     "data": {
      "text/plain": [
       "[<matplotlib.lines.Line2D at 0x1d0209c57b8>]"
      ]
     },
     "execution_count": 15,
     "metadata": {},
     "output_type": "execute_result"
    },
    {
     "data": {
      "image/png": "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\n",
      "text/plain": [
       "<Figure size 432x288 with 1 Axes>"
      ]
     },
     "metadata": {
      "needs_background": "light"
     },
     "output_type": "display_data"
    }
   ],
   "source": [
    "plt.plot(np.nanmean(model.sim.m, axis=1))"
   ]
  },
  {
   "cell_type": "code",
   "execution_count": 16,
   "metadata": {},
   "outputs": [
    {
     "name": "stderr",
     "output_type": "stream",
     "text": [
      "C:\\Users\\Mathias\\Anaconda3\\lib\\site-packages\\ipykernel_launcher.py:1: RuntimeWarning: Mean of empty slice\n",
      "  \"\"\"Entry point for launching an IPython kernel.\n"
     ]
    },
    {
     "data": {
      "text/plain": [
       "[<matplotlib.lines.Line2D at 0x1d020a22a58>]"
      ]
     },
     "execution_count": 16,
     "metadata": {},
     "output_type": "execute_result"
    },
    {
     "data": {
      "image/png": "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\n",
      "text/plain": [
       "<Figure size 432x288 with 1 Axes>"
      ]
     },
     "metadata": {
      "needs_background": "light"
     },
     "output_type": "display_data"
    }
   ],
   "source": [
    "plt.plot(np.nanmean(model.sim.d, axis=1))"
   ]
  },
  {
   "cell_type": "code",
   "execution_count": 20,
   "metadata": {},
   "outputs": [
    {
     "data": {
      "text/plain": [
       "array([1., 1., 1., 1., 1., 1., 1., 1., 1., 0., 0., 0., 0., 0., 0., 0., 0.,\n",
       "       0., 0., 0.])"
      ]
     },
     "execution_count": 20,
     "metadata": {},
     "output_type": "execute_result"
    }
   ],
   "source": [
    "model.sim.d[:,0]"
   ]
  },
  {
   "cell_type": "code",
   "execution_count": 21,
   "metadata": {},
   "outputs": [
    {
     "data": {
      "text/plain": [
       "[<matplotlib.lines.Line2D at 0x1d020b9b5f8>]"
      ]
     },
     "execution_count": 21,
     "metadata": {},
     "output_type": "execute_result"
    },
    {
     "data": {
      "image/png": "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\n",
      "text/plain": [
       "<Figure size 432x288 with 1 Axes>"
      ]
     },
     "metadata": {
      "needs_background": "light"
     },
     "output_type": "display_data"
    }
   ],
   "source": [
    "model.sim.alive[:,0]\n",
    "plt.plot(np.nanmean(model.sim.alive, axis=1))"
   ]
  },
  {
   "cell_type": "code",
   "execution_count": 23,
   "metadata": {},
   "outputs": [
    {
     "data": {
      "image/png": "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\n",
>      "text/plain": [
       "<Figure size 432x288 with 1 Axes>"
      ]
     },
     "metadata": {
      "needs_background": "light"
     },
     "output_type": "display_data"
    }
   ],
   "source": [
    "import figs\n",
    "figs.lifecycle(model)"
   ]
  }
 ],
 "metadata": {
  "kernelspec": {
   "display_name": "Python 3",
   "language": "python",
   "name": "python3"
  },
  "language_info": {
   "codemirror_mode": {
    "name": "ipython",
    "version": 3
   },
   "file_extension": ".py",
   "mimetype": "text/x-python",
   "name": "python",
   "nbconvert_exporter": "python",
   "pygments_lexer": "ipython3",
   "version": "3.7.3"
  }
 },
 "nbformat": 4,
 "nbformat_minor": 2
}
