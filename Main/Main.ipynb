{
 "cells": [
  {
   "cell_type": "markdown",
   "metadata": {},
   "source": [
    "# Simple model"
   ]
  },
  {
   "cell_type": "markdown",
   "metadata": {},
   "source": [
    "## States"
   ]
  },
  {
   "cell_type": "markdown",
   "metadata": {},
   "source": [
    "$age_t \\in \\{57,110\\}$: Age.\n",
    "\n",
    "$d_{t-1} \\in \\{0,1\\}$: Labor market status in beginning of period $t$. 0: retired, 1: working.\n",
    "\n",
    "$a_{t-1} \\in \\mathcal{R}_{+}$: Wealth in beginning of period $t$."
   ]
  },
  {
   "cell_type": "markdown",
   "metadata": {},
   "source": [
    "## Choices"
   ]
  },
  {
   "cell_type": "markdown",
   "metadata": {},
   "source": [
    "$C_t \\in \\mathcal{R}$: Consumption.\n",
    "\n",
    "$d_t \\in \\{0,1\\}$: Labor market status.\n",
    "\n",
    "Retirement is absorbing."
   ]
  },
  {
   "cell_type": "markdown",
   "metadata": {},
   "source": [
    "## Model"
   ]
  },
  {
   "cell_type": "markdown",
   "metadata": {},
   "source": [
    "$$V_t(\\mathbf{s}_t, \\varepsilon_t) = \n",
    "\\max_{C_t, d_t} \\lbrace U(C_t, d_t, \\mathbf{s}_t) + \\sigma_{\\varepsilon} \\varepsilon_t(d_t) + \n",
    "\\beta \\mathbf{E}_t \\left[\\pi_{t+1} V_{t+1}(\\mathbf{s}_t, \\varepsilon_{t+1}) + (1 - \\pi_{t+1})B(a_t) \\right]\\rbrace$$\n",
    "\n",
    "$$U(C_t, d_t) = \\frac{C_t^{1 - \\rho}}{1 - \\rho} + \\alpha(\\mathbf{s}_t) \\mathbf{1}_{\\{d_t=0\\}}$$\n",
    "\n",
    "$$B(a_t) = \\gamma a_t$$"
   ]
  },
  {
   "cell_type": "markdown",
   "metadata": {},
   "source": [
    "$$\\pi_t(age_t)$$"
   ]
  },
  {
   "cell_type": "markdown",
   "metadata": {},
   "source": [
    "## Parameters"
   ]
  },
  {
   "cell_type": "code",
   "execution_count": null,
   "metadata": {},
   "outputs": [],
   "source": []
  },
  {
   "cell_type": "code",
   "execution_count": null,
   "metadata": {},
   "outputs": [],
   "source": []
  },
  {
   "cell_type": "code",
   "execution_count": 1,
   "metadata": {},
   "outputs": [],
   "source": [
    "import numpy as np"
   ]
  },
  {
   "cell_type": "code",
   "execution_count": 26,
   "metadata": {},
   "outputs": [],
   "source": [
    "m = np.linspace(0,10,11)\n",
    "beta = 4.5"
   ]
  },
  {
   "cell_type": "code",
   "execution_count": 31,
   "metadata": {},
   "outputs": [],
   "source": [
    "c = m.copy()\n",
    "for i in reversed(range(len(m))):\n",
    "    if m[i] > beta:\n",
    "        c[i] = beta\n",
    "    else:\n",
    "        break\n",
    "a = m - c"
   ]
  },
  {
   "cell_type": "code",
   "execution_count": 32,
   "metadata": {},
   "outputs": [
    {
     "data": {
      "text/plain": [
       "array([0. , 1. , 2. , 3. , 4. , 4.5, 4.5, 4.5, 4.5, 4.5, 4.5])"
      ]
     },
     "execution_count": 32,
     "metadata": {},
     "output_type": "execute_result"
    }
   ],
   "source": [
    "c"
   ]
  },
  {
   "cell_type": "code",
   "execution_count": 33,
   "metadata": {},
   "outputs": [
    {
     "data": {
      "text/plain": [
       "array([ 0.,  1.,  2.,  3.,  4.,  5.,  6.,  7.,  8.,  9., 10.])"
      ]
     },
     "execution_count": 33,
     "metadata": {},
     "output_type": "execute_result"
    }
   ],
   "source": [
    "m "
   ]
  },
  {
   "cell_type": "code",
   "execution_count": 34,
   "metadata": {},
   "outputs": [
    {
     "data": {
      "text/plain": [
       "array([0. , 0. , 0. , 0. , 0. , 0.5, 1.5, 2.5, 3.5, 4.5, 5.5])"
      ]
     },
     "execution_count": 34,
     "metadata": {},
     "output_type": "execute_result"
    }
   ],
   "source": [
    "a = m - c\n",
    "a"
   ]
  },
  {
   "cell_type": "code",
   "execution_count": null,
   "metadata": {},
   "outputs": [],
   "source": []
  }
 ],
 "metadata": {
  "kernelspec": {
   "display_name": "Python 3",
   "language": "python",
   "name": "python3"
  },
  "language_info": {
   "codemirror_mode": {
    "name": "ipython",
    "version": 3
   },
   "file_extension": ".py",
   "mimetype": "text/x-python",
   "name": "python",
   "nbconvert_exporter": "python",
   "pygments_lexer": "ipython3",
   "version": "3.7.3"
  }
 },
 "nbformat": 4,
 "nbformat_minor": 2
}
