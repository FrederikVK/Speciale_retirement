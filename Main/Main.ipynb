{
 "cells": [
  {
   "cell_type": "markdown",
   "metadata": {},
   "source": [
    "# Simple model"
   ]
  },
  {
   "cell_type": "markdown",
   "metadata": {},
   "source": [
    "## States"
   ]
  },
  {
   "cell_type": "markdown",
   "metadata": {},
   "source": [
    "$age_t \\in \\{57,110\\}$: Age.\n",
    "\n",
    "$d_{t-1} \\in \\{0,1\\}$: Labor market status in beginning of period $t$. 0: retired, 1: working.\n",
    "\n",
    "$a_{t-1} \\in \\mathcal{R}_{+}$: Wealth in beginning of period $t$."
   ]
  },
  {
   "cell_type": "markdown",
   "metadata": {},
   "source": [
    "## Choices"
   ]
  },
  {
   "cell_type": "markdown",
   "metadata": {},
   "source": [
    "$C_t \\in \\mathcal{R}$: Consumption.\n",
    "\n",
    "$d_t \\in \\{0,1\\}$: Labor market status.\n",
    "\n",
    "Retirement is absorbing."
   ]
  },
  {
   "cell_type": "markdown",
   "metadata": {},
   "source": [
    "## Model"
   ]
  },
  {
   "cell_type": "markdown",
   "metadata": {},
   "source": [
    "$$V_t(\\mathbf{s}_t, \\varepsilon_t) = \n",
    "\\max_{C_t, d_t} \\lbrace U(C_t, d_t, \\mathbf{s}_t) + \\sigma_{\\varepsilon} \\varepsilon_t(d_t) + \n",
    "\\beta \\mathbf{E}_t \\left[\\pi_{t+1} V_{t+1}(\\mathbf{s}_t, \\varepsilon_{t+1}) + (1 - \\pi_{t+1})B(a_t) \\right]\\rbrace$$\n",
    "\n",
    "$$U(C_t, d_t) = \\frac{C_t^{1 - \\rho}}{1 - \\rho} + \\alpha(\\mathbf{s}_t) \\mathbf{1}_{\\{d_t=0\\}}$$\n",
    "\n",
    "$$B(a_t) = \\gamma a_t$$"
   ]
  },
  {
   "cell_type": "markdown",
   "metadata": {},
   "source": [
    "$$\\pi_t(age_t)$$"
   ]
  },
  {
   "cell_type": "markdown",
   "metadata": {},
   "source": [
    "## Parameters"
   ]
  },
  {
   "cell_type": "code",
   "execution_count": 1,
   "metadata": {},
   "outputs": [
    {
     "name": "stdout",
     "output_type": "stream",
     "text": [
      "Iteration 18\n",
      "Iteration 17\n",
      "Iteration 16\n",
      "Iteration 15\n",
      "Iteration 14\n",
      "Iteration 13\n",
      "Iteration 12\n",
      "Iteration 11\n",
      "Iteration 10\n",
      "Iteration 9\n",
      "Iteration 8\n",
      "Iteration 7\n",
      "Iteration 6\n",
      "Iteration 5\n",
      "Iteration 4\n",
      "Iteration 3\n",
      "Iteration 2\n",
      "Iteration 1\n",
      "Iteration 0\n"
     ]
    }
   ],
   "source": [
    "from consav import runtools\n",
    "runtools.write_numba_config(disable=0,threads=8)\n",
    "%matplotlib inline\n",
    "# reload module each time cell is run\n",
    "%load_ext autoreload\n",
    "%autoreload 2\n",
    "from Model import RetirementModelClass"
   ]
  },
  {
   "cell_type": "code",
   "execution_count": 17,
   "metadata": {},
   "outputs": [
    {
     "name": "stdout",
     "output_type": "stream",
     "text": [
      "Iteration 18\n",
      "Iteration 17\n",
      "Iteration 16\n",
      "Iteration 15\n",
      "Iteration 14\n",
      "Iteration 13\n",
      "Iteration 12\n",
      "Iteration 11\n",
      "Iteration 10\n",
      "Iteration 9\n",
      "Iteration 8\n",
      "Iteration 7\n",
      "Iteration 6\n",
      "Iteration 5\n",
      "Iteration 4\n",
      "Iteration 3\n",
      "Iteration 2\n",
      "Iteration 1\n",
      "Iteration 0\n"
     ]
    }
   ],
   "source": [
    "# a. setup (calling the __init__ method) \n",
    "model = RetirementModelClass(name='baseline',solmethod='egm')\n",
    "\n",
    "# b. print\n",
    "#print(model) #???\n",
    "\n",
    "# c. solve\n",
    "model.solve()"
   ]
  },
  {
   "cell_type": "code",
   "execution_count": 18,
   "metadata": {},
   "outputs": [],
   "source": [
    "model.simulate()"
   ]
  },
  {
   "cell_type": "code",
   "execution_count": 5,
   "metadata": {},
   "outputs": [],
   "source": [
    "import matplotlib.pyplot as plt\n",
    "import seaborn as sns"
   ]
  },
  {
   "cell_type": "code",
   "execution_count": 20,
   "metadata": {},
   "outputs": [
    {
     "data": {
      "text/plain": [
       "[<matplotlib.lines.Line2D at 0x1d020aae9e8>]"
      ]
     },
     "execution_count": 20,
     "metadata": {},
     "output_type": "execute_result"
    },
    {
     "data": {
      "image/png": "[encoded data removed]",
      "text/plain": [
       "<Figure size 432x288 with 1 Axes>"
      ]
     },
     "metadata": {
      "needs_background": "light"
     },
     "output_type": "display_data"
    }
   ],
   "source": [
    "#brug nanmean - giver fejl men også en graf\n",
    "plt.plot(np.nanmean(model.sim.c, axis=1))"
   ]
  },
  {
   "cell_type": "code",
   "execution_count": 15,
   "metadata": {},
   "outputs": [
    {
     "name": "stderr",
     "output_type": "stream",
     "text": [
      "C:\\Users\\Mathias\\Anaconda3\\lib\\site-packages\\ipykernel_launcher.py:1: RuntimeWarning: Mean of empty slice\n",
      "  \"\"\"Entry point for launching an IPython kernel.\n"
     ]
    },
    {
     "data": {
      "text/plain": [
       "[<matplotlib.lines.Line2D at 0x1d0209c57b8>]"
      ]
     },
     "execution_count": 15,
     "metadata": {},
     "output_type": "execute_result"
    },
    {
     "data": {
      "image/png": "[encoded data removed]",
      "text/plain": [
       "<Figure size 432x288 with 1 Axes>"
      ]
     },
     "metadata": {
      "needs_background": "light"
     },
     "output_type": "display_data"
    }
   ],
   "source": [
    "plt.plot(np.nanmean(model.sim.m, axis=1))"
   ]
  },
  {
   "cell_type": "code",
   "execution_count": 16,
   "metadata": {},
   "outputs": [
    {
     "name": "stderr",
     "output_type": "stream",
     "text": [
      "C:\\Users\\Mathias\\Anaconda3\\lib\\site-packages\\ipykernel_launcher.py:1: RuntimeWarning: Mean of empty slice\n",
      "  \"\"\"Entry point for launching an IPython kernel.\n"
     ]
    },
    {
     "data": {
      "text/plain": [
       "[<matplotlib.lines.Line2D at 0x1d020a22a58>]"
      ]
     },
     "execution_count": 16,
     "metadata": {},
     "output_type": "execute_result"
    },
    {
     "data": {
      "image/png": "[encoded data removed]",
      "text/plain": [
       "<Figure size 432x288 with 1 Axes>"
      ]
     },
     "metadata": {
      "needs_background": "light"
     },
     "output_type": "display_data"
    }
   ],
   "source": [
    "plt.plot(np.nanmean(model.sim.d, axis=1))"
   ]
  },
  {
   "cell_type": "code",
   "execution_count": 20,
   "metadata": {},
   "outputs": [
    {
     "data": {
      "text/plain": [
       "array([1., 1., 1., 1., 1., 1., 1., 1., 1., 0., 0., 0., 0., 0., 0., 0., 0.,\n",
       "       0., 0., 0.])"
      ]
     },
     "execution_count": 20,
     "metadata": {},
     "output_type": "execute_result"
    }
   ],
   "source": [
    "model.sim.d[:,0]"
   ]
  },
  {
   "cell_type": "code",
   "execution_count": 8,
   "metadata": {},
   "outputs": [
    {
     "data": {
      "text/plain": [
       "array([1., 1., 1., 1., 1., 1., 1., 1., 1., 1., 1., 1., 1., 0., 0., 0., 0.,\n",
       "       0., 0., 0., 0., 0., 0., 0., 0., 0., 0., 0., 0., 0., 0., 0., 0., 0.,\n",
       "       0., 0., 0., 0., 0., 0., 0., 0., 0.])"
      ]
     },
     "execution_count": 8,
     "metadata": {},
     "output_type": "execute_result"
    }
   ],
   "source": [
    "model.sim.alive[:,0]"
   ]
  }
 ],
 "metadata": {
  "kernelspec": {
   "display_name": "Python 3",
   "language": "python",
   "name": "python3"
  },
  "language_info": {
   "codemirror_mode": {
    "name": "ipython",
    "version": 3
   },
   "file_extension": ".py",
   "mimetype": "text/x-python",
   "name": "python",
   "nbconvert_exporter": "python",
   "pygments_lexer": "ipython3",
   "version": "3.7.3"
  }
 },
 "nbformat": 4,
 "nbformat_minor": 2
}
