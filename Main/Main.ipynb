{
 "cells": [
  {
   "cell_type": "markdown",
   "metadata": {},
   "source": [
    "# Simple model"
   ]
  },
  {
   "cell_type": "markdown",
   "metadata": {},
   "source": [
    "## States"
   ]
  },
  {
   "cell_type": "markdown",
   "metadata": {},
   "source": [
    "$age_t \\in \\{57,110\\}$: Age.\n",
    "\n",
    "$d_{t-1} \\in \\{0,1\\}$: Labor market status in beginning of period $t$. 0: retired, 1: working.\n",
    "\n",
    "$a_{t-1} \\in \\mathcal{R}_{+}$: Wealth in beginning of period $t$."
   ]
  },
  {
   "cell_type": "markdown",
   "metadata": {},
   "source": [
    "## Choices"
   ]
  },
  {
   "cell_type": "markdown",
   "metadata": {},
   "source": [
    "$C_t \\in \\mathcal{R}$: Consumption.\n",
    "\n",
    "$d_t \\in \\{0,1\\}$: Labor market status.\n",
    "\n",
    "Retirement is absorbing."
   ]
  },
  {
   "cell_type": "markdown",
   "metadata": {},
   "source": [
    "## Model"
   ]
  },
  {
   "cell_type": "markdown",
   "metadata": {},
   "source": [
    "$$V_t(\\mathbf{s}_t, \\varepsilon_t) = \n",
    "\\max_{C_t, d_t} \\lbrace U(C_t, d_t, \\mathbf{s}_t) + \\sigma_{\\varepsilon} \\varepsilon_t(d_t) + \n",
    "\\beta \\mathbf{E}_t \\left[\\pi_{t+1} V_{t+1}(\\mathbf{s}_t, \\varepsilon_{t+1}) + (1 - \\pi_{t+1})B(a_t) \\right]\\rbrace$$\n",
    "\n",
    "$$U(C_t, d_t) = \\frac{C_t^{1 - \\rho}}{1 - \\rho} + \\alpha(\\mathbf{s}_t) \\mathbf{1}_{\\{d_t=0\\}}$$\n",
    "\n",
    "$$B(a_t) = \\gamma a_t$$"
   ]
  },
  {
   "cell_type": "markdown",
   "metadata": {},
   "source": [
    "$$\\pi_t(age_t)$$"
   ]
  },
  {
   "cell_type": "markdown",
   "metadata": {},
   "source": [
    "## Parameters"
   ]
  },
  {
   "cell_type": "code",
   "execution_count": null,
   "metadata": {},
   "outputs": [],
   "source": []
  }
 ],
 "metadata": {
  "kernelspec": {
   "display_name": "Python 3",
   "language": "python",
   "name": "python3"
  },
  "language_info": {
   "codemirror_mode": {
    "name": "ipython",
    "version": 3
   },
   "file_extension": ".py",
   "mimetype": "text/x-python",
   "name": "python",
   "nbconvert_exporter": "python",
   "pygments_lexer": "ipython3",
   "version": "3.7.3"
  }
 },
 "nbformat": 4,
 "nbformat_minor": 2
}
