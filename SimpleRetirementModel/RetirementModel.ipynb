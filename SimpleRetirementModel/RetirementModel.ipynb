{
 "cells": [
  {
   "cell_type": "markdown",
   "metadata": {},
   "source": [
    "# Simple retirement model"
   ]
  },
  {
   "cell_type": "markdown",
   "metadata": {},
   "source": [
    "The retirement model from the \"Dynamic programming\" course is implemented"
   ]
  },
  {
   "cell_type": "markdown",
   "metadata": {},
   "source": [
    "## Model equations"
   ]
  },
  {
   "cell_type": "markdown",
   "metadata": {},
   "source": [
    "The model's **bellman equation** is given by\n",
    "\n",
    "$$ \\begin{eqnarray}\n",
    "V_t \\left(m_t, z_t, \\varepsilon_t^0, \\varepsilon_t^1 \\right) &=&\n",
    "\\max_{z_{t+1} \\in \\mathcal{Z}(z_t)} \\lbrace v_t(m_t | z_{t+1}) + \\sigma_{\\varepsilon} \\varepsilon_t^{z_{t+1}} \\rbrace \\\\\n",
    "v_t(m_t | z_{t+1}) &=& \n",
    "\\max_{c_t} \\frac{c_t^{1 - \\rho}}{1 - \\rho} - \\alpha \\mathbb{1}_{\\{z_{t+1} = 0\\}} + \\beta \\mathbb{E}_t \\left[V_{t+1}\n",
    "\\left(\\cdot_{t+1} \\right) \\right] \\\\\n",
    "&\\text{s.t.}& \\\\\n",
    "\\mathcal{Z}(z_t) &=& \n",
    "\\begin{cases}\n",
    "\\{0,1\\} \\quad & \\text{if } z_t = 0 \\\\\n",
    "\\{1\\} \\quad & \\text{if } z_t = 1 \n",
    "\\end{cases} \\\\\n",
    "m_{t+1} &=& R(m_t - c_t) + W \\xi_{t+1} \\mathbb{1}_{\\{z_{t+1} = 0\\}} \\\\\n",
    "c_t &\\leq& m_t \\\\\n",
    "\\ln \\left(\\xi_{t+1} \\right) &\\sim& \\mathcal{N} \\left(-0.5 \\sigma_{\\xi}^2, \\sigma_{\\xi}^2 \\right) \\\\\n",
    "\\varepsilon_{t+1}^0, \\varepsilon_{t+1}^1 &\\sim& \\text{Extreme Value Type 1}\n",
    "\\end{eqnarray}$$"
   ]
  },
  {
   "cell_type": "markdown",
   "metadata": {},
   "source": [
    "# Test"
   ]
  },
  {
   "cell_type": "markdown",
   "metadata": {},
   "source": [
    "## Numba"
   ]
  },
  {
   "cell_type": "code",
   "execution_count": 1,
   "metadata": {},
   "outputs": [],
   "source": [
    "from consav import runtools\n",
    "runtools.write_numba_config(disable=0,threads=8)"
   ]
  },
  {
   "cell_type": "markdown",
   "metadata": {},
   "source": [
    "## Setup"
   ]
  },
  {
   "cell_type": "code",
   "execution_count": 2,
   "metadata": {},
   "outputs": [],
   "source": [
    "%matplotlib inline\n",
    "\n",
    "# reload module each time cell is run\n",
    "%load_ext autoreload\n",
    "%autoreload 2"
   ]
  },
  {
   "cell_type": "code",
   "execution_count": 4,
   "metadata": {},
   "outputs": [],
   "source": [
    "# load the BufferStockModel module\n",
    "from RetirementModel import RetirementModelClass"
   ]
  },
  {
   "cell_type": "markdown",
   "metadata": {},
   "source": [
    "## Example"
   ]
  },
  {
   "cell_type": "code",
   "execution_count": 5,
   "metadata": {},
   "outputs": [
    {
     "name": "stdout",
     "output_type": "stream",
     "text": [
      "Modelclass: RetirementModelClass\n",
      "Parameters:\n",
      " T = 20\n",
      " rho = 2\n",
      " beta = 0.96\n",
      " alpha = 0.75\n",
      " sigma_eta = 0.0\n",
      " W = 1\n",
      " sigma_xi = 0.2\n",
      " R = 1.04\n",
      " a_max = 10\n",
      " a_phi = 1.1\n",
      " Nxi = 8\n",
      " Na = 150\n",
      " grid_a = [array of doubles]\n",
      " xi = [array of doubles]\n",
      " xi_w = [array of doubles]\n",
      " a_work = [array of doubles]\n",
      " xi_work = [array of doubles]\n",
      " tol = 1e-08\n",
      " do_print = True\n",
      " do_simple_w = False\n",
      " cppthreads = 1\n",
      " simT = 20\n",
      " simN = 1000\n",
      " sim_seed = 1998\n",
      "\n",
      "Iteration 18 : 0.03493547439575195\n",
      "envelope\n",
      "\n",
      "Iteration 17 : 0.047913312911987305\n",
      "envelope\n",
      "\n",
      "Iteration 16 : 0.0479276180267334\n",
      "envelope\n",
      "\n",
      "Iteration 15 : 0.06038832664489746\n",
      "envelope\n",
      "\n",
      "Iteration 14 : 0.0818486213684082\n",
      "envelope\n",
      "\n",
      "Iteration 13 : 0.052906036376953125\n",
      "envelope\n",
      "\n",
      "Iteration 12 : 0.06137990951538086\n",
      "Iteration 11 : 0.03843379020690918\n",
      "Iteration 10 : 0.04791140556335449\n",
      "Iteration 9 : 0.08484220504760742\n",
      "Iteration 8 : 0.08084416389465332\n",
      "Iteration 7 : 0.0733642578125\n",
      "Iteration 6 : 0.08434224128723145\n",
      "Iteration 5 : 0.05938863754272461\n",
      "Iteration 4 : 0.06388163566589355\n",
      "Iteration 3 : 0.05290102958679199\n",
      "Iteration 2 : 0.038428544998168945\n",
      "Iteration 1 : 0.03842949867248535\n",
      "Iteration 0 : 0.041922569274902344\n"
     ]
    }
   ],
   "source": [
    "# a. setup (calling the __init__ method) \n",
    "model = RetirementModelClass(name='baseline',solmethod='egm')\n",
    "\n",
    "# b. print\n",
    "print(model)\n",
    "\n",
    "# c. solve\n",
    "model.solve()"
   ]
  },
  {
   "cell_type": "markdown",
   "metadata": {},
   "source": [
    "## Checksums - comparing with Matlab code"
   ]
  },
  {
   "cell_type": "code",
   "execution_count": 6,
   "metadata": {},
   "outputs": [],
   "source": [
    "# Retired\n",
    "sum_ret = np.sum(model.sol.c[:,:,0])\n",
    "\n",
    "# Working\n",
    "sum_work = np.sum(model.sol.c[:,:,1])"
   ]
  },
  {
   "cell_type": "code",
   "execution_count": 7,
   "metadata": {},
   "outputs": [
    {
     "data": {
      "text/plain": [
       "2.9586892051942333"
      ]
     },
     "execution_count": 7,
     "metadata": {},
     "output_type": "execute_result"
    }
   ],
   "source": [
    "sum_ret/1000"
   ]
  },
  {
   "cell_type": "code",
   "execution_count": 8,
   "metadata": {},
   "outputs": [
    {
     "data": {
      "text/plain": [
       "4.271682106738003"
      ]
     },
     "execution_count": 8,
     "metadata": {},
     "output_type": "execute_result"
    }
   ],
   "source": [
    "sum_work/1000"
   ]
  },
  {
   "cell_type": "markdown",
   "metadata": {},
   "source": [
    "When using linear_interp_vec_mon_rep something odd happens to the check_sum sum_work (3.528 vs 4.271)"
   ]
  },
  {
   "cell_type": "markdown",
   "metadata": {},
   "source": [
    "The model is comparable with the version in matlab.\n",
    "I have not added 10 points on the constraint, when doing egm."
   ]
  },
  {
   "cell_type": "markdown",
   "metadata": {},
   "source": [
    "When the upper envelope is invoked the results differ a bit more"
   ]
  },
  {
   "cell_type": "markdown",
   "metadata": {},
   "source": [
    "# Timing"
   ]
  },
  {
   "cell_type": "code",
   "execution_count": 9,
   "metadata": {},
   "outputs": [],
   "source": [
    "import time"
   ]
  },
  {
   "cell_type": "code",
   "execution_count": 10,
   "metadata": {},
   "outputs": [
    {
     "name": "stdout",
     "output_type": "stream",
     "text": [
      "Iteration 18 : 0.06487894058227539\n",
      "envelope\n",
      "\n",
      "Iteration 17 : 0.06537723541259766\n",
      "envelope\n",
      "\n",
      "Iteration 16 : 0.04491758346557617\n",
      "envelope\n",
      "\n",
      "Iteration 15 : 0.045914411544799805\n",
      "envelope\n",
      "\n",
      "Iteration 14 : 0.0444183349609375\n",
      "envelope\n",
      "\n",
      "Iteration 13 : 0.05489635467529297\n",
      "envelope\n",
      "\n",
      "Iteration 12 : 0.04790806770324707\n",
      "Iteration 11 : 0.03443646430969238\n",
      "Iteration 10 : 0.04791140556335449\n",
      "Iteration 9 : 0.035431861877441406\n",
      "Iteration 8 : 0.04142355918884277\n",
      "Iteration 7 : 0.06338119506835938\n",
      "Iteration 6 : 0.058391571044921875\n",
      "Iteration 5 : 0.042920589447021484\n",
      "Iteration 4 : 0.03942751884460449\n",
      "Iteration 3 : 0.06138467788696289\n",
      "Iteration 2 : 0.05140542984008789\n",
      "Iteration 1 : 0.06387925148010254\n",
      "Iteration 0 : 0.06038951873779297\n",
      "with numba it takes: 1.0011396408081055\n"
     ]
    }
   ],
   "source": [
    "model = RetirementModelClass(name='baseline',solmethod='egm')\n",
    "tic = time.time()\n",
    "model.solve()\n",
    "toc = time.time()\n",
    "\n",
    "print('with numba it takes:', toc-tic)"
   ]
  },
  {
   "cell_type": "code",
   "execution_count": 11,
   "metadata": {},
   "outputs": [
    {
     "name": "stdout",
     "output_type": "stream",
     "text": [
      "Iteration 18 : 0.05439877510070801\n",
      "envelope\n",
      "\n",
      "Iteration 17 : 0.0783543586730957\n",
      "envelope\n",
      "\n",
      "Iteration 16 : 0.057393550872802734\n",
      "envelope\n",
      "\n",
      "Iteration 15 : 0.06338286399841309\n",
      "envelope\n",
      "\n",
      "Iteration 14 : 0.05889272689819336\n",
      "envelope\n",
      "\n",
      "Iteration 13 : 0.0494084358215332\n",
      "envelope\n",
      "\n",
      "Iteration 12 : 0.05190300941467285\n",
      "Iteration 11 : 0.03892874717712402\n",
      "Iteration 10 : 0.0444183349609375\n",
      "Iteration 9 : 0.05739283561706543\n",
      "Iteration 8 : 0.06587767601013184\n",
      "Iteration 7 : 0.0563967227935791\n",
      "Iteration 6 : 0.0444183349609375\n",
      "Iteration 5 : 0.05439925193786621\n",
      "Iteration 4 : 0.04292011260986328\n",
      "Iteration 3 : 0.04192185401916504\n",
      "Iteration 2 : 0.06538748741149902\n",
      "Iteration 1 : 0.0683736801147461\n",
      "Iteration 0 : 0.042920827865600586\n",
      "         295925 function calls in 1.067 seconds\n",
      "\n",
      "   Ordered by: standard name\n",
      "\n",
      "   ncalls  tottime  percall  cumtime  percall filename:lineno(function)\n",
      "        1    0.000    0.000    1.067    1.067 <string>:1(<module>)\n",
      "        1    0.001    0.001    0.001    0.001 RetirementModel.py:215(_solve_prep)\n",
      "        1    0.000    0.000    1.067    1.067 RetirementModel.py:230(solve)\n",
      "        6    0.000    0.000    0.000    0.000 decorators.py:163(_jit)\n",
      "        6    0.000    0.000    0.000    0.000 decorators.py:166(wrapper)\n",
      "        6    0.000    0.000    0.000    0.000 decorators.py:210(njit)\n",
      "        6    0.000    0.000    0.000    0.000 decorators.py:34(jit)\n",
      "       19    0.001    0.000    0.001    0.000 egm.py:11(is_sorted)\n",
      "       19    0.001    0.000    0.083    0.004 egm.py:18(solve_bellman)\n",
      "       38    0.000    0.000    0.003    0.000 fromnumeric.py:1966(sum)\n",
      "       19    0.000    0.000    0.000    0.000 fromnumeric.py:54(_wrapfunc)\n",
      "       38    0.000    0.000    0.002    0.000 fromnumeric.py:69(_wrapreduction)\n",
      "       38    0.000    0.000    0.000    0.000 fromnumeric.py:70(<dictcomp>)\n",
      "       19    0.000    0.000    0.000    0.000 fromnumeric.py:942(argsort)\n",
      "       19    0.024    0.001    0.025    0.001 funs.py:37(logsum_vec)\n",
      "      181    0.001    0.000    0.031    0.000 iostream.py:195(schedule)\n",
      "      176    0.000    0.000    0.000    0.000 iostream.py:307(_is_master_process)\n",
      "      176    0.000    0.000    0.001    0.000 iostream.py:320(_schedule_flush)\n",
      "      176    0.001    0.000    0.033    0.000 iostream.py:382(write)\n",
      "      181    0.000    0.000    0.000    0.000 iostream.py:93(_event_pipe)\n",
      "        1    0.000    0.000    0.000    0.000 last_period.py:6(solve)\n",
      "    96900    0.417    0.000    0.417    0.000 linear_interp.py:14(binary_search)\n",
      "    96900    0.085    0.000    0.851    0.000 linear_interp_1d.py:35(interp_1d)\n",
      "    96900    0.348    0.000    0.348    0.000 linear_interp_1d.py:5(_interp_1d)\n",
      "      114    0.064    0.001    0.914    0.008 linear_interp_1d.py:56(interp_1d_vec)\n",
      "       19    0.000    0.000    0.001    0.000 numeric.py:112(zeros_like)\n",
      "        1    0.000    0.000    0.000    0.000 numeric.py:175(ones)\n",
      "       19    0.008    0.000    0.955    0.050 post_decision.py:13(compute)\n",
      "        6    0.000    0.000    0.000    0.000 registry.py:95(__getitem__)\n",
      "        6    0.000    0.000    0.000    0.000 sigutils.py:6(is_signature)\n",
      "      181    0.029    0.000    0.029    0.000 socket.py:337(send)\n",
      "       39    0.000    0.000    0.000    0.000 special.py:16(__new__)\n",
      "      181    0.000    0.000    0.001    0.000 threading.py:1038(_wait_for_tstate_lock)\n",
      "      181    0.001    0.000    0.001    0.000 threading.py:1080(is_alive)\n",
      "      181    0.000    0.000    0.000    0.000 threading.py:507(is_set)\n",
      "        6    0.000    0.000    0.000    0.000 upperenvelope.py:10(create)\n",
      "        6    0.069    0.011    0.072    0.012 upperenvelope.py:24(upperenvelope)\n",
      "       38    0.001    0.000    0.001    0.000 utility.py:11(inv_marg_func)\n",
      "     1863    0.004    0.000    0.004    0.000 utility.py:3(func)\n",
      "       57    0.005    0.000    0.005    0.000 utility.py:7(marg_func)\n",
      "       19    0.000    0.000    0.000    0.000 {built-in method builtins.abs}\n",
      "        1    0.000    0.000    1.067    1.067 {built-in method builtins.exec}\n",
      "       19    0.000    0.000    0.000    0.000 {built-in method builtins.getattr}\n",
      "      226    0.000    0.000    0.000    0.000 {built-in method builtins.isinstance}\n",
      "       38    0.000    0.000    0.000    0.000 {built-in method builtins.len}\n",
      "       31    0.001    0.000    0.034    0.001 {built-in method builtins.print}\n",
      "      176    0.000    0.000    0.000    0.000 {built-in method nt.getpid}\n",
      "       20    0.000    0.000    0.000    0.000 {built-in method numpy.copyto}\n",
      "       19    0.000    0.000    0.000    0.000 {built-in method numpy.empty_like}\n",
      "        1    0.000    0.000    0.000    0.000 {built-in method numpy.empty}\n",
      "       28    0.000    0.000    0.000    0.000 {built-in method numpy.zeros}\n",
      "       38    0.000    0.000    0.000    0.000 {built-in method time.time}\n",
      "        6    0.000    0.000    0.000    0.000 {function TargetRegistry.__getitem__ at 0x000002EAF1442EA0}\n",
      "      181    0.000    0.000    0.000    0.000 {method 'acquire' of '_thread.lock' objects}\n",
      "      181    0.000    0.000    0.000    0.000 {method 'append' of 'collections.deque' objects}\n",
      "       19    0.000    0.000    0.000    0.000 {method 'argsort' of 'numpy.ndarray' objects}\n",
      "        1    0.000    0.000    0.000    0.000 {method 'disable' of '_lsprof.Profiler' objects}\n",
      "       38    0.000    0.000    0.000    0.000 {method 'items' of 'dict' objects}\n",
      "       38    0.002    0.000    0.002    0.000 {method 'reduce' of 'numpy.ufunc' objects}\n",
      "      114    0.000    0.000    0.000    0.000 {method 'reshape' of 'numpy.ndarray' objects}\n",
      "        6    0.000    0.000    0.000    0.000 {method 'update' of 'dict' objects}\n",
      "\n",
      "\n"
     ]
    }
   ],
   "source": [
    "import cProfile\n",
    "cProfile.run('model.solve()')"
   ]
  },
  {
   "cell_type": "code",
   "execution_count": null,
   "metadata": {},
   "outputs": [],
   "source": []
  }
 ],
 "metadata": {
  "kernelspec": {
   "display_name": "Python 3",
   "language": "python",
   "name": "python3"
  },
  "language_info": {
   "codemirror_mode": {
    "name": "ipython",
    "version": 3
   },
   "file_extension": ".py",
   "mimetype": "text/x-python",
   "name": "python",
   "nbconvert_exporter": "python",
   "pygments_lexer": "ipython3",
   "version": "3.7.3"
  }
 },
 "nbformat": 4,
 "nbformat_minor": 2
}
