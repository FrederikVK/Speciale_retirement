{
 "cells": [
  {
   "cell_type": "markdown",
   "metadata": {},
   "source": [
    "# Simple retirement model"
   ]
  },
  {
   "cell_type": "markdown",
   "metadata": {},
   "source": [
    "The retirement model from the \"Dynamic programming\" course is implemented"
   ]
  },
  {
   "cell_type": "markdown",
   "metadata": {},
   "source": [
    "## Model equations"
   ]
  },
  {
   "cell_type": "markdown",
   "metadata": {},
   "source": [
    "The model's **bellman equation** is given by\n",
    "\n",
    "$$ \\begin{eqnarray}\n",
    "V_t \\left(m_t, z_t, \\varepsilon_t^0, \\varepsilon_t^1 \\right) &=&\n",
    "\\max_{z_{t+1} \\in \\mathcal{Z}(z_t)} \\lbrace v_t(m_t | z_{t+1}) + \\sigma_{\\varepsilon} \\varepsilon_t^{z_{t+1}} \\rbrace \\\\\n",
    "v_t(m_t | z_{t+1}) &=& \n",
    "\\max_{c_t} \\frac{c_t^{1 - \\rho}}{1 - \\rho} - \\alpha \\mathbb{1}_{\\{z_{t+1} = 0\\}} + \\beta \\mathbb{E}_t \\left[V_{t+1}\n",
    "\\left(\\cdot_{t+1} \\right) \\right] \\\\\n",
    "&\\text{s.t.}& \\\\\n",
    "\\mathcal{Z}(z_t) &=& \n",
    "\\begin{cases}\n",
    "\\{0,1\\} \\quad & \\text{if } z_t = 0 \\\\\n",
    "\\{1\\} \\quad & \\text{if } z_t = 1 \n",
    "\\end{cases} \\\\\n",
    "m_{t+1} &=& R(m_t - c_t) + W \\xi_{t+1} \\mathbb{1}_{\\{z_{t+1} = 0\\}} \\\\\n",
    "c_t &\\leq& m_t \\\\\n",
    "\\ln \\left(\\xi_{t+1} \\right) &\\sim& \\mathcal{N} \\left(-0.5 \\sigma_{\\xi}^2, \\sigma_{\\xi}^2 \\right) \\\\\n",
    "\\varepsilon_{t+1}^0, \\varepsilon_{t+1}^1 &\\sim& \\text{Extreme Value Type 1}\n",
    "\\end{eqnarray}$$"
   ]
  },
  {
   "cell_type": "markdown",
   "metadata": {},
   "source": [
    "# Test"
   ]
  },
  {
   "cell_type": "markdown",
   "metadata": {},
   "source": [
    "## Numba"
   ]
  },
  {
   "cell_type": "code",
   "execution_count": 1,
   "metadata": {},
   "outputs": [],
   "source": [
    "#from consav import runtools\n",
    "#runtools.write_numba_config(disable=0,threads=8)"
   ]
  },
  {
   "cell_type": "markdown",
   "metadata": {},
   "source": [
    "## Setup"
   ]
  },
  {
   "cell_type": "code",
   "execution_count": 2,
   "metadata": {},
   "outputs": [],
   "source": [
    "%matplotlib inline\n",
    "\n",
    "# reload module each time cell is run\n",
    "%load_ext autoreload\n",
    "%autoreload 2"
   ]
  },
  {
   "cell_type": "code",
   "execution_count": 3,
   "metadata": {},
   "outputs": [
    {
     "name": "stdout",
     "output_type": "stream",
     "text": [
      "Iteration 18 : 0.11628270149230957\n",
      "envelope\n",
      "\n",
      "Iteration 17 : 0.10630249977111816\n",
      "envelope\n",
      "\n",
      "Iteration 16 : 0.08234715461730957\n",
      "envelope\n",
      "\n",
      "Iteration 15 : 0.06937146186828613\n",
      "envelope\n",
      "\n",
      "Iteration 14 : 0.05290389060974121\n",
      "envelope\n",
      "\n",
      "Iteration 13 : 0.0938260555267334\n",
      "envelope\n",
      "\n",
      "Iteration 12 : 0.216597318649292\n",
      "Iteration 11 : 0.08633971214294434\n",
      "Iteration 10 : 0.06188392639160156\n",
      "Iteration 9 : 0.04491686820983887\n",
      "Iteration 8 : 0.04990696907043457\n",
      "Iteration 7 : 0.06388020515441895\n",
      "Iteration 6 : 0.04791092872619629\n",
      "Iteration 5 : 0.04192209243774414\n",
      "Iteration 4 : 0.06587696075439453\n",
      "Iteration 3 : 0.07236647605895996\n",
      "Iteration 2 : 0.12726354598999023\n",
      "Iteration 1 : 0.12676477432250977\n",
      "Iteration 0 : 0.055895328521728516\n",
      "[[[7.66783378e-08 7.09352861e-01]\n",
      "  [3.12017120e-03 7.12474313e-01]\n",
      "  [6.25067316e-03 7.15606779e-01]\n",
      "  ...\n",
      "  [7.35933486e-01 1.04119877e+00]\n",
      "  [7.50325469e-01 1.02092203e+00]\n",
      "  [7.66783378e-01 9.97726988e-01]]\n",
      "\n",
      " [[7.95290847e-08 6.86735318e-01]\n",
      "  [3.23617291e-03 6.89965284e-01]\n",
      "  [6.48306066e-03 6.93208134e-01]\n",
      "  ...\n",
      "  [7.63294018e-01 1.07399334e+00]\n",
      "  [7.78221067e-01 1.05637182e+00]\n",
      "  [7.95290847e-01 1.03618039e+00]]\n",
      "\n",
      " [[8.27304284e-08 6.61490375e-01]\n",
      "  [3.36644100e-03 6.64818122e-01]\n",
      "  [6.74402814e-03 6.68163099e-01]\n",
      "  ...\n",
      "  [7.94019463e-01 1.09998241e+00]\n",
      "  [8.09547381e-01 1.08460440e+00]\n",
      "  [8.27304284e-01 1.06680151e+00]]\n",
      "\n",
      " ...\n",
      "\n",
      " [[5.30828997e-07 9.55784255e-01]\n",
      "  [2.16003293e-02 9.78280131e-01]\n",
      "  [4.32721764e-02 9.97626849e-01]\n",
      "  ...\n",
      "  [5.09472226e+00 5.59784514e+00]\n",
      "  [5.19435512e+00 5.69744661e+00]\n",
      "  [5.30828997e+00 5.81134356e+00]]\n",
      "\n",
      " [[1.04083300e-06 9.41765638e-01]\n",
      "  [4.23532544e-02 9.86576401e-01]\n",
      "  [8.48467388e-02 1.03131138e+00]\n",
      "  ...\n",
      "  [9.98957307e+00 1.09760808e+01]\n",
      "  [1.01849301e+01 1.11713763e+01]\n",
      "  [1.04083300e+01 1.13947019e+01]]\n",
      "\n",
      " [[1.00000000e-06 1.00000000e-06]\n",
      "  [4.06916907e-02 4.06916907e-02]\n",
      "  [8.15181098e-02 8.15181098e-02]\n",
      "  ...\n",
      "  [9.59767136e+00 9.59767136e+00]\n",
      "  [9.78536431e+00 9.78536431e+00]\n",
      "  [1.00000000e+01 1.00000000e+01]]]\n"
     ]
    }
   ],
   "source": [
    "# load the BufferStockModel module\n",
    "from RetirementModel import RetirementModelClass"
   ]
  },
  {
   "cell_type": "markdown",
   "metadata": {},
   "source": [
    "## Example"
   ]
  },
  {
   "cell_type": "code",
   "execution_count": 4,
   "metadata": {},
   "outputs": [
    {
     "name": "stdout",
     "output_type": "stream",
     "text": [
      "Modelclass: RetirementModelClass\n",
      "Parameters:\n",
      " T = 20\n",
      " rho = 2\n",
      " beta = 0.96\n",
      " alpha = 0.75\n",
      " sigma_eta = 0.0\n",
      " W = 1\n",
      " sigma_xi = 0.2\n",
      " R = 1.04\n",
      " a_max = 10\n",
      " a_phi = 1.1\n",
      " Nxi = 8\n",
      " Na = 150\n",
      " grid_a = [array of doubles]\n",
      " xi = [array of doubles]\n",
      " xi_w = [array of doubles]\n",
      " a_work = [array of doubles]\n",
      " xi_work = [array of doubles]\n",
      " tol = 1e-08\n",
      " do_print = True\n",
      " do_simple_w = False\n",
      " cppthreads = 1\n",
      " simT = 20\n",
      " simN = 1000\n",
      " sim_seed = 1998\n",
      "\n",
      "Iteration 18 : 0.06340527534484863\n",
      "envelope\n",
      "\n",
      "Iteration 17 : 0.06138801574707031\n",
      "envelope\n",
      "\n",
      "Iteration 16 : 0.060379743576049805\n",
      "envelope\n",
      "\n",
      "Iteration 15 : 0.07885169982910156\n",
      "envelope\n",
      "\n",
      "Iteration 14 : 0.07287335395812988\n",
      "envelope\n",
      "\n",
      "Iteration 13 : 0.0698699951171875\n",
      "envelope\n",
      "\n",
      "Iteration 12 : 0.06338095664978027\n",
      "Iteration 11 : 0.04292130470275879\n",
      "Iteration 10 : 0.055895328521728516\n",
      "Iteration 9 : 0.04691195487976074\n",
      "Iteration 8 : 0.06388163566589355\n",
      "Iteration 7 : 0.05639529228210449\n",
      "Iteration 6 : 0.05489778518676758\n",
      "Iteration 5 : 0.057898521423339844\n",
      "Iteration 4 : 0.05889749526977539\n",
      "Iteration 3 : 0.054900169372558594\n",
      "Iteration 2 : 0.058913469314575195\n",
      "Iteration 1 : 0.07585763931274414\n",
      "Iteration 0 : 0.07436108589172363\n"
     ]
    }
   ],
   "source": [
    "# a. setup (calling the __init__ method) \n",
    "model = RetirementModelClass(name='baseline',solmethod='egm')\n",
    "\n",
    "# b. print\n",
    "print(model)\n",
    "\n",
    "# c. solve\n",
    "model.solve()"
   ]
  },
  {
   "cell_type": "markdown",
   "metadata": {},
   "source": [
    "## Checksums - comparing with Matlab code"
   ]
  },
  {
   "cell_type": "code",
   "execution_count": 5,
   "metadata": {},
   "outputs": [],
   "source": [
    "# Retired\n",
    "sum_ret = np.sum(model.sol.c[:,:,0])\n",
    "\n",
    "# Working\n",
    "sum_work = np.sum(model.sol.c[:,:,1])"
   ]
  },
  {
   "cell_type": "code",
   "execution_count": 6,
   "metadata": {},
   "outputs": [
    {
     "data": {
      "text/plain": [
       "2.9586892051942333"
      ]
     },
     "execution_count": 6,
     "metadata": {},
     "output_type": "execute_result"
    }
   ],
   "source": [
    "sum_ret/1000"
   ]
  },
  {
   "cell_type": "code",
   "execution_count": 7,
   "metadata": {},
   "outputs": [
    {
     "data": {
      "text/plain": [
       "4.271682106738003"
      ]
     },
     "execution_count": 7,
     "metadata": {},
     "output_type": "execute_result"
    }
   ],
   "source": [
    "sum_work/1000"
   ]
  },
  {
   "cell_type": "markdown",
   "metadata": {},
   "source": [
    "When using linear_interp_vec_mon_rep something odd happens to the check_sum sum_work (3.528 vs 4.271)"
   ]
  },
  {
   "cell_type": "markdown",
   "metadata": {},
   "source": [
    "The model is comparable with the version in matlab.\n",
    "I have not added 10 points on the constraint, when doing egm."
   ]
  },
  {
   "cell_type": "markdown",
   "metadata": {},
   "source": [
    "When the upper envelope is invoked the results differ a bit more"
   ]
  },
  {
   "cell_type": "markdown",
   "metadata": {},
   "source": [
    "# Timing"
   ]
  },
  {
   "cell_type": "code",
   "execution_count": 8,
   "metadata": {},
   "outputs": [],
   "source": [
    "import time"
   ]
  },
  {
   "cell_type": "code",
   "execution_count": 9,
   "metadata": {},
   "outputs": [
    {
     "name": "stdout",
     "output_type": "stream",
     "text": [
      "Iteration 18 : 0.0409235954284668\n",
      "envelope\n",
      "\n",
      "Iteration 17 : 0.054886817932128906\n",
      "envelope\n",
      "\n",
      "Iteration 16 : 0.05241584777832031\n",
      "envelope\n",
      "\n",
      "Iteration 15 : 0.05140519142150879\n",
      "envelope\n",
      "\n",
      "Iteration 14 : 0.07180261611938477\n",
      "envelope\n",
      "\n",
      "Iteration 13 : 0.06587600708007812\n",
      "envelope\n",
      "\n",
      "Iteration 12 : 0.053899288177490234\n",
      "Iteration 11 : 0.03892922401428223\n",
      "Iteration 10 : 0.04839277267456055\n",
      "Iteration 9 : 0.04541635513305664\n",
      "Iteration 8 : 0.04841041564941406\n",
      "Iteration 7 : 0.06088900566101074\n",
      "Iteration 6 : 0.06884956359863281\n",
      "Iteration 5 : 0.07136750221252441\n",
      "Iteration 4 : 0.07885408401489258\n",
      "Iteration 3 : 0.07136678695678711\n",
      "Iteration 2 : 0.05340003967285156\n",
      "Iteration 1 : 0.055898189544677734\n",
      "Iteration 0 : 0.057871103286743164\n",
      "with numba it takes: 1.1218657493591309\n"
     ]
    }
   ],
   "source": [
    "model = RetirementModelClass(name='baseline',solmethod='egm')\n",
    "tic = time.time()\n",
    "model.solve()\n",
    "toc = time.time()\n",
    "\n",
    "print('with numba it takes:', toc-tic)"
   ]
  },
  {
   "cell_type": "code",
   "execution_count": 10,
   "metadata": {},
   "outputs": [
    {
     "name": "stdout",
     "output_type": "stream",
     "text": [
      "Iteration 18 : 0.04391765594482422\n",
      "envelope\n",
      "\n",
      "Iteration 17 : 0.0489039421081543\n",
      "envelope\n",
      "\n",
      "Iteration 16 : 0.055397748947143555\n",
      "envelope\n",
      "\n",
      "Iteration 15 : 0.055419206619262695\n",
      "envelope\n",
      "\n",
      "Iteration 14 : 0.05389666557312012\n",
      "envelope\n",
      "\n",
      "Iteration 13 : 0.059389352798461914\n",
      "envelope\n",
      "\n",
      "Iteration 12 : 0.08484363555908203\n",
      "Iteration 11 : 0.08933424949645996\n",
      "Iteration 10 : 0.06737351417541504\n",
      "Iteration 9 : 0.05739474296569824\n",
      "Iteration 8 : 0.07236599922180176\n",
      "Iteration 7 : 0.07336235046386719\n",
      "Iteration 6 : 0.04441714286804199\n",
      "Iteration 5 : 0.04840826988220215\n",
      "Iteration 4 : 0.06138801574707031\n",
      "Iteration 3 : 0.07086873054504395\n",
      "Iteration 2 : 0.0459136962890625\n",
      "Iteration 1 : 0.04543733596801758\n",
      "Iteration 0 : 0.04241776466369629\n",
      "         295933 function calls in 1.154 seconds\n",
      "\n",
      "   Ordered by: standard name\n",
      "\n",
      "   ncalls  tottime  percall  cumtime  percall filename:lineno(function)\n",
      "        1    0.000    0.000    1.154    1.154 <string>:1(<module>)\n",
      "        1    0.000    0.000    0.001    0.001 RetirementModel.py:215(_solve_prep)\n",
      "        1    0.000    0.000    1.154    1.154 RetirementModel.py:230(solve)\n",
      "        6    0.000    0.000    0.000    0.000 decorators.py:163(_jit)\n",
      "        6    0.000    0.000    0.000    0.000 decorators.py:166(wrapper)\n",
      "        6    0.000    0.000    0.000    0.000 decorators.py:210(njit)\n",
      "        6    0.000    0.000    0.000    0.000 decorators.py:34(jit)\n",
      "       19    0.001    0.000    0.001    0.000 egm.py:11(is_sorted)\n",
      "       19    0.001    0.000    0.080    0.004 egm.py:18(solve_bellman)\n",
      "       38    0.000    0.000    0.001    0.000 fromnumeric.py:1966(sum)\n",
      "       19    0.000    0.000    0.000    0.000 fromnumeric.py:54(_wrapfunc)\n",
      "       38    0.000    0.000    0.001    0.000 fromnumeric.py:69(_wrapreduction)\n",
      "       38    0.000    0.000    0.000    0.000 fromnumeric.py:70(<dictcomp>)\n",
      "       19    0.000    0.000    0.000    0.000 fromnumeric.py:942(argsort)\n",
      "       19    0.023    0.001    0.023    0.001 funs.py:37(logsum_vec)\n",
      "      182    0.001    0.000    0.038    0.000 iostream.py:195(schedule)\n",
      "      176    0.000    0.000    0.000    0.000 iostream.py:307(_is_master_process)\n",
      "      176    0.000    0.000    0.001    0.000 iostream.py:320(_schedule_flush)\n",
      "      176    0.001    0.000    0.040    0.000 iostream.py:382(write)\n",
      "      182    0.000    0.000    0.000    0.000 iostream.py:93(_event_pipe)\n",
      "        1    0.000    0.000    0.000    0.000 last_period.py:6(solve)\n",
      "    96900    0.461    0.000    0.461    0.000 linear_interp.py:14(binary_search)\n",
      "    96900    0.090    0.000    0.934    0.000 linear_interp_1d.py:35(interp_1d)\n",
      "    96900    0.383    0.000    0.383    0.000 linear_interp_1d.py:5(_interp_1d)\n",
      "      114    0.069    0.001    1.003    0.009 linear_interp_1d.py:56(interp_1d_vec)\n",
      "       19    0.000    0.000    0.001    0.000 numeric.py:112(zeros_like)\n",
      "        1    0.000    0.000    0.000    0.000 numeric.py:175(ones)\n",
      "       19    0.005    0.000    1.039    0.055 post_decision.py:13(compute)\n",
      "        6    0.000    0.000    0.000    0.000 registry.py:95(__getitem__)\n",
      "        6    0.000    0.000    0.000    0.000 sigutils.py:6(is_signature)\n",
      "      182    0.036    0.000    0.036    0.000 socket.py:337(send)\n",
      "       39    0.000    0.000    0.000    0.000 special.py:16(__new__)\n",
      "      182    0.000    0.000    0.000    0.000 threading.py:1038(_wait_for_tstate_lock)\n",
      "      182    0.000    0.000    0.001    0.000 threading.py:1080(is_alive)\n",
      "      182    0.000    0.000    0.000    0.000 threading.py:507(is_set)\n",
      "        6    0.000    0.000    0.000    0.000 upperenvelope.py:10(create)\n",
      "        6    0.066    0.011    0.070    0.012 upperenvelope.py:24(upperenvelope)\n",
      "       38    0.001    0.000    0.001    0.000 utility.py:11(inv_marg_func)\n",
      "     1863    0.004    0.000    0.004    0.000 utility.py:3(func)\n",
      "       57    0.007    0.000    0.007    0.000 utility.py:7(marg_func)\n",
      "       19    0.000    0.000    0.000    0.000 {built-in method builtins.abs}\n",
      "        1    0.000    0.000    1.154    1.154 {built-in method builtins.exec}\n",
      "       19    0.000    0.000    0.000    0.000 {built-in method builtins.getattr}\n",
      "      226    0.000    0.000    0.000    0.000 {built-in method builtins.isinstance}\n",
      "       38    0.000    0.000    0.000    0.000 {built-in method builtins.len}\n",
      "       31    0.001    0.000    0.041    0.001 {built-in method builtins.print}\n",
      "      176    0.000    0.000    0.000    0.000 {built-in method nt.getpid}\n",
      "       20    0.000    0.000    0.000    0.000 {built-in method numpy.copyto}\n",
      "       19    0.000    0.000    0.000    0.000 {built-in method numpy.empty_like}\n",
      "        1    0.000    0.000    0.000    0.000 {built-in method numpy.empty}\n",
      "       28    0.000    0.000    0.000    0.000 {built-in method numpy.zeros}\n",
      "       38    0.000    0.000    0.000    0.000 {built-in method time.time}\n",
      "        6    0.000    0.000    0.000    0.000 {function TargetRegistry.__getitem__ at 0x000002439AD6F8C8}\n",
      "      182    0.000    0.000    0.000    0.000 {method 'acquire' of '_thread.lock' objects}\n",
      "      182    0.000    0.000    0.000    0.000 {method 'append' of 'collections.deque' objects}\n",
      "       19    0.000    0.000    0.000    0.000 {method 'argsort' of 'numpy.ndarray' objects}\n",
      "        1    0.000    0.000    0.000    0.000 {method 'disable' of '_lsprof.Profiler' objects}\n",
      "       38    0.000    0.000    0.000    0.000 {method 'items' of 'dict' objects}\n",
      "       38    0.001    0.000    0.001    0.000 {method 'reduce' of 'numpy.ufunc' objects}\n",
      "      114    0.000    0.000    0.000    0.000 {method 'reshape' of 'numpy.ndarray' objects}\n",
      "        6    0.000    0.000    0.000    0.000 {method 'update' of 'dict' objects}\n",
      "\n",
      "\n"
     ]
    }
   ],
   "source": [
    "import cProfile\n",
    "cProfile.run('model.solve()')"
   ]
  },
  {
   "cell_type": "code",
   "execution_count": null,
   "metadata": {},
   "outputs": [],
   "source": []
  }
 ],
 "metadata": {
  "kernelspec": {
   "display_name": "Python 3",
   "language": "python",
   "name": "python3"
  },
  "language_info": {
   "codemirror_mode": {
    "name": "ipython",
    "version": 3
   },
   "file_extension": ".py",
   "mimetype": "text/x-python",
   "name": "python",
   "nbconvert_exporter": "python",
   "pygments_lexer": "ipython3",
   "version": "3.7.3"
  }
 },
 "nbformat": 4,
 "nbformat_minor": 2
}
