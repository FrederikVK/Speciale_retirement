{
 "cells": [
  {
   "cell_type": "markdown",
   "metadata": {},
   "source": [
    "We set up a dynamic household model with consumption and retirement choices"
   ]
  },
  {
   "cell_type": "markdown",
   "metadata": {},
   "source": [
    "We consider a household consisting of two members indexed by $j=h,w$ (for husband and wife resp.) In each period the household maximize the expected discounted utility by choosing household (joint) consumption $C_t$ and a discrete leisure (retirement) choice for both members $d_t^j \\in \\{0,1\\}$ ($d_t^j=1$ if member $j$ is working). We assume for simplicity that retirement is absorbing (reentering the labor market is not allowed) and that agents are forced to retire at age $T_r=77$. Finally we assume that agents live at most to age $T=110$. The choice set for each member in the household can therefore be written as:\n",
    "\n",
    "$$\n",
    "\\begin{cases}\n",
    "C_t \\in \\mathcal{R} \\wedge d_t^j \\in \\{0,1\\} \\quad &| \\quad d_{t-1}^j = 1 \\wedge t<T_r<T \\\\\n",
    "C_t \\in \\mathcal{R} \\wedge d_t^j = 0 \\quad &| \\quad d_{t-1}^j = 0 \\vee T_r \\leq t < T\n",
    "\\end{cases}\n",
    "$$\n",
    "\n",
    "In each period the choices are based on the states $(\\pmb{s}_t,\\varepsilon_t)$, where $\\pmb{s}_t$ is observable to both the household and econometrician, while $\\varepsilon_t$ is only observable to the household. As is standard in the literature we assume $\\varepsilon_t$ is extreme value distributed, since this yields closed form solutions. \n",
    "\n",
    "The Bellman equation for working couples (both are younger than $T_r$) is given by:\n",
    "\n",
    "$$\n",
    "V_t(\\pmb{s}_t,\\varepsilon_t) = \n",
    "\\max_{C_t,d_t^h,d_t^w} \\lbrace{\n",
    "U \\left(C_t,d_t^h,d_t^w,\\pmb{s}_t \\right) + \\sigma_{\\varepsilon} \\varepsilon_t \\left(d_t^h,d_t^w \\right) + \n",
    "\\beta \\pmb{E}_t \\left[\n",
    "\\pi_{t+1}^h \\pi_{t+1}^w V_{t+1} \\left(\\pmb{s}_t,\\varepsilon_t \\right) \\\\+ \n",
    "\\pi_{t+1}^h (1 - \\pi_{t+1})^w V_{t+1}^h \\left(\\pmb{s}_t^h,\\varepsilon_t^h \\right) + \n",
    "(1 - \\pi_{t+1}^h) \\pi_{t+1}^w V_{t+1}^w \\left(\\pmb{s}_t^w,\\varepsilon_t^w \\right) \\\\+\n",
    "(1 - \\pi_{t+1}^h) (1 - \\pi_{t+1}^w) B(a_t)\n",
    "\\right]\n",
    "\\rbrace}\n",
    "$$\n",
    "\n",
    "$U(\\cdot)$ is the utility function, $B(\\cdot)$ is a bequest function, $\\beta$ is the dicount factor, $\\pi_s^j$ is the conditional survival probability (probability of member $j$ surviving from $s-1$ to $s$) and $\\pmb{E}_s[\\cdot]$ is the expectation operator conditional on information in period $s$. Finally $\\sigma_{\\varepsilon}$ is a scaling parameter equal to the variance of the taste shocks. We interpret the taste shocks as a form of error term capturing the heterogeneity the model is uncapable of fitting. As such $\\sigma_{\\varepsilon}$ can be seen as a measure of how well the model fits the data. If $\\sigma_{\\varepsilon}=0$ then the model is deterministic and delivers a perfect fit to the data. If $\\sigma_{\\varepsilon}$ then the model delivers probabilistic statements about the retirement decision. \n",
    "\n",
    "When solving the problem households has to comply with the budget constraint given by:\n",
    "\n",
    "$$\n",
    "C_t + a_t = Ra_{t-1} + \\sum_{j\\in\\{h,w\\}} \\left[T \\left(y_t^j,y_t^{-j} \\right) + P^j (\\pmb{s}_t) \\right]\n",
    "$$\n",
    "\n",
    "$a_t \\geq 0$ is end of period wealth, which is restricted to be non-negative in all periods. $T \\left(t_t^j,y_t^{-j} \\right)$ is post-tax labor income of household member $j$ (which potentially depends on the income of the spouse through the tax system). $P^j(\\pmb{s}_t)$ is pension benefits (ERP and OAP) for member $j$, which depends on labor market status of each spouse, whether member $j$ is eligible to ERP and private pension wealth. "
   ]
  },
  {
   "cell_type": "markdown",
   "metadata": {},
   "source": [
    "State variables and transitions\n",
    "\n",
    "The observed state variables $\\pmb{s}_t$ is a collection of\n",
    "\n",
    "$$\n",
    "\\pmb{s}_t = \\left(age_t^h,age_t^w,d_t^h,d_t^w,y_t^h,y_t^w,\\zeta_t^h,\\zeta_t^w,hs^h,hs^w,e^h,e^w,a_{t-1} \\right)\n",
    "$$\n",
    "\n",
    "where\n",
    "\n",
    "$$\n",
    "age_t^j \\in \\{57,110\\}: \\text{Age of household member } j, \\\\\n",
    "d_t^j \\in \\{0,1\\}: \\text{Labor market status in end of period } t \\text{. 0: retired, 1: working,} \\\\\n",
    "y_t^j \\in \\mathcal{R}_+: \\text{Labor income of member j in period } t \\\\\n",
    "\\zeta_t^j \\in \\mathcal{R}_+\n",
    "$$\n",
    "\n",
    "We distinguish between the state variables for which we solve the model $\\pmb{s}_t^{in}$ and state variables that are estimated outside of the model $\\pmb{s}_t^{out}$. $\\pmb{s}_t^{in}$ is given by"
   ]
  },
  {
   "cell_type": "code",
   "execution_count": null,
   "metadata": {},
   "outputs": [],
   "source": []
  },
  {
   "cell_type": "code",
   "execution_count": null,
   "metadata": {},
   "outputs": [],
   "source": []
  },
  {
   "cell_type": "markdown",
   "metadata": {},
   "source": [
    "Bellman equation for single individual j working in period t:\n",
    "$$V_{t}(s_{t}^{j},\\varepsilon_{t}^{j})=\\underset{C_{t},d_{t}^{j}}{max}\\left\\{ U^{j}(C_{t},d_{t}^{j},s_{t}^{j})+\\sigma_{\\varepsilon}\\varepsilon_{t}(d_{t}^{j})+\\beta E_{t}\\left[\\pi_{t+1}^{j}V_{t+1}^{j}(s_{t+1}^{j},\\varepsilon_{t+1}^{j})+(1-\\pi_{t+1}^{j})B(a_{t})\\right]\\right\\} $$\n",
    "\n",
    "Bellman equation for single individual j retired in period t:\n",
    "$$V_{t}(s_{t}^{j},\\varepsilon_{t}^{j})=\\underset{C_{t},d_{t}^{j}}{max}\\left\\{ U^{j}(C_{t},0,s_{t}^{j})+\\beta E_{t}\\left[\\pi_{t+1}^{j}V_{t+1}^{j}(s_{t+1}^{j},\\varepsilon_{t+1}^{j})+(1-\\pi_{t+1}^{j})B(a_{t})\\right]\\right\\} $$\n",
    "\n",
    "Budget constraint:\n",
    "$$\\underset{=m_{t}}{\\underbrace{C_{t}+a_{t}}}=Ra_{t-1}+y_{t}^{j}+P^j(s_t)$$\n",
    "\n",
    "The bequest motive:\n",
    "$$B(a_{t})=\\gamma a_{t}$$\n",
    "\n",
    "Preferences (CRRA):\n",
    "$$U^{j}(C_{t},d_{t}^{j},s_{t}^{j})=\\frac{C_{t}^{1-\\rho}}{1-\\rho}+\\alpha^{j}(s_{t}^{j})1_{\\left\\{ d_{t}^{j}=0\\right\\} }$$\n",
    "\n",
    "State variables:\n",
    "$$s_t = (age^j_t, d^j_t, y^j_t, \\zeta_t,e^j,, elig^j, ch^j, a_{t-1})$$\n",
    "\n",
    "We have not included the two state variables Grandchilden and health. \n",
    "Vi har efter bedste evne taget parametrene fra din artikel til modelløsningen."
   ]
  },
  {
   "cell_type": "markdown",
   "metadata": {},
   "source": [
    "# Recalculate solution"
   ]
  },
  {
   "cell_type": "markdown",
   "metadata": {},
   "source": [
    "The pension payment depends on the retirement age. For instance: \n",
    "\n",
    "- if one retires prior to age 60, then one give up the claims of erp, and first potential pension payment is oap at age 65\n",
    "- if one retires at age 60 or 61, then one gets low amount of erp (not satisfying the two year rule) until 64, and from 65 one gets oap.\n",
    "- if one retires at age 62, 63 or 64, then one gets high amount of erp (satisfying the two year rule) until 64, and from 65 one gets oap.\n",
    "- if one retires at age 65 or later, then one gets oap\n",
    "\n",
    "In reality the retirement age is a state variable, which is determined by the retirement choice. This state variable we can denote $R_{status}$ and can take on three different values, which is determined as follows:\n",
    "\n",
    "$$\n",
    "R_{status}\n",
    "\\begin{cases}\n",
    "0 \\quad &\\text{if retirement age} >= 62 \\\\\n",
    "1 \\quad &\\text{if retirement age} \\in [60,61] \\\\\n",
    "2 \\quad &\\text{if retirement age} < 60\n",
    "\\end{cases}\n",
    "$$\n",
    "\n",
    "As described above the erp payment is a function of $R_{status}$, while oap payment is not (everyone can get oap)\n",
    "\n",
    "When solving the model backwards the solution has no knowledge of, when the agent will choose to retire. And therefore the solution has no knowledge of $R_{status}$ and the correct pension payment. We therefore need to solve the model for all possible realizations (3) of $R_{status}$. However this is time consuming and for many time periods the solution is independent of $R_{status}$, since oap payment is independent of $R_{status}$.\n",
    "\n",
    "Therefore we solve the model in the following way. From $T=110$ until $t=63$ we solve the model normally. Due to the timing the agent at $t=63$ will have to make the retirement choice for $t+1=64$. Thus $t=63$ is the first time we hit a time period, where the agents retirement choice will have consequences for the pension payments, since this is the first time he can choose to claim erp payments. \n",
    "\n",
    "Therefore when we hit $t=63$ we solve the model for each possible value in $R_{status}$ (3 times). The same is done for $t=62$ and $t=63$. "
   ]
  },
  {
   "cell_type": "code",
   "execution_count": null,
   "metadata": {},
   "outputs": [],
   "source": []
  },
  {
   "cell_type": "code",
   "execution_count": 1,
   "metadata": {},
   "outputs": [],
   "source": [
    "import numpy as np"
   ]
  },
  {
   "cell_type": "code",
   "execution_count": 2,
   "metadata": {},
   "outputs": [
    {
     "name": "stdout",
     "output_type": "stream",
     "text": [
      "True: 1\n"
     ]
    }
   ],
   "source": [
    "def f1(x):\n",
    "    return x**2\n",
    "\n",
    "mu = 0\n",
    "sigma = 1\n",
    "print('True:',sigma**2)"
   ]
  },
  {
   "cell_type": "code",
   "execution_count": 3,
   "metadata": {},
   "outputs": [
    {
     "data": {
      "text/plain": [
       "1.0062749745060726"
      ]
     },
     "execution_count": 3,
     "metadata": {},
     "output_type": "execute_result"
    }
   ],
   "source": [
    "np.random.seed(2019)\n",
    "N = 10000\n",
    "np.mean(f1(np.random.normal(mu,sigma,size=N)))"
   ]
  },
  {
   "cell_type": "code",
   "execution_count": 4,
   "metadata": {},
   "outputs": [
    {
     "data": {
      "text/plain": [
       "1.0000000000000004"
      ]
     },
     "execution_count": 4,
     "metadata": {},
     "output_type": "execute_result"
    }
   ],
   "source": [
    "N = 10\n",
    "xi,w = np.polynomial.hermite.hermgauss(N)\n",
    "xi = np.sqrt(2)*sigma*xi+mu\n",
    "w = w/np.sqrt(np.pi)\n",
    "np.sum(w*f1(xi))"
   ]
  },
  {
   "cell_type": "code",
   "execution_count": 5,
   "metadata": {},
   "outputs": [
    {
     "name": "stdout",
     "output_type": "stream",
     "text": [
      "True: 3.0\n"
     ]
    }
   ],
   "source": [
    "def f2(x1,x2):\n",
    "    return (x1+x2)**2\n",
    "\n",
    "mean = np.array([0,0])\n",
    "cov = np.array(([1, 0.5], [0.5, 1]))\n",
    "print('True:',np.sum(cov))"
   ]
  },
  {
   "cell_type": "code",
   "execution_count": 6,
   "metadata": {},
   "outputs": [
    {
     "data": {
      "text/plain": [
       "3.0021838124258626"
      ]
     },
     "execution_count": 6,
     "metadata": {},
     "output_type": "execute_result"
    }
   ],
   "source": [
    "np.random.seed(2019)\n",
    "N = 1000000\n",
    "draws = np.random.multivariate_normal(mean,cov,size=N)\n",
    "np.mean(f2(draws[:,0],draws[:,1]))"
   ]
  },
  {
   "cell_type": "code",
   "execution_count": 7,
   "metadata": {},
   "outputs": [
    {
     "data": {
      "text/plain": [
       "array([[0.00000000e+00, 0.00000000e+00],\n",
       "       [0.00000000e+00, 1.11022302e-16]])"
      ]
     },
     "execution_count": 7,
     "metadata": {},
     "output_type": "execute_result"
    }
   ],
   "source": [
    "chol = np.linalg.cholesky(cov)\n",
    "cov - chol @ np.transpose(chol)"
   ]
  },
  {
   "cell_type": "code",
   "execution_count": 8,
   "metadata": {},
   "outputs": [],
   "source": [
    "N1 = 8\n",
    "N2 = 8\n",
    "xi,wi = np.polynomial.hermite.hermgauss(N1)\n",
    "xj,wj = np.polynomial.hermite.hermgauss(N2)\n",
    "\n",
    "xi = np.sqrt(2)*xi\n",
    "wi = wi/np.sqrt(np.pi)\n",
    "xj = np.sqrt(2)*xj\n",
    "wj = wj/np.sqrt(np.pi)"
   ]
  },
  {
   "cell_type": "code",
   "execution_count": 9,
   "metadata": {},
   "outputs": [
    {
     "data": {
      "text/plain": [
       "3.0000000000000013"
      ]
     },
     "execution_count": 9,
     "metadata": {},
     "output_type": "execute_result"
    }
   ],
   "source": [
    "sm = 0\n",
    "for i in range(len(wi)):\n",
    "    for j in range(len(wj)):\n",
    "        sm += wi[i]*wj[j]*f2(chol[0,0]*xi[i] + mean[0], chol[1,0]*xi[i] + chol[1,1]*xj[j] + mean[1])\n",
    "sm"
   ]
  },
  {
   "cell_type": "code",
   "execution_count": 13,
   "metadata": {},
   "outputs": [],
   "source": [
    "xi,xj = np.meshgrid(xi,xj,indexing='ij')\n",
    "xi,xj = xi.ravel(),xj.ravel()\n",
    "wi,wj = np.meshgrid(wi,wj,indexing='ij')\n",
    "wi,wj = wi.ravel(),wj.ravel()\n",
    "\n",
    "xj = chol[1,0]*xi + chol[1,1]*xj + mean[1]\n",
    "xi = chol[0,0]*xi + mean[0]"
   ]
  },
  {
   "cell_type": "code",
   "execution_count": 14,
   "metadata": {},
   "outputs": [
    {
     "data": {
      "text/plain": [
       "3.000000000000001"
      ]
     },
     "execution_count": 14,
     "metadata": {},
     "output_type": "execute_result"
    }
   ],
   "source": [
    "np.sum(wi*wj*f2(xi, xj))\n",
    "#np.sum(wi*wj*f2(chol[0,0]*xi + mean[0], chol[1,0]*xi + chol[1,1]*xj + mean[1]))"
   ]
  },
  {
   "cell_type": "code",
   "execution_count": 5,
   "metadata": {},
   "outputs": [],
   "source": [
    "import funs"
   ]
  },
  {
   "cell_type": "code",
   "execution_count": 6,
   "metadata": {},
   "outputs": [
    {
     "ename": "ValueError",
     "evalue": "The truth value of an array with more than one element is ambiguous. Use a.any() or a.all()",
     "output_type": "error",
     "traceback": [
      "\u001b[1;31m---------------------------------------------------------------------------\u001b[0m",
      "\u001b[1;31mValueError\u001b[0m                                Traceback (most recent call last)",
      "\u001b[1;32m<ipython-input-6-4d74ad1ec3fe>\u001b[0m in \u001b[0;36m<module>\u001b[1;34m\u001b[0m\n\u001b[1;32m----> 1\u001b[1;33m \u001b[0mfuns\u001b[0m\u001b[1;33m.\u001b[0m\u001b[0mGH_lognorm_corr\u001b[0m\u001b[1;33m(\u001b[0m\u001b[1;36m1\u001b[0m\u001b[1;33m,\u001b[0m\u001b[1;36m1\u001b[0m\u001b[1;33m,\u001b[0m\u001b[1;36m0.5\u001b[0m\u001b[1;33m,\u001b[0m\u001b[1;36m8\u001b[0m\u001b[1;33m,\u001b[0m\u001b[1;36m8\u001b[0m\u001b[1;33m)\u001b[0m\u001b[1;33m\u001b[0m\u001b[1;33m\u001b[0m\u001b[0m\n\u001b[0m",
      "\u001b[1;32m~\\Desktop\\speciale_retirement\\kode\\Speciale_retirement\\Main\\funs.py\u001b[0m in \u001b[0;36mGH_lognorm_corr\u001b[1;34m(sigma_men, sigma_women, cov, Nxi_men, Nxi_women)\u001b[0m\n\u001b[0;32m     32\u001b[0m     \u001b[0mcov_matrix\u001b[0m \u001b[1;33m=\u001b[0m \u001b[0mnp\u001b[0m\u001b[1;33m.\u001b[0m\u001b[0marray\u001b[0m\u001b[1;33m(\u001b[0m\u001b[1;33m(\u001b[0m\u001b[1;33m[\u001b[0m\u001b[0msigma_men\u001b[0m\u001b[1;33m,\u001b[0m \u001b[0mcov\u001b[0m\u001b[1;33m]\u001b[0m\u001b[1;33m,\u001b[0m \u001b[1;33m[\u001b[0m\u001b[0mcov\u001b[0m\u001b[1;33m,\u001b[0m \u001b[0msigma_women\u001b[0m\u001b[1;33m]\u001b[0m\u001b[1;33m)\u001b[0m\u001b[1;33m)\u001b[0m\u001b[1;33m\u001b[0m\u001b[1;33m\u001b[0m\u001b[0m\n\u001b[0;32m     33\u001b[0m     \u001b[0mchol\u001b[0m \u001b[1;33m=\u001b[0m \u001b[0mnp\u001b[0m\u001b[1;33m.\u001b[0m\u001b[0mlinalg\u001b[0m\u001b[1;33m.\u001b[0m\u001b[0mcholesky\u001b[0m\u001b[1;33m(\u001b[0m\u001b[0mcov_matrix\u001b[0m\u001b[1;33m)\u001b[0m\u001b[1;33m\u001b[0m\u001b[1;33m\u001b[0m\u001b[0m\n\u001b[1;32m---> 34\u001b[1;33m     \u001b[1;32massert\u001b[0m\u001b[1;33m(\u001b[0m\u001b[0mnp\u001b[0m\u001b[1;33m.\u001b[0m\u001b[0marray_equal\u001b[0m\u001b[1;33m(\u001b[0m\u001b[0mcov_matrix\u001b[0m\u001b[1;33m,\u001b[0m \u001b[0mchol\u001b[0m \u001b[1;33m@\u001b[0m \u001b[0mnp\u001b[0m\u001b[1;33m.\u001b[0m\u001b[0mtranspose\u001b[0m\u001b[1;33m(\u001b[0m\u001b[0mchol\u001b[0m\u001b[1;33m)\u001b[0m\u001b[1;33m)\u001b[0m\u001b[1;33m)\u001b[0m\u001b[1;33m\u001b[0m\u001b[1;33m\u001b[0m\u001b[0m\n\u001b[0m\u001b[0;32m     35\u001b[0m \u001b[1;33m\u001b[0m\u001b[0m\n\u001b[0;32m     36\u001b[0m     \u001b[0mx1\u001b[0m\u001b[1;33m,\u001b[0m\u001b[0mw1\u001b[0m \u001b[1;33m=\u001b[0m \u001b[0mnp\u001b[0m\u001b[1;33m.\u001b[0m\u001b[0mmeshgrid\u001b[0m\u001b[1;33m(\u001b[0m\u001b[0mx1\u001b[0m\u001b[1;33m,\u001b[0m\u001b[0mw1\u001b[0m\u001b[1;33m,\u001b[0m\u001b[0mindexing\u001b[0m\u001b[1;33m=\u001b[0m\u001b[1;34m'ij'\u001b[0m\u001b[1;33m)\u001b[0m\u001b[1;33m\u001b[0m\u001b[1;33m\u001b[0m\u001b[0m\n",
      "\u001b[1;31mValueError\u001b[0m: The truth value of an array with more than one element is ambiguous. Use a.any() or a.all()"
     ]
    }
   ],
   "source": [
    "funs.GH_lognorm_corr(1,1,0.5,8,8)"
   ]
  },
  {
   "cell_type": "code",
   "execution_count": 7,
   "metadata": {},
   "outputs": [
    {
     "data": {
      "text/plain": [
       "True"
      ]
     },
     "execution_count": 7,
     "metadata": {},
     "output_type": "execute_result"
    }
   ],
   "source": [
    "np.array_equal([1, 2], [1, 2])"
   ]
  },
  {
   "cell_type": "code",
   "execution_count": 8,
   "metadata": {},
   "outputs": [],
   "source": [
    "cov = np.array(([1,2],[2,1]))"
   ]
  },
  {
   "cell_type": "code",
   "execution_count": 10,
   "metadata": {},
   "outputs": [
    {
     "data": {
      "text/plain": [
       "True"
      ]
     },
     "execution_count": 10,
     "metadata": {},
     "output_type": "execute_result"
    }
   ],
   "source": [
    "np.array_equal(cov,cov)"
   ]
  },
  {
   "cell_type": "code",
   "execution_count": null,
   "metadata": {},
   "outputs": [],
   "source": []
  }
 ],
 "metadata": {
  "kernelspec": {
   "display_name": "Python 3",
   "language": "python",
   "name": "python3"
  },
  "language_info": {
   "codemirror_mode": {
    "name": "ipython",
    "version": 3
   },
   "file_extension": ".py",
   "mimetype": "text/x-python",
   "name": "python",
   "nbconvert_exporter": "python",
   "pygments_lexer": "ipython3",
   "version": "3.7.3"
  }
 },
 "nbformat": 4,
 "nbformat_minor": 2
}
