{
 "cells": [
  {
   "cell_type": "markdown",
   "metadata": {},
   "source": [
    "# Single Model"
   ]
  },
  {
   "cell_type": "markdown",
   "metadata": {},
   "source": [
    "Bellman equation for single individual j working in period t:\n",
    "$$V_{t}(s_{t}^{j},\\varepsilon_{t}^{j})=\\underset{C_{t},d_{t}^{j}}{max}\\left\\{ U^{j}(C_{t},d_{t}^{j},s_{t}^{j})+\\sigma_{\\varepsilon}\\varepsilon_{t}(d_{t}^{j})+\\beta E_{t}\\left[\\pi_{t+1}^{j}V_{t+1}^{j}(s_{t+1}^{j},\\varepsilon_{t+1}^{j})+(1-\\pi_{t+1}^{j})B(a_{t})\\right]\\right\\} $$\n",
    "\n",
    "Bellman equation for single individual j retired in period t:\n",
    "$$V_{t}(s_{t}^{j},\\varepsilon_{t}^{j})=\\underset{C_{t},d_{t}^{j}}{max}\\left\\{ U^{j}(C_{t},0,s_{t}^{j})+\\beta E_{t}\\left[\\pi_{t+1}^{j}V_{t+1}^{j}(s_{t+1}^{j},\\varepsilon_{t+1}^{j})+(1-\\pi_{t+1}^{j})B(a_{t})\\right]\\right\\} $$\n",
    "\n",
    "Budget constraint:\n",
    "$$\\underset{=m_{t}}{\\underbrace{C_{t}+a_{t}}}=Ra_{t-1}+y_{t}^{j}+P^j(s_t)$$\n",
    "\n",
    "The bequest motive:\n",
    "$$B(a_{t})=\\gamma a_{t}$$\n",
    "\n",
    "Preferences (CRRA):\n",
    "$$U^{j}(C_{t},d_{t}^{j},s_{t}^{j})=\\frac{C_{t}^{1-\\rho}}{1-\\rho}+\\alpha^{j}(s_{t}^{j})1_{\\left\\{ d_{t}^{j}=0\\right\\} }$$\n",
    "\n",
    "State variables:\n",
    "$$s_t = (age^j_t, d^j_t, y^j_t, \\zeta_t,e^j,, elig^j, ch^j, a_{t-1})$$\n",
    "\n",
    "We have not included the two state variables Grandchilden and health. \n",
    "Vi har efter bedste evne taget parametrene fra din artikel til modelløsningen."
   ]
  },
  {
   "cell_type": "markdown",
   "metadata": {},
   "source": [
    "# Recalculate solution"
   ]
  },
  {
   "cell_type": "markdown",
   "metadata": {},
   "source": [
    "The pension payment depends on the retirement age. For instance: \n",
    "\n",
    "- if one retires prior to age 60, then one give up the claims of erp, and first potential pension payment is oap at age 65\n",
    "- if one retires at age 60 or 61, then one gets low amount of erp (not satisfying the two year rule) until 64, and from 65 one gets oap.\n",
    "- if one retires at age 62, 63 or 64, then one gets high amount of erp (satisfying the two year rule) until 64, and from 65 one gets oap.\n",
    "- if one retires at age 65 or later, then one gets oap\n",
    "\n",
    "In reality the retirement age is a state variable, which is determined by the retirement choice. This state variable we can denote $R_{status}$ and can take on three different values, which is determined as follows:\n",
    "\n",
    "$$\n",
    "R_{status}\n",
    "\\begin{cases}\n",
    "0 \\quad &\\text{if retirement age} >= 62 \\\\\n",
    "1 \\quad &\\text{if retirement age} \\in [60,61] \\\\\n",
    "2 \\quad &\\text{if retirement age} < 60\n",
    "\\end{cases}\n",
    "$$\n",
    "\n",
    "As described above the erp payment is a function of $R_{status}$, while oap payment is not (everyone can get oap)\n",
    "\n",
    "When solving the model backwards the solution has no knowledge of, when the agent will choose to retire. And therefore the solution has no knowledge of $R_{status}$ and the correct pension payment. We therefore need to solve the model for all possible realizations (3) of $R_{status}$. However this is time consuming and for many time periods the solution is independent of $R_{status}$, since oap payment is independent of $R_{status}$.\n",
    "\n",
    "Therefore we solve the model in the following way. From $T=110$ until $t=63$ we solve the model normally. Due to the timing the agent at $t=63$ will have to make the retirement choice for $t+1=64$. Thus $t=63$ is the first time we hit a time period, where the agents retirement choice will have consequences for the pension payments, since this is the first time he can choose to claim erp payments. \n",
    "\n",
    "Therefore when we hit $t=63$ we solve the model for each possible value in $R_{status}$ (3 times). The same is done for $t=62$ and $t=63$. "
   ]
  }
 ],
 "metadata": {
  "kernelspec": {
   "display_name": "Python 3",
   "language": "python",
   "name": "python3"
  },
  "language_info": {
   "codemirror_mode": {
    "name": "ipython",
    "version": 3
   },
   "file_extension": ".py",
   "mimetype": "text/x-python",
   "name": "python",
   "nbconvert_exporter": "python",
   "pygments_lexer": "ipython3",
   "version": "3.7.3"
  }
 },
 "nbformat": 4,
 "nbformat_minor": 2
}
